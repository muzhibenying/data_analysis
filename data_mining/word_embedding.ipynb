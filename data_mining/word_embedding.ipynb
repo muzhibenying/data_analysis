{
 "metadata": {
  "language_info": {
   "codemirror_mode": {
    "name": "ipython",
    "version": 3
   },
   "file_extension": ".py",
   "mimetype": "text/x-python",
   "name": "python",
   "nbconvert_exporter": "python",
   "pygments_lexer": "ipython3",
   "version": "3.6.9"
  },
  "orig_nbformat": 2,
  "kernelspec": {
   "name": "python369jvsc74a57bd0398dc28c06ad810e77de546bbdfa897a6ee0b83e59a5207339dda01a7843e01d",
   "display_name": "Python 3.6.9 64-bit ('base': conda)"
  }
 },
 "nbformat": 4,
 "nbformat_minor": 2,
 "cells": [
  {
   "cell_type": "code",
   "execution_count": 2,
   "metadata": {},
   "outputs": [
    {
     "output_type": "execute_result",
     "data": {
      "text/plain": [
       "            mapbegin  mapbeginlon  mapbeginlat  mapbeginlon.1  mapbeginlat.1  \\\n",
       "0     民族大道光谷广场-公交站路东   114.386925    30.500459     114.398925      30.504459   \n",
       "1     民族大道光谷广场-公交站路东   114.386925    30.500459     114.398925      30.504459   \n",
       "2     民族大道光谷广场-公交站路东   114.386925    30.500459     114.398925      30.504459   \n",
       "3  纸坊|金逸影城(九全嘉国际广场店)   114.317790    30.354540     114.329790      30.358540   \n",
       "4        纸坊|美味传奇农家菜馆   114.306421    30.348027     114.318421      30.352027   \n",
       "\n",
       "      mapend   mapendlon  mapendlat  mapendlon.1  mapendlat.1  打车次数  \n",
       "0  光谷|曙光星城B区  114.391000  30.482508   114.403000    30.486508   174  \n",
       "1       光谷天地  114.397825  30.473273   114.409825    30.477273   158  \n",
       "2    光谷|丽顿酒店  114.410591  30.497201   114.422591    30.501201   145  \n",
       "3   纸坊|江夏体育馆  114.303393  30.349184   114.315393    30.353184   142  \n",
       "4  江夏区第一人民医院  114.308387  30.367964   114.320387    30.371964   140  "
      ],
      "text/html": "<div>\n<style scoped>\n    .dataframe tbody tr th:only-of-type {\n        vertical-align: middle;\n    }\n\n    .dataframe tbody tr th {\n        vertical-align: top;\n    }\n\n    .dataframe thead th {\n        text-align: right;\n    }\n</style>\n<table border=\"1\" class=\"dataframe\">\n  <thead>\n    <tr style=\"text-align: right;\">\n      <th></th>\n      <th>mapbegin</th>\n      <th>mapbeginlon</th>\n      <th>mapbeginlat</th>\n      <th>mapbeginlon.1</th>\n      <th>mapbeginlat.1</th>\n      <th>mapend</th>\n      <th>mapendlon</th>\n      <th>mapendlat</th>\n      <th>mapendlon.1</th>\n      <th>mapendlat.1</th>\n      <th>打车次数</th>\n    </tr>\n  </thead>\n  <tbody>\n    <tr>\n      <td>0</td>\n      <td>民族大道光谷广场-公交站路东</td>\n      <td>114.386925</td>\n      <td>30.500459</td>\n      <td>114.398925</td>\n      <td>30.504459</td>\n      <td>光谷|曙光星城B区</td>\n      <td>114.391000</td>\n      <td>30.482508</td>\n      <td>114.403000</td>\n      <td>30.486508</td>\n      <td>174</td>\n    </tr>\n    <tr>\n      <td>1</td>\n      <td>民族大道光谷广场-公交站路东</td>\n      <td>114.386925</td>\n      <td>30.500459</td>\n      <td>114.398925</td>\n      <td>30.504459</td>\n      <td>光谷天地</td>\n      <td>114.397825</td>\n      <td>30.473273</td>\n      <td>114.409825</td>\n      <td>30.477273</td>\n      <td>158</td>\n    </tr>\n    <tr>\n      <td>2</td>\n      <td>民族大道光谷广场-公交站路东</td>\n      <td>114.386925</td>\n      <td>30.500459</td>\n      <td>114.398925</td>\n      <td>30.504459</td>\n      <td>光谷|丽顿酒店</td>\n      <td>114.410591</td>\n      <td>30.497201</td>\n      <td>114.422591</td>\n      <td>30.501201</td>\n      <td>145</td>\n    </tr>\n    <tr>\n      <td>3</td>\n      <td>纸坊|金逸影城(九全嘉国际广场店)</td>\n      <td>114.317790</td>\n      <td>30.354540</td>\n      <td>114.329790</td>\n      <td>30.358540</td>\n      <td>纸坊|江夏体育馆</td>\n      <td>114.303393</td>\n      <td>30.349184</td>\n      <td>114.315393</td>\n      <td>30.353184</td>\n      <td>142</td>\n    </tr>\n    <tr>\n      <td>4</td>\n      <td>纸坊|美味传奇农家菜馆</td>\n      <td>114.306421</td>\n      <td>30.348027</td>\n      <td>114.318421</td>\n      <td>30.352027</td>\n      <td>江夏区第一人民医院</td>\n      <td>114.308387</td>\n      <td>30.367964</td>\n      <td>114.320387</td>\n      <td>30.371964</td>\n      <td>140</td>\n    </tr>\n  </tbody>\n</table>\n</div>"
     },
     "metadata": {},
     "execution_count": 2
    }
   ],
   "source": [
    "import pandas as pd \n",
    "\n",
    "df = pd.read_excel(\"../../武汉打车.xlsx\", engine = \"openpyxl\")\n",
    "df.head()"
   ]
  },
  {
   "cell_type": "code",
   "execution_count": 3,
   "metadata": {},
   "outputs": [
    {
     "output_type": "stream",
     "name": "stdout",
     "text": [
      "(381,)\n(381, 1)\n"
     ]
    }
   ],
   "source": [
    "import numpy as np \n",
    "\n",
    "mapbegin = df.mapbegin.unique()\n",
    "mapbeginlon = np.expand_dims(np.array(df.mapbeginlon.unique()), axis = 1)\n",
    "mapbeginlat = np.expand_dims(np.array(df.mapbeginlat.unique()), axis = 1)\n",
    "\n",
    "print(mapbegin.shape)\n",
    "print(mapbeginlon.shape)"
   ]
  },
  {
   "cell_type": "code",
   "execution_count": 4,
   "metadata": {},
   "outputs": [
    {
     "output_type": "stream",
     "name": "stdout",
     "text": [
      "(381, 96)\n"
     ]
    }
   ],
   "source": [
    "import spacy \n",
    "\n",
    "mapbegin_vector = []\n",
    "nlp = spacy.load(\"zh_core_web_sm\")\n",
    "\n",
    "for i in range(mapbegin.shape[0]):\n",
    "    mapbegin_vector.append(nlp(mapbegin[i]).vector)\n",
    "\n",
    "mapbegin_vector = np.array(mapbegin_vector)\n",
    "print(mapbegin_vector.shape)"
   ]
  }
 ]
}