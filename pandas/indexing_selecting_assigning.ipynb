{
 "metadata": {
  "language_info": {
   "codemirror_mode": {
    "name": "ipython",
    "version": 3
   },
   "file_extension": ".py",
   "mimetype": "text/x-python",
   "name": "python",
   "nbconvert_exporter": "python",
   "pygments_lexer": "ipython3",
   "version": "3.6.13"
  },
  "orig_nbformat": 2,
  "kernelspec": {
   "name": "python3613jvsc74a57bd09fd4cc9f5c6849889bfc41643af1611b60f66354faabb4e34ca471757c77d320",
   "display_name": "Python 3.6.13 64-bit ('dgl': conda)"
  }
 },
 "nbformat": 4,
 "nbformat_minor": 2,
 "cells": [
  {
   "cell_type": "code",
   "execution_count": 1,
   "metadata": {},
   "outputs": [],
   "source": [
    "import pandas as pd\n",
    "df = pd.read_excel(\"../武汉打车.xlsx\", engine = \"openpyxl\")"
   ]
  },
  {
   "source": [
    "### Native accessors\n"
   ],
   "cell_type": "markdown",
   "metadata": {}
  },
  {
   "cell_type": "code",
   "execution_count": 2,
   "metadata": {},
   "outputs": [
    {
     "output_type": "execute_result",
     "data": {
      "text/plain": [
       "               mapbegin  mapbeginlon  mapbeginlat  mapbeginlon.1  \\\n",
       "0        民族大道光谷广场-公交站路东   114.386925    30.500459     114.398925   \n",
       "1        民族大道光谷广场-公交站路东   114.386925    30.500459     114.398925   \n",
       "2        民族大道光谷广场-公交站路东   114.386925    30.500459     114.398925   \n",
       "3     纸坊|金逸影城(九全嘉国际广场店)   114.317790    30.354540     114.329790   \n",
       "4           纸坊|美味传奇农家菜馆   114.306421    30.348027     114.318421   \n",
       "...                 ...          ...          ...            ...   \n",
       "8351      卓刀泉南路|湖北省肿瘤医院   114.352560    30.496416     114.364560   \n",
       "8352      卓刀泉南路|湖北省肿瘤医院   114.352560    30.496416     114.364560   \n",
       "8353      卓刀泉南路|湖北省肿瘤医院   114.352560    30.496416     114.364560   \n",
       "8354         宗关站B出口(武汉)   114.214448    30.576712     114.226448   \n",
       "8355         宗关站B出口(武汉)   114.214448    30.576712     114.226448   \n",
       "\n",
       "      mapbeginlat.1          mapend   mapendlon  mapendlat  mapendlon.1  \\\n",
       "0         30.504459       光谷|曙光星城B区  114.391000  30.482508   114.403000   \n",
       "1         30.504459            光谷天地  114.397825  30.473273   114.409825   \n",
       "2         30.504459         光谷|丽顿酒店  114.410591  30.497201   114.422591   \n",
       "3         30.358540        纸坊|江夏体育馆  114.303393  30.349184   114.315393   \n",
       "4         30.352027       江夏区第一人民医院  114.308387  30.367964   114.320387   \n",
       "...             ...             ...         ...        ...          ...   \n",
       "8351      30.500416       洪山区|保利蓝海郡  114.362493  30.489645   114.374493   \n",
       "8352      30.500416   珞南|南国大家装(江南店)  114.338649  30.508854   114.350649   \n",
       "8353      30.500416       武昌火车站|武昌站  114.304895  30.525332   114.316895   \n",
       "8354      30.580712  江汉路步行商业街(江汉四路)  114.276795  30.580114   114.288795   \n",
       "8355      30.580712         陶家岭-地铁站  114.189471  30.542069   114.201471   \n",
       "\n",
       "      mapendlat.1  打车次数  \n",
       "0       30.486508   174  \n",
       "1       30.477273   158  \n",
       "2       30.501201   145  \n",
       "3       30.353184   142  \n",
       "4       30.371964   140  \n",
       "...           ...   ...  \n",
       "8351    30.493645     5  \n",
       "8352    30.512854     5  \n",
       "8353    30.529332     5  \n",
       "8354    30.584114     5  \n",
       "8355    30.546069     5  \n",
       "\n",
       "[8356 rows x 11 columns]"
      ],
      "text/html": "<div>\n<style scoped>\n    .dataframe tbody tr th:only-of-type {\n        vertical-align: middle;\n    }\n\n    .dataframe tbody tr th {\n        vertical-align: top;\n    }\n\n    .dataframe thead th {\n        text-align: right;\n    }\n</style>\n<table border=\"1\" class=\"dataframe\">\n  <thead>\n    <tr style=\"text-align: right;\">\n      <th></th>\n      <th>mapbegin</th>\n      <th>mapbeginlon</th>\n      <th>mapbeginlat</th>\n      <th>mapbeginlon.1</th>\n      <th>mapbeginlat.1</th>\n      <th>mapend</th>\n      <th>mapendlon</th>\n      <th>mapendlat</th>\n      <th>mapendlon.1</th>\n      <th>mapendlat.1</th>\n      <th>打车次数</th>\n    </tr>\n  </thead>\n  <tbody>\n    <tr>\n      <th>0</th>\n      <td>民族大道光谷广场-公交站路东</td>\n      <td>114.386925</td>\n      <td>30.500459</td>\n      <td>114.398925</td>\n      <td>30.504459</td>\n      <td>光谷|曙光星城B区</td>\n      <td>114.391000</td>\n      <td>30.482508</td>\n      <td>114.403000</td>\n      <td>30.486508</td>\n      <td>174</td>\n    </tr>\n    <tr>\n      <th>1</th>\n      <td>民族大道光谷广场-公交站路东</td>\n      <td>114.386925</td>\n      <td>30.500459</td>\n      <td>114.398925</td>\n      <td>30.504459</td>\n      <td>光谷天地</td>\n      <td>114.397825</td>\n      <td>30.473273</td>\n      <td>114.409825</td>\n      <td>30.477273</td>\n      <td>158</td>\n    </tr>\n    <tr>\n      <th>2</th>\n      <td>民族大道光谷广场-公交站路东</td>\n      <td>114.386925</td>\n      <td>30.500459</td>\n      <td>114.398925</td>\n      <td>30.504459</td>\n      <td>光谷|丽顿酒店</td>\n      <td>114.410591</td>\n      <td>30.497201</td>\n      <td>114.422591</td>\n      <td>30.501201</td>\n      <td>145</td>\n    </tr>\n    <tr>\n      <th>3</th>\n      <td>纸坊|金逸影城(九全嘉国际广场店)</td>\n      <td>114.317790</td>\n      <td>30.354540</td>\n      <td>114.329790</td>\n      <td>30.358540</td>\n      <td>纸坊|江夏体育馆</td>\n      <td>114.303393</td>\n      <td>30.349184</td>\n      <td>114.315393</td>\n      <td>30.353184</td>\n      <td>142</td>\n    </tr>\n    <tr>\n      <th>4</th>\n      <td>纸坊|美味传奇农家菜馆</td>\n      <td>114.306421</td>\n      <td>30.348027</td>\n      <td>114.318421</td>\n      <td>30.352027</td>\n      <td>江夏区第一人民医院</td>\n      <td>114.308387</td>\n      <td>30.367964</td>\n      <td>114.320387</td>\n      <td>30.371964</td>\n      <td>140</td>\n    </tr>\n    <tr>\n      <th>...</th>\n      <td>...</td>\n      <td>...</td>\n      <td>...</td>\n      <td>...</td>\n      <td>...</td>\n      <td>...</td>\n      <td>...</td>\n      <td>...</td>\n      <td>...</td>\n      <td>...</td>\n      <td>...</td>\n    </tr>\n    <tr>\n      <th>8351</th>\n      <td>卓刀泉南路|湖北省肿瘤医院</td>\n      <td>114.352560</td>\n      <td>30.496416</td>\n      <td>114.364560</td>\n      <td>30.500416</td>\n      <td>洪山区|保利蓝海郡</td>\n      <td>114.362493</td>\n      <td>30.489645</td>\n      <td>114.374493</td>\n      <td>30.493645</td>\n      <td>5</td>\n    </tr>\n    <tr>\n      <th>8352</th>\n      <td>卓刀泉南路|湖北省肿瘤医院</td>\n      <td>114.352560</td>\n      <td>30.496416</td>\n      <td>114.364560</td>\n      <td>30.500416</td>\n      <td>珞南|南国大家装(江南店)</td>\n      <td>114.338649</td>\n      <td>30.508854</td>\n      <td>114.350649</td>\n      <td>30.512854</td>\n      <td>5</td>\n    </tr>\n    <tr>\n      <th>8353</th>\n      <td>卓刀泉南路|湖北省肿瘤医院</td>\n      <td>114.352560</td>\n      <td>30.496416</td>\n      <td>114.364560</td>\n      <td>30.500416</td>\n      <td>武昌火车站|武昌站</td>\n      <td>114.304895</td>\n      <td>30.525332</td>\n      <td>114.316895</td>\n      <td>30.529332</td>\n      <td>5</td>\n    </tr>\n    <tr>\n      <th>8354</th>\n      <td>宗关站B出口(武汉)</td>\n      <td>114.214448</td>\n      <td>30.576712</td>\n      <td>114.226448</td>\n      <td>30.580712</td>\n      <td>江汉路步行商业街(江汉四路)</td>\n      <td>114.276795</td>\n      <td>30.580114</td>\n      <td>114.288795</td>\n      <td>30.584114</td>\n      <td>5</td>\n    </tr>\n    <tr>\n      <th>8355</th>\n      <td>宗关站B出口(武汉)</td>\n      <td>114.214448</td>\n      <td>30.576712</td>\n      <td>114.226448</td>\n      <td>30.580712</td>\n      <td>陶家岭-地铁站</td>\n      <td>114.189471</td>\n      <td>30.542069</td>\n      <td>114.201471</td>\n      <td>30.546069</td>\n      <td>5</td>\n    </tr>\n  </tbody>\n</table>\n<p>8356 rows × 11 columns</p>\n</div>"
     },
     "metadata": {},
     "execution_count": 2
    }
   ],
   "source": [
    "df"
   ]
  },
  {
   "source": [
    "Columns in a pandas DataFrame can be accessed like the property of an object."
   ],
   "cell_type": "markdown",
   "metadata": {}
  },
  {
   "cell_type": "code",
   "execution_count": 3,
   "metadata": {},
   "outputs": [
    {
     "output_type": "execute_result",
     "data": {
      "text/plain": [
       "0          民族大道光谷广场-公交站路东\n",
       "1          民族大道光谷广场-公交站路东\n",
       "2          民族大道光谷广场-公交站路东\n",
       "3       纸坊|金逸影城(九全嘉国际广场店)\n",
       "4             纸坊|美味传奇农家菜馆\n",
       "              ...        \n",
       "8351        卓刀泉南路|湖北省肿瘤医院\n",
       "8352        卓刀泉南路|湖北省肿瘤医院\n",
       "8353        卓刀泉南路|湖北省肿瘤医院\n",
       "8354           宗关站B出口(武汉)\n",
       "8355           宗关站B出口(武汉)\n",
       "Name: mapbegin, Length: 8356, dtype: object"
      ]
     },
     "metadata": {},
     "execution_count": 3
    }
   ],
   "source": [
    "df.mapbegin"
   ]
  },
  {
   "cell_type": "code",
   "execution_count": 4,
   "metadata": {},
   "outputs": [
    {
     "output_type": "execute_result",
     "data": {
      "text/plain": [
       "pandas.core.series.Series"
      ]
     },
     "metadata": {},
     "execution_count": 4
    }
   ],
   "source": [
    "type(df.mapbegin)"
   ]
  },
  {
   "source": [
    "dictionary-like indexing"
   ],
   "cell_type": "markdown",
   "metadata": {}
  },
  {
   "cell_type": "code",
   "execution_count": 5,
   "metadata": {},
   "outputs": [
    {
     "output_type": "execute_result",
     "data": {
      "text/plain": [
       "0          民族大道光谷广场-公交站路东\n",
       "1          民族大道光谷广场-公交站路东\n",
       "2          民族大道光谷广场-公交站路东\n",
       "3       纸坊|金逸影城(九全嘉国际广场店)\n",
       "4             纸坊|美味传奇农家菜馆\n",
       "              ...        \n",
       "8351        卓刀泉南路|湖北省肿瘤医院\n",
       "8352        卓刀泉南路|湖北省肿瘤医院\n",
       "8353        卓刀泉南路|湖北省肿瘤医院\n",
       "8354           宗关站B出口(武汉)\n",
       "8355           宗关站B出口(武汉)\n",
       "Name: mapbegin, Length: 8356, dtype: object"
      ]
     },
     "metadata": {},
     "execution_count": 5
    }
   ],
   "source": [
    "df[\"mapbegin\"]"
   ]
  },
  {
   "source": [
    "* df\\[\"map begin\"\\] \n",
    "* df.map begin"
   ],
   "cell_type": "markdown",
   "metadata": {}
  },
  {
   "source": [
    "A pandas Series can also be indexed like a dictionary."
   ],
   "cell_type": "markdown",
   "metadata": {}
  },
  {
   "cell_type": "code",
   "execution_count": 6,
   "metadata": {},
   "outputs": [
    {
     "output_type": "execute_result",
     "data": {
      "text/plain": [
       "'民族大道光谷广场-公交站路东'"
      ]
     },
     "metadata": {},
     "execution_count": 6
    }
   ],
   "source": [
    "df[\"mapbegin\"][0]"
   ]
  },
  {
   "cell_type": "code",
   "execution_count": 7,
   "metadata": {},
   "outputs": [
    {
     "output_type": "execute_result",
     "data": {
      "text/plain": [
       "str"
      ]
     },
     "metadata": {},
     "execution_count": 7
    }
   ],
   "source": [
    "type(df[\"mapbegin\"][0])"
   ]
  },
  {
   "cell_type": "code",
   "execution_count": 10,
   "metadata": {},
   "outputs": [
    {
     "output_type": "execute_result",
     "data": {
      "text/plain": [
       "'民族大道光谷广场-公交站路东'"
      ]
     },
     "metadata": {},
     "execution_count": 10
    }
   ],
   "source": [
    "df.mapbegin[0]"
   ]
  },
  {
   "source": [
    "### Indexing in pandas\n",
    "```loc``` and ```iloc```\n",
    "* index-based selection: ```iloc```"
   ],
   "cell_type": "markdown",
   "metadata": {}
  },
  {
   "cell_type": "code",
   "execution_count": 11,
   "metadata": {},
   "outputs": [
    {
     "output_type": "execute_result",
     "data": {
      "text/plain": [
       "mapbegin         民族大道光谷广场-公交站路东\n",
       "mapbeginlon             114.387\n",
       "mapbeginlat             30.5005\n",
       "mapbeginlon.1           114.399\n",
       "mapbeginlat.1           30.5045\n",
       "mapend                光谷|曙光星城B区\n",
       "mapendlon               114.391\n",
       "mapendlat               30.4825\n",
       "mapendlon.1             114.403\n",
       "mapendlat.1             30.4865\n",
       "打车次数                        174\n",
       "Name: 0, dtype: object"
      ]
     },
     "metadata": {},
     "execution_count": 11
    }
   ],
   "source": [
    "df.iloc[0]"
   ]
  },
  {
   "cell_type": "code",
   "execution_count": 12,
   "metadata": {},
   "outputs": [
    {
     "output_type": "execute_result",
     "data": {
      "text/plain": [
       "pandas.core.series.Series"
      ]
     },
     "metadata": {},
     "execution_count": 12
    }
   ],
   "source": [
    "type(df.iloc[0])"
   ]
  },
  {
   "source": [
    "Both ```loc``` and ```iloc``` are row-first, column-second."
   ],
   "cell_type": "markdown",
   "metadata": {}
  },
  {
   "cell_type": "code",
   "execution_count": 13,
   "metadata": {},
   "outputs": [
    {
     "output_type": "execute_result",
     "data": {
      "text/plain": [
       "0          民族大道光谷广场-公交站路东\n",
       "1          民族大道光谷广场-公交站路东\n",
       "2          民族大道光谷广场-公交站路东\n",
       "3       纸坊|金逸影城(九全嘉国际广场店)\n",
       "4             纸坊|美味传奇农家菜馆\n",
       "              ...        \n",
       "8351        卓刀泉南路|湖北省肿瘤医院\n",
       "8352        卓刀泉南路|湖北省肿瘤医院\n",
       "8353        卓刀泉南路|湖北省肿瘤医院\n",
       "8354           宗关站B出口(武汉)\n",
       "8355           宗关站B出口(武汉)\n",
       "Name: mapbegin, Length: 8356, dtype: object"
      ]
     },
     "metadata": {},
     "execution_count": 13
    }
   ],
   "source": [
    "df.iloc[:, 0]"
   ]
  },
  {
   "cell_type": "code",
   "execution_count": 14,
   "metadata": {},
   "outputs": [
    {
     "output_type": "execute_result",
     "data": {
      "text/plain": [
       "0    114.386925\n",
       "1    114.386925\n",
       "2    114.386925\n",
       "Name: mapbeginlon, dtype: float64"
      ]
     },
     "metadata": {},
     "execution_count": 14
    }
   ],
   "source": [
    "df.iloc[:3, 1]"
   ]
  },
  {
   "cell_type": "code",
   "execution_count": 15,
   "metadata": {},
   "outputs": [
    {
     "output_type": "execute_result",
     "data": {
      "text/plain": [
       "1    30.500459\n",
       "2    30.500459\n",
       "Name: mapbeginlat, dtype: float64"
      ]
     },
     "metadata": {},
     "execution_count": 15
    }
   ],
   "source": [
    "df.iloc[1:3, 2]"
   ]
  },
  {
   "cell_type": "code",
   "execution_count": 16,
   "metadata": {},
   "outputs": [
    {
     "output_type": "execute_result",
     "data": {
      "text/plain": [
       "10    纸坊|江夏体育馆\n",
       "7     蔡甸区|江汉大学\n",
       "8     光谷广场-地铁站\n",
       "Name: mapend, dtype: object"
      ]
     },
     "metadata": {},
     "execution_count": 16
    }
   ],
   "source": [
    "df.iloc[[10, 7, 8], 5]"
   ]
  },
  {
   "cell_type": "code",
   "execution_count": 18,
   "metadata": {},
   "outputs": [
    {
     "output_type": "execute_result",
     "data": {
      "text/plain": [
       "           mapbegin  mapbeginlon  mapbeginlat  mapbeginlon.1  mapbeginlat.1  \\\n",
       "8351  卓刀泉南路|湖北省肿瘤医院   114.352560    30.496416     114.364560      30.500416   \n",
       "8352  卓刀泉南路|湖北省肿瘤医院   114.352560    30.496416     114.364560      30.500416   \n",
       "8353  卓刀泉南路|湖北省肿瘤医院   114.352560    30.496416     114.364560      30.500416   \n",
       "8354     宗关站B出口(武汉)   114.214448    30.576712     114.226448      30.580712   \n",
       "8355     宗关站B出口(武汉)   114.214448    30.576712     114.226448      30.580712   \n",
       "\n",
       "              mapend   mapendlon  mapendlat  mapendlon.1  mapendlat.1  打车次数  \n",
       "8351       洪山区|保利蓝海郡  114.362493  30.489645   114.374493    30.493645     5  \n",
       "8352   珞南|南国大家装(江南店)  114.338649  30.508854   114.350649    30.512854     5  \n",
       "8353       武昌火车站|武昌站  114.304895  30.525332   114.316895    30.529332     5  \n",
       "8354  江汉路步行商业街(江汉四路)  114.276795  30.580114   114.288795    30.584114     5  \n",
       "8355         陶家岭-地铁站  114.189471  30.542069   114.201471    30.546069     5  "
      ],
      "text/html": "<div>\n<style scoped>\n    .dataframe tbody tr th:only-of-type {\n        vertical-align: middle;\n    }\n\n    .dataframe tbody tr th {\n        vertical-align: top;\n    }\n\n    .dataframe thead th {\n        text-align: right;\n    }\n</style>\n<table border=\"1\" class=\"dataframe\">\n  <thead>\n    <tr style=\"text-align: right;\">\n      <th></th>\n      <th>mapbegin</th>\n      <th>mapbeginlon</th>\n      <th>mapbeginlat</th>\n      <th>mapbeginlon.1</th>\n      <th>mapbeginlat.1</th>\n      <th>mapend</th>\n      <th>mapendlon</th>\n      <th>mapendlat</th>\n      <th>mapendlon.1</th>\n      <th>mapendlat.1</th>\n      <th>打车次数</th>\n    </tr>\n  </thead>\n  <tbody>\n    <tr>\n      <th>8351</th>\n      <td>卓刀泉南路|湖北省肿瘤医院</td>\n      <td>114.352560</td>\n      <td>30.496416</td>\n      <td>114.364560</td>\n      <td>30.500416</td>\n      <td>洪山区|保利蓝海郡</td>\n      <td>114.362493</td>\n      <td>30.489645</td>\n      <td>114.374493</td>\n      <td>30.493645</td>\n      <td>5</td>\n    </tr>\n    <tr>\n      <th>8352</th>\n      <td>卓刀泉南路|湖北省肿瘤医院</td>\n      <td>114.352560</td>\n      <td>30.496416</td>\n      <td>114.364560</td>\n      <td>30.500416</td>\n      <td>珞南|南国大家装(江南店)</td>\n      <td>114.338649</td>\n      <td>30.508854</td>\n      <td>114.350649</td>\n      <td>30.512854</td>\n      <td>5</td>\n    </tr>\n    <tr>\n      <th>8353</th>\n      <td>卓刀泉南路|湖北省肿瘤医院</td>\n      <td>114.352560</td>\n      <td>30.496416</td>\n      <td>114.364560</td>\n      <td>30.500416</td>\n      <td>武昌火车站|武昌站</td>\n      <td>114.304895</td>\n      <td>30.525332</td>\n      <td>114.316895</td>\n      <td>30.529332</td>\n      <td>5</td>\n    </tr>\n    <tr>\n      <th>8354</th>\n      <td>宗关站B出口(武汉)</td>\n      <td>114.214448</td>\n      <td>30.576712</td>\n      <td>114.226448</td>\n      <td>30.580712</td>\n      <td>江汉路步行商业街(江汉四路)</td>\n      <td>114.276795</td>\n      <td>30.580114</td>\n      <td>114.288795</td>\n      <td>30.584114</td>\n      <td>5</td>\n    </tr>\n    <tr>\n      <th>8355</th>\n      <td>宗关站B出口(武汉)</td>\n      <td>114.214448</td>\n      <td>30.576712</td>\n      <td>114.226448</td>\n      <td>30.580712</td>\n      <td>陶家岭-地铁站</td>\n      <td>114.189471</td>\n      <td>30.542069</td>\n      <td>114.201471</td>\n      <td>30.546069</td>\n      <td>5</td>\n    </tr>\n  </tbody>\n</table>\n</div>"
     },
     "metadata": {},
     "execution_count": 18
    }
   ],
   "source": [
    "df.iloc[-5:]"
   ]
  },
  {
   "source": [
    "* label-based selection: ```loc```"
   ],
   "cell_type": "markdown",
   "metadata": {}
  },
  {
   "cell_type": "code",
   "execution_count": 20,
   "metadata": {},
   "outputs": [
    {
     "output_type": "execute_result",
     "data": {
      "text/plain": [
       "mapbegin         民族大道光谷广场-公交站路东\n",
       "mapbeginlon             114.387\n",
       "mapbeginlat             30.5005\n",
       "mapbeginlon.1           114.399\n",
       "mapbeginlat.1           30.5045\n",
       "mapend                光谷|曙光星城B区\n",
       "mapendlon               114.391\n",
       "mapendlat               30.4825\n",
       "mapendlon.1             114.403\n",
       "mapendlat.1             30.4865\n",
       "打车次数                        174\n",
       "Name: 0, dtype: object"
      ]
     },
     "metadata": {},
     "execution_count": 20
    }
   ],
   "source": [
    "df.loc[0]"
   ]
  },
  {
   "cell_type": "code",
   "execution_count": 21,
   "metadata": {},
   "outputs": [
    {
     "output_type": "execute_result",
     "data": {
      "text/plain": [
       "'民族大道光谷广场-公交站路东'"
      ]
     },
     "metadata": {},
     "execution_count": 21
    }
   ],
   "source": [
    "df.loc[0, \"mapbegin\"]"
   ]
  },
  {
   "cell_type": "code",
   "execution_count": 22,
   "metadata": {},
   "outputs": [
    {
     "output_type": "execute_result",
     "data": {
      "text/plain": [
       "               mapbegin          mapend\n",
       "0        民族大道光谷广场-公交站路东       光谷|曙光星城B区\n",
       "1        民族大道光谷广场-公交站路东            光谷天地\n",
       "2        民族大道光谷广场-公交站路东         光谷|丽顿酒店\n",
       "3     纸坊|金逸影城(九全嘉国际广场店)        纸坊|江夏体育馆\n",
       "4           纸坊|美味传奇农家菜馆       江夏区第一人民医院\n",
       "...                 ...             ...\n",
       "8351      卓刀泉南路|湖北省肿瘤医院       洪山区|保利蓝海郡\n",
       "8352      卓刀泉南路|湖北省肿瘤医院   珞南|南国大家装(江南店)\n",
       "8353      卓刀泉南路|湖北省肿瘤医院       武昌火车站|武昌站\n",
       "8354         宗关站B出口(武汉)  江汉路步行商业街(江汉四路)\n",
       "8355         宗关站B出口(武汉)         陶家岭-地铁站\n",
       "\n",
       "[8356 rows x 2 columns]"
      ],
      "text/html": "<div>\n<style scoped>\n    .dataframe tbody tr th:only-of-type {\n        vertical-align: middle;\n    }\n\n    .dataframe tbody tr th {\n        vertical-align: top;\n    }\n\n    .dataframe thead th {\n        text-align: right;\n    }\n</style>\n<table border=\"1\" class=\"dataframe\">\n  <thead>\n    <tr style=\"text-align: right;\">\n      <th></th>\n      <th>mapbegin</th>\n      <th>mapend</th>\n    </tr>\n  </thead>\n  <tbody>\n    <tr>\n      <th>0</th>\n      <td>民族大道光谷广场-公交站路东</td>\n      <td>光谷|曙光星城B区</td>\n    </tr>\n    <tr>\n      <th>1</th>\n      <td>民族大道光谷广场-公交站路东</td>\n      <td>光谷天地</td>\n    </tr>\n    <tr>\n      <th>2</th>\n      <td>民族大道光谷广场-公交站路东</td>\n      <td>光谷|丽顿酒店</td>\n    </tr>\n    <tr>\n      <th>3</th>\n      <td>纸坊|金逸影城(九全嘉国际广场店)</td>\n      <td>纸坊|江夏体育馆</td>\n    </tr>\n    <tr>\n      <th>4</th>\n      <td>纸坊|美味传奇农家菜馆</td>\n      <td>江夏区第一人民医院</td>\n    </tr>\n    <tr>\n      <th>...</th>\n      <td>...</td>\n      <td>...</td>\n    </tr>\n    <tr>\n      <th>8351</th>\n      <td>卓刀泉南路|湖北省肿瘤医院</td>\n      <td>洪山区|保利蓝海郡</td>\n    </tr>\n    <tr>\n      <th>8352</th>\n      <td>卓刀泉南路|湖北省肿瘤医院</td>\n      <td>珞南|南国大家装(江南店)</td>\n    </tr>\n    <tr>\n      <th>8353</th>\n      <td>卓刀泉南路|湖北省肿瘤医院</td>\n      <td>武昌火车站|武昌站</td>\n    </tr>\n    <tr>\n      <th>8354</th>\n      <td>宗关站B出口(武汉)</td>\n      <td>江汉路步行商业街(江汉四路)</td>\n    </tr>\n    <tr>\n      <th>8355</th>\n      <td>宗关站B出口(武汉)</td>\n      <td>陶家岭-地铁站</td>\n    </tr>\n  </tbody>\n</table>\n<p>8356 rows × 2 columns</p>\n</div>"
     },
     "metadata": {},
     "execution_count": 22
    }
   ],
   "source": [
    "df.loc[:, [\"mapbegin\", \"mapend\"]]"
   ]
  },
  {
   "cell_type": "code",
   "execution_count": 24,
   "metadata": {},
   "outputs": [
    {
     "output_type": "execute_result",
     "data": {
      "text/plain": [
       "         mapbegin  mapbeginlon  mapbeginlat  mapbeginlon.1  mapbeginlat.1  \\\n",
       "0  民族大道光谷广场-公交站路东   114.386925    30.500459     114.398925      30.504459   \n",
       "1  民族大道光谷广场-公交站路东   114.386925    30.500459     114.398925      30.504459   \n",
       "2  民族大道光谷广场-公交站路东   114.386925    30.500459     114.398925      30.504459   \n",
       "\n",
       "      mapend   mapendlon  mapendlat  mapendlon.1  mapendlat.1  打车次数  \n",
       "0  光谷|曙光星城B区  114.391000  30.482508   114.403000    30.486508   174  \n",
       "1       光谷天地  114.397825  30.473273   114.409825    30.477273   158  \n",
       "2    光谷|丽顿酒店  114.410591  30.497201   114.422591    30.501201   145  "
      ],
      "text/html": "<div>\n<style scoped>\n    .dataframe tbody tr th:only-of-type {\n        vertical-align: middle;\n    }\n\n    .dataframe tbody tr th {\n        vertical-align: top;\n    }\n\n    .dataframe thead th {\n        text-align: right;\n    }\n</style>\n<table border=\"1\" class=\"dataframe\">\n  <thead>\n    <tr style=\"text-align: right;\">\n      <th></th>\n      <th>mapbegin</th>\n      <th>mapbeginlon</th>\n      <th>mapbeginlat</th>\n      <th>mapbeginlon.1</th>\n      <th>mapbeginlat.1</th>\n      <th>mapend</th>\n      <th>mapendlon</th>\n      <th>mapendlat</th>\n      <th>mapendlon.1</th>\n      <th>mapendlat.1</th>\n      <th>打车次数</th>\n    </tr>\n  </thead>\n  <tbody>\n    <tr>\n      <th>0</th>\n      <td>民族大道光谷广场-公交站路东</td>\n      <td>114.386925</td>\n      <td>30.500459</td>\n      <td>114.398925</td>\n      <td>30.504459</td>\n      <td>光谷|曙光星城B区</td>\n      <td>114.391000</td>\n      <td>30.482508</td>\n      <td>114.403000</td>\n      <td>30.486508</td>\n      <td>174</td>\n    </tr>\n    <tr>\n      <th>1</th>\n      <td>民族大道光谷广场-公交站路东</td>\n      <td>114.386925</td>\n      <td>30.500459</td>\n      <td>114.398925</td>\n      <td>30.504459</td>\n      <td>光谷天地</td>\n      <td>114.397825</td>\n      <td>30.473273</td>\n      <td>114.409825</td>\n      <td>30.477273</td>\n      <td>158</td>\n    </tr>\n    <tr>\n      <th>2</th>\n      <td>民族大道光谷广场-公交站路东</td>\n      <td>114.386925</td>\n      <td>30.500459</td>\n      <td>114.398925</td>\n      <td>30.504459</td>\n      <td>光谷|丽顿酒店</td>\n      <td>114.410591</td>\n      <td>30.497201</td>\n      <td>114.422591</td>\n      <td>30.501201</td>\n      <td>145</td>\n    </tr>\n  </tbody>\n</table>\n</div>"
     },
     "metadata": {},
     "execution_count": 24
    }
   ],
   "source": [
    "df.iloc[0:3]"
   ]
  },
  {
   "cell_type": "code",
   "execution_count": 25,
   "metadata": {},
   "outputs": [
    {
     "output_type": "execute_result",
     "data": {
      "text/plain": [
       "            mapbegin  mapbeginlon  mapbeginlat  mapbeginlon.1  mapbeginlat.1  \\\n",
       "0     民族大道光谷广场-公交站路东   114.386925    30.500459     114.398925      30.504459   \n",
       "1     民族大道光谷广场-公交站路东   114.386925    30.500459     114.398925      30.504459   \n",
       "2     民族大道光谷广场-公交站路东   114.386925    30.500459     114.398925      30.504459   \n",
       "3  纸坊|金逸影城(九全嘉国际广场店)   114.317790    30.354540     114.329790      30.358540   \n",
       "\n",
       "      mapend   mapendlon  mapendlat  mapendlon.1  mapendlat.1  打车次数  \n",
       "0  光谷|曙光星城B区  114.391000  30.482508   114.403000    30.486508   174  \n",
       "1       光谷天地  114.397825  30.473273   114.409825    30.477273   158  \n",
       "2    光谷|丽顿酒店  114.410591  30.497201   114.422591    30.501201   145  \n",
       "3   纸坊|江夏体育馆  114.303393  30.349184   114.315393    30.353184   142  "
      ],
      "text/html": "<div>\n<style scoped>\n    .dataframe tbody tr th:only-of-type {\n        vertical-align: middle;\n    }\n\n    .dataframe tbody tr th {\n        vertical-align: top;\n    }\n\n    .dataframe thead th {\n        text-align: right;\n    }\n</style>\n<table border=\"1\" class=\"dataframe\">\n  <thead>\n    <tr style=\"text-align: right;\">\n      <th></th>\n      <th>mapbegin</th>\n      <th>mapbeginlon</th>\n      <th>mapbeginlat</th>\n      <th>mapbeginlon.1</th>\n      <th>mapbeginlat.1</th>\n      <th>mapend</th>\n      <th>mapendlon</th>\n      <th>mapendlat</th>\n      <th>mapendlon.1</th>\n      <th>mapendlat.1</th>\n      <th>打车次数</th>\n    </tr>\n  </thead>\n  <tbody>\n    <tr>\n      <th>0</th>\n      <td>民族大道光谷广场-公交站路东</td>\n      <td>114.386925</td>\n      <td>30.500459</td>\n      <td>114.398925</td>\n      <td>30.504459</td>\n      <td>光谷|曙光星城B区</td>\n      <td>114.391000</td>\n      <td>30.482508</td>\n      <td>114.403000</td>\n      <td>30.486508</td>\n      <td>174</td>\n    </tr>\n    <tr>\n      <th>1</th>\n      <td>民族大道光谷广场-公交站路东</td>\n      <td>114.386925</td>\n      <td>30.500459</td>\n      <td>114.398925</td>\n      <td>30.504459</td>\n      <td>光谷天地</td>\n      <td>114.397825</td>\n      <td>30.473273</td>\n      <td>114.409825</td>\n      <td>30.477273</td>\n      <td>158</td>\n    </tr>\n    <tr>\n      <th>2</th>\n      <td>民族大道光谷广场-公交站路东</td>\n      <td>114.386925</td>\n      <td>30.500459</td>\n      <td>114.398925</td>\n      <td>30.504459</td>\n      <td>光谷|丽顿酒店</td>\n      <td>114.410591</td>\n      <td>30.497201</td>\n      <td>114.422591</td>\n      <td>30.501201</td>\n      <td>145</td>\n    </tr>\n    <tr>\n      <th>3</th>\n      <td>纸坊|金逸影城(九全嘉国际广场店)</td>\n      <td>114.317790</td>\n      <td>30.354540</td>\n      <td>114.329790</td>\n      <td>30.358540</td>\n      <td>纸坊|江夏体育馆</td>\n      <td>114.303393</td>\n      <td>30.349184</td>\n      <td>114.315393</td>\n      <td>30.353184</td>\n      <td>142</td>\n    </tr>\n  </tbody>\n</table>\n</div>"
     },
     "metadata": {},
     "execution_count": 25
    }
   ],
   "source": [
    "df.loc[0:3]"
   ]
  },
  {
   "source": [
    "### Manipulating the index\n"
   ],
   "cell_type": "markdown",
   "metadata": {}
  },
  {
   "cell_type": "code",
   "execution_count": 27,
   "metadata": {},
   "outputs": [
    {
     "output_type": "execute_result",
     "data": {
      "text/plain": [
       "                   mapbeginlon  mapbeginlat  mapbeginlon.1  mapbeginlat.1  \\\n",
       "mapbegin                                                                    \n",
       "民族大道光谷广场-公交站路东      114.386925    30.500459     114.398925      30.504459   \n",
       "民族大道光谷广场-公交站路东      114.386925    30.500459     114.398925      30.504459   \n",
       "民族大道光谷广场-公交站路东      114.386925    30.500459     114.398925      30.504459   \n",
       "纸坊|金逸影城(九全嘉国际广场店)   114.317790    30.354540     114.329790      30.358540   \n",
       "纸坊|美味传奇农家菜馆         114.306421    30.348027     114.318421      30.352027   \n",
       "...                        ...          ...            ...            ...   \n",
       "卓刀泉南路|湖北省肿瘤医院       114.352560    30.496416     114.364560      30.500416   \n",
       "卓刀泉南路|湖北省肿瘤医院       114.352560    30.496416     114.364560      30.500416   \n",
       "卓刀泉南路|湖北省肿瘤医院       114.352560    30.496416     114.364560      30.500416   \n",
       "宗关站B出口(武汉)          114.214448    30.576712     114.226448      30.580712   \n",
       "宗关站B出口(武汉)          114.214448    30.576712     114.226448      30.580712   \n",
       "\n",
       "                           mapend   mapendlon  mapendlat  mapendlon.1  \\\n",
       "mapbegin                                                                \n",
       "民族大道光谷广场-公交站路东          光谷|曙光星城B区  114.391000  30.482508   114.403000   \n",
       "民族大道光谷广场-公交站路东               光谷天地  114.397825  30.473273   114.409825   \n",
       "民族大道光谷广场-公交站路东            光谷|丽顿酒店  114.410591  30.497201   114.422591   \n",
       "纸坊|金逸影城(九全嘉国际广场店)        纸坊|江夏体育馆  114.303393  30.349184   114.315393   \n",
       "纸坊|美味传奇农家菜馆             江夏区第一人民医院  114.308387  30.367964   114.320387   \n",
       "...                           ...         ...        ...          ...   \n",
       "卓刀泉南路|湖北省肿瘤医院           洪山区|保利蓝海郡  114.362493  30.489645   114.374493   \n",
       "卓刀泉南路|湖北省肿瘤医院       珞南|南国大家装(江南店)  114.338649  30.508854   114.350649   \n",
       "卓刀泉南路|湖北省肿瘤医院           武昌火车站|武昌站  114.304895  30.525332   114.316895   \n",
       "宗关站B出口(武汉)         江汉路步行商业街(江汉四路)  114.276795  30.580114   114.288795   \n",
       "宗关站B出口(武汉)                陶家岭-地铁站  114.189471  30.542069   114.201471   \n",
       "\n",
       "                   mapendlat.1  打车次数  \n",
       "mapbegin                              \n",
       "民族大道光谷广场-公交站路东       30.486508   174  \n",
       "民族大道光谷广场-公交站路东       30.477273   158  \n",
       "民族大道光谷广场-公交站路东       30.501201   145  \n",
       "纸坊|金逸影城(九全嘉国际广场店)    30.353184   142  \n",
       "纸坊|美味传奇农家菜馆          30.371964   140  \n",
       "...                        ...   ...  \n",
       "卓刀泉南路|湖北省肿瘤医院        30.493645     5  \n",
       "卓刀泉南路|湖北省肿瘤医院        30.512854     5  \n",
       "卓刀泉南路|湖北省肿瘤医院        30.529332     5  \n",
       "宗关站B出口(武汉)           30.584114     5  \n",
       "宗关站B出口(武汉)           30.546069     5  \n",
       "\n",
       "[8356 rows x 10 columns]"
      ],
      "text/html": "<div>\n<style scoped>\n    .dataframe tbody tr th:only-of-type {\n        vertical-align: middle;\n    }\n\n    .dataframe tbody tr th {\n        vertical-align: top;\n    }\n\n    .dataframe thead th {\n        text-align: right;\n    }\n</style>\n<table border=\"1\" class=\"dataframe\">\n  <thead>\n    <tr style=\"text-align: right;\">\n      <th></th>\n      <th>mapbeginlon</th>\n      <th>mapbeginlat</th>\n      <th>mapbeginlon.1</th>\n      <th>mapbeginlat.1</th>\n      <th>mapend</th>\n      <th>mapendlon</th>\n      <th>mapendlat</th>\n      <th>mapendlon.1</th>\n      <th>mapendlat.1</th>\n      <th>打车次数</th>\n    </tr>\n    <tr>\n      <th>mapbegin</th>\n      <th></th>\n      <th></th>\n      <th></th>\n      <th></th>\n      <th></th>\n      <th></th>\n      <th></th>\n      <th></th>\n      <th></th>\n      <th></th>\n    </tr>\n  </thead>\n  <tbody>\n    <tr>\n      <th>民族大道光谷广场-公交站路东</th>\n      <td>114.386925</td>\n      <td>30.500459</td>\n      <td>114.398925</td>\n      <td>30.504459</td>\n      <td>光谷|曙光星城B区</td>\n      <td>114.391000</td>\n      <td>30.482508</td>\n      <td>114.403000</td>\n      <td>30.486508</td>\n      <td>174</td>\n    </tr>\n    <tr>\n      <th>民族大道光谷广场-公交站路东</th>\n      <td>114.386925</td>\n      <td>30.500459</td>\n      <td>114.398925</td>\n      <td>30.504459</td>\n      <td>光谷天地</td>\n      <td>114.397825</td>\n      <td>30.473273</td>\n      <td>114.409825</td>\n      <td>30.477273</td>\n      <td>158</td>\n    </tr>\n    <tr>\n      <th>民族大道光谷广场-公交站路东</th>\n      <td>114.386925</td>\n      <td>30.500459</td>\n      <td>114.398925</td>\n      <td>30.504459</td>\n      <td>光谷|丽顿酒店</td>\n      <td>114.410591</td>\n      <td>30.497201</td>\n      <td>114.422591</td>\n      <td>30.501201</td>\n      <td>145</td>\n    </tr>\n    <tr>\n      <th>纸坊|金逸影城(九全嘉国际广场店)</th>\n      <td>114.317790</td>\n      <td>30.354540</td>\n      <td>114.329790</td>\n      <td>30.358540</td>\n      <td>纸坊|江夏体育馆</td>\n      <td>114.303393</td>\n      <td>30.349184</td>\n      <td>114.315393</td>\n      <td>30.353184</td>\n      <td>142</td>\n    </tr>\n    <tr>\n      <th>纸坊|美味传奇农家菜馆</th>\n      <td>114.306421</td>\n      <td>30.348027</td>\n      <td>114.318421</td>\n      <td>30.352027</td>\n      <td>江夏区第一人民医院</td>\n      <td>114.308387</td>\n      <td>30.367964</td>\n      <td>114.320387</td>\n      <td>30.371964</td>\n      <td>140</td>\n    </tr>\n    <tr>\n      <th>...</th>\n      <td>...</td>\n      <td>...</td>\n      <td>...</td>\n      <td>...</td>\n      <td>...</td>\n      <td>...</td>\n      <td>...</td>\n      <td>...</td>\n      <td>...</td>\n      <td>...</td>\n    </tr>\n    <tr>\n      <th>卓刀泉南路|湖北省肿瘤医院</th>\n      <td>114.352560</td>\n      <td>30.496416</td>\n      <td>114.364560</td>\n      <td>30.500416</td>\n      <td>洪山区|保利蓝海郡</td>\n      <td>114.362493</td>\n      <td>30.489645</td>\n      <td>114.374493</td>\n      <td>30.493645</td>\n      <td>5</td>\n    </tr>\n    <tr>\n      <th>卓刀泉南路|湖北省肿瘤医院</th>\n      <td>114.352560</td>\n      <td>30.496416</td>\n      <td>114.364560</td>\n      <td>30.500416</td>\n      <td>珞南|南国大家装(江南店)</td>\n      <td>114.338649</td>\n      <td>30.508854</td>\n      <td>114.350649</td>\n      <td>30.512854</td>\n      <td>5</td>\n    </tr>\n    <tr>\n      <th>卓刀泉南路|湖北省肿瘤医院</th>\n      <td>114.352560</td>\n      <td>30.496416</td>\n      <td>114.364560</td>\n      <td>30.500416</td>\n      <td>武昌火车站|武昌站</td>\n      <td>114.304895</td>\n      <td>30.525332</td>\n      <td>114.316895</td>\n      <td>30.529332</td>\n      <td>5</td>\n    </tr>\n    <tr>\n      <th>宗关站B出口(武汉)</th>\n      <td>114.214448</td>\n      <td>30.576712</td>\n      <td>114.226448</td>\n      <td>30.580712</td>\n      <td>江汉路步行商业街(江汉四路)</td>\n      <td>114.276795</td>\n      <td>30.580114</td>\n      <td>114.288795</td>\n      <td>30.584114</td>\n      <td>5</td>\n    </tr>\n    <tr>\n      <th>宗关站B出口(武汉)</th>\n      <td>114.214448</td>\n      <td>30.576712</td>\n      <td>114.226448</td>\n      <td>30.580712</td>\n      <td>陶家岭-地铁站</td>\n      <td>114.189471</td>\n      <td>30.542069</td>\n      <td>114.201471</td>\n      <td>30.546069</td>\n      <td>5</td>\n    </tr>\n  </tbody>\n</table>\n<p>8356 rows × 10 columns</p>\n</div>"
     },
     "metadata": {},
     "execution_count": 27
    }
   ],
   "source": [
    "df.set_index(\"mapbegin\")"
   ]
  },
  {
   "cell_type": "code",
   "execution_count": 30,
   "metadata": {},
   "outputs": [
    {
     "output_type": "execute_result",
     "data": {
      "text/plain": [
       "               mapbegin  mapbeginlon  mapbeginlat  mapbeginlon.1  \\\n",
       "0        民族大道光谷广场-公交站路东   114.386925    30.500459     114.398925   \n",
       "1        民族大道光谷广场-公交站路东   114.386925    30.500459     114.398925   \n",
       "2        民族大道光谷广场-公交站路东   114.386925    30.500459     114.398925   \n",
       "3     纸坊|金逸影城(九全嘉国际广场店)   114.317790    30.354540     114.329790   \n",
       "4           纸坊|美味传奇农家菜馆   114.306421    30.348027     114.318421   \n",
       "...                 ...          ...          ...            ...   \n",
       "8351      卓刀泉南路|湖北省肿瘤医院   114.352560    30.496416     114.364560   \n",
       "8352      卓刀泉南路|湖北省肿瘤医院   114.352560    30.496416     114.364560   \n",
       "8353      卓刀泉南路|湖北省肿瘤医院   114.352560    30.496416     114.364560   \n",
       "8354         宗关站B出口(武汉)   114.214448    30.576712     114.226448   \n",
       "8355         宗关站B出口(武汉)   114.214448    30.576712     114.226448   \n",
       "\n",
       "      mapbeginlat.1          mapend   mapendlon  mapendlat  mapendlon.1  \\\n",
       "0         30.504459       光谷|曙光星城B区  114.391000  30.482508   114.403000   \n",
       "1         30.504459            光谷天地  114.397825  30.473273   114.409825   \n",
       "2         30.504459         光谷|丽顿酒店  114.410591  30.497201   114.422591   \n",
       "3         30.358540        纸坊|江夏体育馆  114.303393  30.349184   114.315393   \n",
       "4         30.352027       江夏区第一人民医院  114.308387  30.367964   114.320387   \n",
       "...             ...             ...         ...        ...          ...   \n",
       "8351      30.500416       洪山区|保利蓝海郡  114.362493  30.489645   114.374493   \n",
       "8352      30.500416   珞南|南国大家装(江南店)  114.338649  30.508854   114.350649   \n",
       "8353      30.500416       武昌火车站|武昌站  114.304895  30.525332   114.316895   \n",
       "8354      30.580712  江汉路步行商业街(江汉四路)  114.276795  30.580114   114.288795   \n",
       "8355      30.580712         陶家岭-地铁站  114.189471  30.542069   114.201471   \n",
       "\n",
       "      mapendlat.1  打车次数  \n",
       "0       30.486508   174  \n",
       "1       30.477273   158  \n",
       "2       30.501201   145  \n",
       "3       30.353184   142  \n",
       "4       30.371964   140  \n",
       "...           ...   ...  \n",
       "8351    30.493645     5  \n",
       "8352    30.512854     5  \n",
       "8353    30.529332     5  \n",
       "8354    30.584114     5  \n",
       "8355    30.546069     5  \n",
       "\n",
       "[8356 rows x 11 columns]"
      ],
      "text/html": "<div>\n<style scoped>\n    .dataframe tbody tr th:only-of-type {\n        vertical-align: middle;\n    }\n\n    .dataframe tbody tr th {\n        vertical-align: top;\n    }\n\n    .dataframe thead th {\n        text-align: right;\n    }\n</style>\n<table border=\"1\" class=\"dataframe\">\n  <thead>\n    <tr style=\"text-align: right;\">\n      <th></th>\n      <th>mapbegin</th>\n      <th>mapbeginlon</th>\n      <th>mapbeginlat</th>\n      <th>mapbeginlon.1</th>\n      <th>mapbeginlat.1</th>\n      <th>mapend</th>\n      <th>mapendlon</th>\n      <th>mapendlat</th>\n      <th>mapendlon.1</th>\n      <th>mapendlat.1</th>\n      <th>打车次数</th>\n    </tr>\n  </thead>\n  <tbody>\n    <tr>\n      <th>0</th>\n      <td>民族大道光谷广场-公交站路东</td>\n      <td>114.386925</td>\n      <td>30.500459</td>\n      <td>114.398925</td>\n      <td>30.504459</td>\n      <td>光谷|曙光星城B区</td>\n      <td>114.391000</td>\n      <td>30.482508</td>\n      <td>114.403000</td>\n      <td>30.486508</td>\n      <td>174</td>\n    </tr>\n    <tr>\n      <th>1</th>\n      <td>民族大道光谷广场-公交站路东</td>\n      <td>114.386925</td>\n      <td>30.500459</td>\n      <td>114.398925</td>\n      <td>30.504459</td>\n      <td>光谷天地</td>\n      <td>114.397825</td>\n      <td>30.473273</td>\n      <td>114.409825</td>\n      <td>30.477273</td>\n      <td>158</td>\n    </tr>\n    <tr>\n      <th>2</th>\n      <td>民族大道光谷广场-公交站路东</td>\n      <td>114.386925</td>\n      <td>30.500459</td>\n      <td>114.398925</td>\n      <td>30.504459</td>\n      <td>光谷|丽顿酒店</td>\n      <td>114.410591</td>\n      <td>30.497201</td>\n      <td>114.422591</td>\n      <td>30.501201</td>\n      <td>145</td>\n    </tr>\n    <tr>\n      <th>3</th>\n      <td>纸坊|金逸影城(九全嘉国际广场店)</td>\n      <td>114.317790</td>\n      <td>30.354540</td>\n      <td>114.329790</td>\n      <td>30.358540</td>\n      <td>纸坊|江夏体育馆</td>\n      <td>114.303393</td>\n      <td>30.349184</td>\n      <td>114.315393</td>\n      <td>30.353184</td>\n      <td>142</td>\n    </tr>\n    <tr>\n      <th>4</th>\n      <td>纸坊|美味传奇农家菜馆</td>\n      <td>114.306421</td>\n      <td>30.348027</td>\n      <td>114.318421</td>\n      <td>30.352027</td>\n      <td>江夏区第一人民医院</td>\n      <td>114.308387</td>\n      <td>30.367964</td>\n      <td>114.320387</td>\n      <td>30.371964</td>\n      <td>140</td>\n    </tr>\n    <tr>\n      <th>...</th>\n      <td>...</td>\n      <td>...</td>\n      <td>...</td>\n      <td>...</td>\n      <td>...</td>\n      <td>...</td>\n      <td>...</td>\n      <td>...</td>\n      <td>...</td>\n      <td>...</td>\n      <td>...</td>\n    </tr>\n    <tr>\n      <th>8351</th>\n      <td>卓刀泉南路|湖北省肿瘤医院</td>\n      <td>114.352560</td>\n      <td>30.496416</td>\n      <td>114.364560</td>\n      <td>30.500416</td>\n      <td>洪山区|保利蓝海郡</td>\n      <td>114.362493</td>\n      <td>30.489645</td>\n      <td>114.374493</td>\n      <td>30.493645</td>\n      <td>5</td>\n    </tr>\n    <tr>\n      <th>8352</th>\n      <td>卓刀泉南路|湖北省肿瘤医院</td>\n      <td>114.352560</td>\n      <td>30.496416</td>\n      <td>114.364560</td>\n      <td>30.500416</td>\n      <td>珞南|南国大家装(江南店)</td>\n      <td>114.338649</td>\n      <td>30.508854</td>\n      <td>114.350649</td>\n      <td>30.512854</td>\n      <td>5</td>\n    </tr>\n    <tr>\n      <th>8353</th>\n      <td>卓刀泉南路|湖北省肿瘤医院</td>\n      <td>114.352560</td>\n      <td>30.496416</td>\n      <td>114.364560</td>\n      <td>30.500416</td>\n      <td>武昌火车站|武昌站</td>\n      <td>114.304895</td>\n      <td>30.525332</td>\n      <td>114.316895</td>\n      <td>30.529332</td>\n      <td>5</td>\n    </tr>\n    <tr>\n      <th>8354</th>\n      <td>宗关站B出口(武汉)</td>\n      <td>114.214448</td>\n      <td>30.576712</td>\n      <td>114.226448</td>\n      <td>30.580712</td>\n      <td>江汉路步行商业街(江汉四路)</td>\n      <td>114.276795</td>\n      <td>30.580114</td>\n      <td>114.288795</td>\n      <td>30.584114</td>\n      <td>5</td>\n    </tr>\n    <tr>\n      <th>8355</th>\n      <td>宗关站B出口(武汉)</td>\n      <td>114.214448</td>\n      <td>30.576712</td>\n      <td>114.226448</td>\n      <td>30.580712</td>\n      <td>陶家岭-地铁站</td>\n      <td>114.189471</td>\n      <td>30.542069</td>\n      <td>114.201471</td>\n      <td>30.546069</td>\n      <td>5</td>\n    </tr>\n  </tbody>\n</table>\n<p>8356 rows × 11 columns</p>\n</div>"
     },
     "metadata": {},
     "execution_count": 30
    }
   ],
   "source": [
    "df.set_index(pd.Index(range(df.shape[0])))"
   ]
  },
  {
   "source": [
    "### Conditional selection"
   ],
   "cell_type": "markdown",
   "metadata": {}
  },
  {
   "cell_type": "code",
   "execution_count": 32,
   "metadata": {},
   "outputs": [
    {
     "output_type": "execute_result",
     "data": {
      "text/plain": [
       "0        True\n",
       "1        True\n",
       "2        True\n",
       "3       False\n",
       "4       False\n",
       "        ...  \n",
       "8351    False\n",
       "8352    False\n",
       "8353    False\n",
       "8354    False\n",
       "8355    False\n",
       "Name: mapbegin, Length: 8356, dtype: bool"
      ]
     },
     "metadata": {},
     "execution_count": 32
    }
   ],
   "source": [
    "df.mapbegin == \"民族大道光谷广场-公交站路东\""
   ]
  },
  {
   "cell_type": "code",
   "execution_count": 35,
   "metadata": {},
   "outputs": [
    {
     "output_type": "execute_result",
     "data": {
      "text/plain": [
       "            mapbegin  mapbeginlon  mapbeginlat  mapbeginlon.1  mapbeginlat.1  \\\n",
       "0     民族大道光谷广场-公交站路东   114.386925    30.500459     114.398925      30.504459   \n",
       "1     民族大道光谷广场-公交站路东   114.386925    30.500459     114.398925      30.504459   \n",
       "2     民族大道光谷广场-公交站路东   114.386925    30.500459     114.398925      30.504459   \n",
       "22    民族大道光谷广场-公交站路东   114.386925    30.500459     114.398925      30.504459   \n",
       "23    民族大道光谷广场-公交站路东   114.386925    30.500459     114.398925      30.504459   \n",
       "...              ...          ...          ...            ...            ...   \n",
       "7881  民族大道光谷广场-公交站路东   114.386925    30.500459     114.398925      30.504459   \n",
       "8222  民族大道光谷广场-公交站路东   114.386925    30.500459     114.398925      30.504459   \n",
       "8223  民族大道光谷广场-公交站路东   114.386925    30.500459     114.398925      30.504459   \n",
       "8224  民族大道光谷广场-公交站路东   114.386925    30.500459     114.398925      30.504459   \n",
       "8225  民族大道光谷广场-公交站路东   114.386925    30.500459     114.398925      30.504459   \n",
       "\n",
       "                mapend   mapendlon  mapendlat  mapendlon.1  mapendlat.1  打车次数  \n",
       "0            光谷|曙光星城B区  114.391000  30.482508   114.403000    30.486508   174  \n",
       "1                 光谷天地  114.397825  30.473273   114.409825    30.477273   158  \n",
       "2              光谷|丽顿酒店  114.410591  30.497201   114.422591    30.501201   145  \n",
       "22               光谷金融港  114.411766  30.452493   114.423766    30.456493   103  \n",
       "23    武汉K11购物艺术中心(光谷店)  114.400658  30.489905   114.412658    30.493905   100  \n",
       "...                ...         ...        ...          ...          ...   ...  \n",
       "7881        新华|新世界国贸大厦  114.258114  30.591484   114.270114    30.595484     5  \n",
       "8222      保利·公园九里(南湖路)  114.294677  30.504702   114.306677    30.508702     5  \n",
       "8223           光谷|清江山水  114.388225  30.470840   114.400225    30.474840     5  \n",
       "8224         南湖|江宏新村小区  114.301194  30.515885   114.313194    30.519885     5  \n",
       "8225           园林路-地铁站  114.365802  30.596156   114.377802    30.600156     5  \n",
       "\n",
       "[123 rows x 11 columns]"
      ],
      "text/html": "<div>\n<style scoped>\n    .dataframe tbody tr th:only-of-type {\n        vertical-align: middle;\n    }\n\n    .dataframe tbody tr th {\n        vertical-align: top;\n    }\n\n    .dataframe thead th {\n        text-align: right;\n    }\n</style>\n<table border=\"1\" class=\"dataframe\">\n  <thead>\n    <tr style=\"text-align: right;\">\n      <th></th>\n      <th>mapbegin</th>\n      <th>mapbeginlon</th>\n      <th>mapbeginlat</th>\n      <th>mapbeginlon.1</th>\n      <th>mapbeginlat.1</th>\n      <th>mapend</th>\n      <th>mapendlon</th>\n      <th>mapendlat</th>\n      <th>mapendlon.1</th>\n      <th>mapendlat.1</th>\n      <th>打车次数</th>\n    </tr>\n  </thead>\n  <tbody>\n    <tr>\n      <th>0</th>\n      <td>民族大道光谷广场-公交站路东</td>\n      <td>114.386925</td>\n      <td>30.500459</td>\n      <td>114.398925</td>\n      <td>30.504459</td>\n      <td>光谷|曙光星城B区</td>\n      <td>114.391000</td>\n      <td>30.482508</td>\n      <td>114.403000</td>\n      <td>30.486508</td>\n      <td>174</td>\n    </tr>\n    <tr>\n      <th>1</th>\n      <td>民族大道光谷广场-公交站路东</td>\n      <td>114.386925</td>\n      <td>30.500459</td>\n      <td>114.398925</td>\n      <td>30.504459</td>\n      <td>光谷天地</td>\n      <td>114.397825</td>\n      <td>30.473273</td>\n      <td>114.409825</td>\n      <td>30.477273</td>\n      <td>158</td>\n    </tr>\n    <tr>\n      <th>2</th>\n      <td>民族大道光谷广场-公交站路东</td>\n      <td>114.386925</td>\n      <td>30.500459</td>\n      <td>114.398925</td>\n      <td>30.504459</td>\n      <td>光谷|丽顿酒店</td>\n      <td>114.410591</td>\n      <td>30.497201</td>\n      <td>114.422591</td>\n      <td>30.501201</td>\n      <td>145</td>\n    </tr>\n    <tr>\n      <th>22</th>\n      <td>民族大道光谷广场-公交站路东</td>\n      <td>114.386925</td>\n      <td>30.500459</td>\n      <td>114.398925</td>\n      <td>30.504459</td>\n      <td>光谷金融港</td>\n      <td>114.411766</td>\n      <td>30.452493</td>\n      <td>114.423766</td>\n      <td>30.456493</td>\n      <td>103</td>\n    </tr>\n    <tr>\n      <th>23</th>\n      <td>民族大道光谷广场-公交站路东</td>\n      <td>114.386925</td>\n      <td>30.500459</td>\n      <td>114.398925</td>\n      <td>30.504459</td>\n      <td>武汉K11购物艺术中心(光谷店)</td>\n      <td>114.400658</td>\n      <td>30.489905</td>\n      <td>114.412658</td>\n      <td>30.493905</td>\n      <td>100</td>\n    </tr>\n    <tr>\n      <th>...</th>\n      <td>...</td>\n      <td>...</td>\n      <td>...</td>\n      <td>...</td>\n      <td>...</td>\n      <td>...</td>\n      <td>...</td>\n      <td>...</td>\n      <td>...</td>\n      <td>...</td>\n      <td>...</td>\n    </tr>\n    <tr>\n      <th>7881</th>\n      <td>民族大道光谷广场-公交站路东</td>\n      <td>114.386925</td>\n      <td>30.500459</td>\n      <td>114.398925</td>\n      <td>30.504459</td>\n      <td>新华|新世界国贸大厦</td>\n      <td>114.258114</td>\n      <td>30.591484</td>\n      <td>114.270114</td>\n      <td>30.595484</td>\n      <td>5</td>\n    </tr>\n    <tr>\n      <th>8222</th>\n      <td>民族大道光谷广场-公交站路东</td>\n      <td>114.386925</td>\n      <td>30.500459</td>\n      <td>114.398925</td>\n      <td>30.504459</td>\n      <td>保利·公园九里(南湖路)</td>\n      <td>114.294677</td>\n      <td>30.504702</td>\n      <td>114.306677</td>\n      <td>30.508702</td>\n      <td>5</td>\n    </tr>\n    <tr>\n      <th>8223</th>\n      <td>民族大道光谷广场-公交站路东</td>\n      <td>114.386925</td>\n      <td>30.500459</td>\n      <td>114.398925</td>\n      <td>30.504459</td>\n      <td>光谷|清江山水</td>\n      <td>114.388225</td>\n      <td>30.470840</td>\n      <td>114.400225</td>\n      <td>30.474840</td>\n      <td>5</td>\n    </tr>\n    <tr>\n      <th>8224</th>\n      <td>民族大道光谷广场-公交站路东</td>\n      <td>114.386925</td>\n      <td>30.500459</td>\n      <td>114.398925</td>\n      <td>30.504459</td>\n      <td>南湖|江宏新村小区</td>\n      <td>114.301194</td>\n      <td>30.515885</td>\n      <td>114.313194</td>\n      <td>30.519885</td>\n      <td>5</td>\n    </tr>\n    <tr>\n      <th>8225</th>\n      <td>民族大道光谷广场-公交站路东</td>\n      <td>114.386925</td>\n      <td>30.500459</td>\n      <td>114.398925</td>\n      <td>30.504459</td>\n      <td>园林路-地铁站</td>\n      <td>114.365802</td>\n      <td>30.596156</td>\n      <td>114.377802</td>\n      <td>30.600156</td>\n      <td>5</td>\n    </tr>\n  </tbody>\n</table>\n<p>123 rows × 11 columns</p>\n</div>"
     },
     "metadata": {},
     "execution_count": 35
    }
   ],
   "source": [
    "df.loc[df.mapbegin == \"民族大道光谷广场-公交站路东\"]"
   ]
  },
  {
   "cell_type": "code",
   "execution_count": 36,
   "metadata": {},
   "outputs": [
    {
     "output_type": "execute_result",
     "data": {
      "text/plain": [
       "         mapbegin  mapbeginlon  mapbeginlat  mapbeginlon.1  mapbeginlat.1  \\\n",
       "0  民族大道光谷广场-公交站路东   114.386925    30.500459     114.398925      30.504459   \n",
       "\n",
       "      mapend  mapendlon  mapendlat  mapendlon.1  mapendlat.1  打车次数  \n",
       "0  光谷|曙光星城B区    114.391  30.482508      114.403    30.486508   174  "
      ],
      "text/html": "<div>\n<style scoped>\n    .dataframe tbody tr th:only-of-type {\n        vertical-align: middle;\n    }\n\n    .dataframe tbody tr th {\n        vertical-align: top;\n    }\n\n    .dataframe thead th {\n        text-align: right;\n    }\n</style>\n<table border=\"1\" class=\"dataframe\">\n  <thead>\n    <tr style=\"text-align: right;\">\n      <th></th>\n      <th>mapbegin</th>\n      <th>mapbeginlon</th>\n      <th>mapbeginlat</th>\n      <th>mapbeginlon.1</th>\n      <th>mapbeginlat.1</th>\n      <th>mapend</th>\n      <th>mapendlon</th>\n      <th>mapendlat</th>\n      <th>mapendlon.1</th>\n      <th>mapendlat.1</th>\n      <th>打车次数</th>\n    </tr>\n  </thead>\n  <tbody>\n    <tr>\n      <th>0</th>\n      <td>民族大道光谷广场-公交站路东</td>\n      <td>114.386925</td>\n      <td>30.500459</td>\n      <td>114.398925</td>\n      <td>30.504459</td>\n      <td>光谷|曙光星城B区</td>\n      <td>114.391</td>\n      <td>30.482508</td>\n      <td>114.403</td>\n      <td>30.486508</td>\n      <td>174</td>\n    </tr>\n  </tbody>\n</table>\n</div>"
     },
     "metadata": {},
     "execution_count": 36
    }
   ],
   "source": [
    "df.loc[(df.mapbegin == \"民族大道光谷广场-公交站路东\") & (df.打车次数 > 170)]"
   ]
  },
  {
   "cell_type": "code",
   "execution_count": 37,
   "metadata": {},
   "outputs": [
    {
     "output_type": "execute_result",
     "data": {
      "text/plain": [
       "            mapbegin  mapbeginlon  mapbeginlat  mapbeginlon.1  mapbeginlat.1  \\\n",
       "0     民族大道光谷广场-公交站路东   114.386925    30.500459     114.398925      30.504459   \n",
       "1     民族大道光谷广场-公交站路东   114.386925    30.500459     114.398925      30.504459   \n",
       "2     民族大道光谷广场-公交站路东   114.386925    30.500459     114.398925      30.504459   \n",
       "22    民族大道光谷广场-公交站路东   114.386925    30.500459     114.398925      30.504459   \n",
       "23    民族大道光谷广场-公交站路东   114.386925    30.500459     114.398925      30.504459   \n",
       "...              ...          ...          ...            ...            ...   \n",
       "7881  民族大道光谷广场-公交站路东   114.386925    30.500459     114.398925      30.504459   \n",
       "8222  民族大道光谷广场-公交站路东   114.386925    30.500459     114.398925      30.504459   \n",
       "8223  民族大道光谷广场-公交站路东   114.386925    30.500459     114.398925      30.504459   \n",
       "8224  民族大道光谷广场-公交站路东   114.386925    30.500459     114.398925      30.504459   \n",
       "8225  民族大道光谷广场-公交站路东   114.386925    30.500459     114.398925      30.504459   \n",
       "\n",
       "                mapend   mapendlon  mapendlat  mapendlon.1  mapendlat.1  打车次数  \n",
       "0            光谷|曙光星城B区  114.391000  30.482508   114.403000    30.486508   174  \n",
       "1                 光谷天地  114.397825  30.473273   114.409825    30.477273   158  \n",
       "2              光谷|丽顿酒店  114.410591  30.497201   114.422591    30.501201   145  \n",
       "22               光谷金融港  114.411766  30.452493   114.423766    30.456493   103  \n",
       "23    武汉K11购物艺术中心(光谷店)  114.400658  30.489905   114.412658    30.493905   100  \n",
       "...                ...         ...        ...          ...          ...   ...  \n",
       "7881        新华|新世界国贸大厦  114.258114  30.591484   114.270114    30.595484     5  \n",
       "8222      保利·公园九里(南湖路)  114.294677  30.504702   114.306677    30.508702     5  \n",
       "8223           光谷|清江山水  114.388225  30.470840   114.400225    30.474840     5  \n",
       "8224         南湖|江宏新村小区  114.301194  30.515885   114.313194    30.519885     5  \n",
       "8225           园林路-地铁站  114.365802  30.596156   114.377802    30.600156     5  \n",
       "\n",
       "[123 rows x 11 columns]"
      ],
      "text/html": "<div>\n<style scoped>\n    .dataframe tbody tr th:only-of-type {\n        vertical-align: middle;\n    }\n\n    .dataframe tbody tr th {\n        vertical-align: top;\n    }\n\n    .dataframe thead th {\n        text-align: right;\n    }\n</style>\n<table border=\"1\" class=\"dataframe\">\n  <thead>\n    <tr style=\"text-align: right;\">\n      <th></th>\n      <th>mapbegin</th>\n      <th>mapbeginlon</th>\n      <th>mapbeginlat</th>\n      <th>mapbeginlon.1</th>\n      <th>mapbeginlat.1</th>\n      <th>mapend</th>\n      <th>mapendlon</th>\n      <th>mapendlat</th>\n      <th>mapendlon.1</th>\n      <th>mapendlat.1</th>\n      <th>打车次数</th>\n    </tr>\n  </thead>\n  <tbody>\n    <tr>\n      <th>0</th>\n      <td>民族大道光谷广场-公交站路东</td>\n      <td>114.386925</td>\n      <td>30.500459</td>\n      <td>114.398925</td>\n      <td>30.504459</td>\n      <td>光谷|曙光星城B区</td>\n      <td>114.391000</td>\n      <td>30.482508</td>\n      <td>114.403000</td>\n      <td>30.486508</td>\n      <td>174</td>\n    </tr>\n    <tr>\n      <th>1</th>\n      <td>民族大道光谷广场-公交站路东</td>\n      <td>114.386925</td>\n      <td>30.500459</td>\n      <td>114.398925</td>\n      <td>30.504459</td>\n      <td>光谷天地</td>\n      <td>114.397825</td>\n      <td>30.473273</td>\n      <td>114.409825</td>\n      <td>30.477273</td>\n      <td>158</td>\n    </tr>\n    <tr>\n      <th>2</th>\n      <td>民族大道光谷广场-公交站路东</td>\n      <td>114.386925</td>\n      <td>30.500459</td>\n      <td>114.398925</td>\n      <td>30.504459</td>\n      <td>光谷|丽顿酒店</td>\n      <td>114.410591</td>\n      <td>30.497201</td>\n      <td>114.422591</td>\n      <td>30.501201</td>\n      <td>145</td>\n    </tr>\n    <tr>\n      <th>22</th>\n      <td>民族大道光谷广场-公交站路东</td>\n      <td>114.386925</td>\n      <td>30.500459</td>\n      <td>114.398925</td>\n      <td>30.504459</td>\n      <td>光谷金融港</td>\n      <td>114.411766</td>\n      <td>30.452493</td>\n      <td>114.423766</td>\n      <td>30.456493</td>\n      <td>103</td>\n    </tr>\n    <tr>\n      <th>23</th>\n      <td>民族大道光谷广场-公交站路东</td>\n      <td>114.386925</td>\n      <td>30.500459</td>\n      <td>114.398925</td>\n      <td>30.504459</td>\n      <td>武汉K11购物艺术中心(光谷店)</td>\n      <td>114.400658</td>\n      <td>30.489905</td>\n      <td>114.412658</td>\n      <td>30.493905</td>\n      <td>100</td>\n    </tr>\n    <tr>\n      <th>...</th>\n      <td>...</td>\n      <td>...</td>\n      <td>...</td>\n      <td>...</td>\n      <td>...</td>\n      <td>...</td>\n      <td>...</td>\n      <td>...</td>\n      <td>...</td>\n      <td>...</td>\n      <td>...</td>\n    </tr>\n    <tr>\n      <th>7881</th>\n      <td>民族大道光谷广场-公交站路东</td>\n      <td>114.386925</td>\n      <td>30.500459</td>\n      <td>114.398925</td>\n      <td>30.504459</td>\n      <td>新华|新世界国贸大厦</td>\n      <td>114.258114</td>\n      <td>30.591484</td>\n      <td>114.270114</td>\n      <td>30.595484</td>\n      <td>5</td>\n    </tr>\n    <tr>\n      <th>8222</th>\n      <td>民族大道光谷广场-公交站路东</td>\n      <td>114.386925</td>\n      <td>30.500459</td>\n      <td>114.398925</td>\n      <td>30.504459</td>\n      <td>保利·公园九里(南湖路)</td>\n      <td>114.294677</td>\n      <td>30.504702</td>\n      <td>114.306677</td>\n      <td>30.508702</td>\n      <td>5</td>\n    </tr>\n    <tr>\n      <th>8223</th>\n      <td>民族大道光谷广场-公交站路东</td>\n      <td>114.386925</td>\n      <td>30.500459</td>\n      <td>114.398925</td>\n      <td>30.504459</td>\n      <td>光谷|清江山水</td>\n      <td>114.388225</td>\n      <td>30.470840</td>\n      <td>114.400225</td>\n      <td>30.474840</td>\n      <td>5</td>\n    </tr>\n    <tr>\n      <th>8224</th>\n      <td>民族大道光谷广场-公交站路东</td>\n      <td>114.386925</td>\n      <td>30.500459</td>\n      <td>114.398925</td>\n      <td>30.504459</td>\n      <td>南湖|江宏新村小区</td>\n      <td>114.301194</td>\n      <td>30.515885</td>\n      <td>114.313194</td>\n      <td>30.519885</td>\n      <td>5</td>\n    </tr>\n    <tr>\n      <th>8225</th>\n      <td>民族大道光谷广场-公交站路东</td>\n      <td>114.386925</td>\n      <td>30.500459</td>\n      <td>114.398925</td>\n      <td>30.504459</td>\n      <td>园林路-地铁站</td>\n      <td>114.365802</td>\n      <td>30.596156</td>\n      <td>114.377802</td>\n      <td>30.600156</td>\n      <td>5</td>\n    </tr>\n  </tbody>\n</table>\n<p>123 rows × 11 columns</p>\n</div>"
     },
     "metadata": {},
     "execution_count": 37
    }
   ],
   "source": [
    "df.loc[(df.mapbegin == \"民族大道光谷广场-公交站路东\") | (df.打车次数 > 170)]"
   ]
  },
  {
   "cell_type": "code",
   "execution_count": 38,
   "metadata": {},
   "outputs": [
    {
     "output_type": "execute_result",
     "data": {
      "text/plain": [
       "            mapbegin  mapbeginlon  mapbeginlat  mapbeginlon.1  mapbeginlat.1  \\\n",
       "0     民族大道光谷广场-公交站路东   114.386925    30.500459     114.398925      30.504459   \n",
       "1     民族大道光谷广场-公交站路东   114.386925    30.500459     114.398925      30.504459   \n",
       "2     民族大道光谷广场-公交站路东   114.386925    30.500459     114.398925      30.504459   \n",
       "22    民族大道光谷广场-公交站路东   114.386925    30.500459     114.398925      30.504459   \n",
       "23    民族大道光谷广场-公交站路东   114.386925    30.500459     114.398925      30.504459   \n",
       "...              ...          ...          ...            ...            ...   \n",
       "8224  民族大道光谷广场-公交站路东   114.386925    30.500459     114.398925      30.504459   \n",
       "8225  民族大道光谷广场-公交站路东   114.386925    30.500459     114.398925      30.504459   \n",
       "8351   卓刀泉南路|湖北省肿瘤医院   114.352560    30.496416     114.364560      30.500416   \n",
       "8352   卓刀泉南路|湖北省肿瘤医院   114.352560    30.496416     114.364560      30.500416   \n",
       "8353   卓刀泉南路|湖北省肿瘤医院   114.352560    30.496416     114.364560      30.500416   \n",
       "\n",
       "                mapend   mapendlon  mapendlat  mapendlon.1  mapendlat.1  打车次数  \n",
       "0            光谷|曙光星城B区  114.391000  30.482508   114.403000    30.486508   174  \n",
       "1                 光谷天地  114.397825  30.473273   114.409825    30.477273   158  \n",
       "2              光谷|丽顿酒店  114.410591  30.497201   114.422591    30.501201   145  \n",
       "22               光谷金融港  114.411766  30.452493   114.423766    30.456493   103  \n",
       "23    武汉K11购物艺术中心(光谷店)  114.400658  30.489905   114.412658    30.493905   100  \n",
       "...                ...         ...        ...          ...          ...   ...  \n",
       "8224         南湖|江宏新村小区  114.301194  30.515885   114.313194    30.519885     5  \n",
       "8225           园林路-地铁站  114.365802  30.596156   114.377802    30.600156     5  \n",
       "8351         洪山区|保利蓝海郡  114.362493  30.489645   114.374493    30.493645     5  \n",
       "8352     珞南|南国大家装(江南店)  114.338649  30.508854   114.350649    30.512854     5  \n",
       "8353         武昌火车站|武昌站  114.304895  30.525332   114.316895    30.529332     5  \n",
       "\n",
       "[139 rows x 11 columns]"
      ],
      "text/html": "<div>\n<style scoped>\n    .dataframe tbody tr th:only-of-type {\n        vertical-align: middle;\n    }\n\n    .dataframe tbody tr th {\n        vertical-align: top;\n    }\n\n    .dataframe thead th {\n        text-align: right;\n    }\n</style>\n<table border=\"1\" class=\"dataframe\">\n  <thead>\n    <tr style=\"text-align: right;\">\n      <th></th>\n      <th>mapbegin</th>\n      <th>mapbeginlon</th>\n      <th>mapbeginlat</th>\n      <th>mapbeginlon.1</th>\n      <th>mapbeginlat.1</th>\n      <th>mapend</th>\n      <th>mapendlon</th>\n      <th>mapendlat</th>\n      <th>mapendlon.1</th>\n      <th>mapendlat.1</th>\n      <th>打车次数</th>\n    </tr>\n  </thead>\n  <tbody>\n    <tr>\n      <th>0</th>\n      <td>民族大道光谷广场-公交站路东</td>\n      <td>114.386925</td>\n      <td>30.500459</td>\n      <td>114.398925</td>\n      <td>30.504459</td>\n      <td>光谷|曙光星城B区</td>\n      <td>114.391000</td>\n      <td>30.482508</td>\n      <td>114.403000</td>\n      <td>30.486508</td>\n      <td>174</td>\n    </tr>\n    <tr>\n      <th>1</th>\n      <td>民族大道光谷广场-公交站路东</td>\n      <td>114.386925</td>\n      <td>30.500459</td>\n      <td>114.398925</td>\n      <td>30.504459</td>\n      <td>光谷天地</td>\n      <td>114.397825</td>\n      <td>30.473273</td>\n      <td>114.409825</td>\n      <td>30.477273</td>\n      <td>158</td>\n    </tr>\n    <tr>\n      <th>2</th>\n      <td>民族大道光谷广场-公交站路东</td>\n      <td>114.386925</td>\n      <td>30.500459</td>\n      <td>114.398925</td>\n      <td>30.504459</td>\n      <td>光谷|丽顿酒店</td>\n      <td>114.410591</td>\n      <td>30.497201</td>\n      <td>114.422591</td>\n      <td>30.501201</td>\n      <td>145</td>\n    </tr>\n    <tr>\n      <th>22</th>\n      <td>民族大道光谷广场-公交站路东</td>\n      <td>114.386925</td>\n      <td>30.500459</td>\n      <td>114.398925</td>\n      <td>30.504459</td>\n      <td>光谷金融港</td>\n      <td>114.411766</td>\n      <td>30.452493</td>\n      <td>114.423766</td>\n      <td>30.456493</td>\n      <td>103</td>\n    </tr>\n    <tr>\n      <th>23</th>\n      <td>民族大道光谷广场-公交站路东</td>\n      <td>114.386925</td>\n      <td>30.500459</td>\n      <td>114.398925</td>\n      <td>30.504459</td>\n      <td>武汉K11购物艺术中心(光谷店)</td>\n      <td>114.400658</td>\n      <td>30.489905</td>\n      <td>114.412658</td>\n      <td>30.493905</td>\n      <td>100</td>\n    </tr>\n    <tr>\n      <th>...</th>\n      <td>...</td>\n      <td>...</td>\n      <td>...</td>\n      <td>...</td>\n      <td>...</td>\n      <td>...</td>\n      <td>...</td>\n      <td>...</td>\n      <td>...</td>\n      <td>...</td>\n      <td>...</td>\n    </tr>\n    <tr>\n      <th>8224</th>\n      <td>民族大道光谷广场-公交站路东</td>\n      <td>114.386925</td>\n      <td>30.500459</td>\n      <td>114.398925</td>\n      <td>30.504459</td>\n      <td>南湖|江宏新村小区</td>\n      <td>114.301194</td>\n      <td>30.515885</td>\n      <td>114.313194</td>\n      <td>30.519885</td>\n      <td>5</td>\n    </tr>\n    <tr>\n      <th>8225</th>\n      <td>民族大道光谷广场-公交站路东</td>\n      <td>114.386925</td>\n      <td>30.500459</td>\n      <td>114.398925</td>\n      <td>30.504459</td>\n      <td>园林路-地铁站</td>\n      <td>114.365802</td>\n      <td>30.596156</td>\n      <td>114.377802</td>\n      <td>30.600156</td>\n      <td>5</td>\n    </tr>\n    <tr>\n      <th>8351</th>\n      <td>卓刀泉南路|湖北省肿瘤医院</td>\n      <td>114.352560</td>\n      <td>30.496416</td>\n      <td>114.364560</td>\n      <td>30.500416</td>\n      <td>洪山区|保利蓝海郡</td>\n      <td>114.362493</td>\n      <td>30.489645</td>\n      <td>114.374493</td>\n      <td>30.493645</td>\n      <td>5</td>\n    </tr>\n    <tr>\n      <th>8352</th>\n      <td>卓刀泉南路|湖北省肿瘤医院</td>\n      <td>114.352560</td>\n      <td>30.496416</td>\n      <td>114.364560</td>\n      <td>30.500416</td>\n      <td>珞南|南国大家装(江南店)</td>\n      <td>114.338649</td>\n      <td>30.508854</td>\n      <td>114.350649</td>\n      <td>30.512854</td>\n      <td>5</td>\n    </tr>\n    <tr>\n      <th>8353</th>\n      <td>卓刀泉南路|湖北省肿瘤医院</td>\n      <td>114.352560</td>\n      <td>30.496416</td>\n      <td>114.364560</td>\n      <td>30.500416</td>\n      <td>武昌火车站|武昌站</td>\n      <td>114.304895</td>\n      <td>30.525332</td>\n      <td>114.316895</td>\n      <td>30.529332</td>\n      <td>5</td>\n    </tr>\n  </tbody>\n</table>\n<p>139 rows × 11 columns</p>\n</div>"
     },
     "metadata": {},
     "execution_count": 38
    }
   ],
   "source": [
    "df.loc[df.mapbegin.isin([\"民族大道光谷广场-公交站路东\", \"卓刀泉南路|湖北省肿瘤医院\"])]"
   ]
  },
  {
   "cell_type": "code",
   "execution_count": 39,
   "metadata": {},
   "outputs": [
    {
     "output_type": "execute_result",
     "data": {
      "text/plain": [
       "               mapbegin  mapbeginlon  mapbeginlat  mapbeginlon.1  \\\n",
       "0        民族大道光谷广场-公交站路东   114.386925    30.500459     114.398925   \n",
       "1        民族大道光谷广场-公交站路东   114.386925    30.500459     114.398925   \n",
       "2        民族大道光谷广场-公交站路东   114.386925    30.500459     114.398925   \n",
       "3     纸坊|金逸影城(九全嘉国际广场店)   114.317790    30.354540     114.329790   \n",
       "4           纸坊|美味传奇农家菜馆   114.306421    30.348027     114.318421   \n",
       "...                 ...          ...          ...            ...   \n",
       "8351      卓刀泉南路|湖北省肿瘤医院   114.352560    30.496416     114.364560   \n",
       "8352      卓刀泉南路|湖北省肿瘤医院   114.352560    30.496416     114.364560   \n",
       "8353      卓刀泉南路|湖北省肿瘤医院   114.352560    30.496416     114.364560   \n",
       "8354         宗关站B出口(武汉)   114.214448    30.576712     114.226448   \n",
       "8355         宗关站B出口(武汉)   114.214448    30.576712     114.226448   \n",
       "\n",
       "      mapbeginlat.1          mapend   mapendlon  mapendlat  mapendlon.1  \\\n",
       "0         30.504459       光谷|曙光星城B区  114.391000  30.482508   114.403000   \n",
       "1         30.504459            光谷天地  114.397825  30.473273   114.409825   \n",
       "2         30.504459         光谷|丽顿酒店  114.410591  30.497201   114.422591   \n",
       "3         30.358540        纸坊|江夏体育馆  114.303393  30.349184   114.315393   \n",
       "4         30.352027       江夏区第一人民医院  114.308387  30.367964   114.320387   \n",
       "...             ...             ...         ...        ...          ...   \n",
       "8351      30.500416       洪山区|保利蓝海郡  114.362493  30.489645   114.374493   \n",
       "8352      30.500416   珞南|南国大家装(江南店)  114.338649  30.508854   114.350649   \n",
       "8353      30.500416       武昌火车站|武昌站  114.304895  30.525332   114.316895   \n",
       "8354      30.580712  江汉路步行商业街(江汉四路)  114.276795  30.580114   114.288795   \n",
       "8355      30.580712         陶家岭-地铁站  114.189471  30.542069   114.201471   \n",
       "\n",
       "      mapendlat.1  打车次数  \n",
       "0       30.486508   174  \n",
       "1       30.477273   158  \n",
       "2       30.501201   145  \n",
       "3       30.353184   142  \n",
       "4       30.371964   140  \n",
       "...           ...   ...  \n",
       "8351    30.493645     5  \n",
       "8352    30.512854     5  \n",
       "8353    30.529332     5  \n",
       "8354    30.584114     5  \n",
       "8355    30.546069     5  \n",
       "\n",
       "[8356 rows x 11 columns]"
      ],
      "text/html": "<div>\n<style scoped>\n    .dataframe tbody tr th:only-of-type {\n        vertical-align: middle;\n    }\n\n    .dataframe tbody tr th {\n        vertical-align: top;\n    }\n\n    .dataframe thead th {\n        text-align: right;\n    }\n</style>\n<table border=\"1\" class=\"dataframe\">\n  <thead>\n    <tr style=\"text-align: right;\">\n      <th></th>\n      <th>mapbegin</th>\n      <th>mapbeginlon</th>\n      <th>mapbeginlat</th>\n      <th>mapbeginlon.1</th>\n      <th>mapbeginlat.1</th>\n      <th>mapend</th>\n      <th>mapendlon</th>\n      <th>mapendlat</th>\n      <th>mapendlon.1</th>\n      <th>mapendlat.1</th>\n      <th>打车次数</th>\n    </tr>\n  </thead>\n  <tbody>\n    <tr>\n      <th>0</th>\n      <td>民族大道光谷广场-公交站路东</td>\n      <td>114.386925</td>\n      <td>30.500459</td>\n      <td>114.398925</td>\n      <td>30.504459</td>\n      <td>光谷|曙光星城B区</td>\n      <td>114.391000</td>\n      <td>30.482508</td>\n      <td>114.403000</td>\n      <td>30.486508</td>\n      <td>174</td>\n    </tr>\n    <tr>\n      <th>1</th>\n      <td>民族大道光谷广场-公交站路东</td>\n      <td>114.386925</td>\n      <td>30.500459</td>\n      <td>114.398925</td>\n      <td>30.504459</td>\n      <td>光谷天地</td>\n      <td>114.397825</td>\n      <td>30.473273</td>\n      <td>114.409825</td>\n      <td>30.477273</td>\n      <td>158</td>\n    </tr>\n    <tr>\n      <th>2</th>\n      <td>民族大道光谷广场-公交站路东</td>\n      <td>114.386925</td>\n      <td>30.500459</td>\n      <td>114.398925</td>\n      <td>30.504459</td>\n      <td>光谷|丽顿酒店</td>\n      <td>114.410591</td>\n      <td>30.497201</td>\n      <td>114.422591</td>\n      <td>30.501201</td>\n      <td>145</td>\n    </tr>\n    <tr>\n      <th>3</th>\n      <td>纸坊|金逸影城(九全嘉国际广场店)</td>\n      <td>114.317790</td>\n      <td>30.354540</td>\n      <td>114.329790</td>\n      <td>30.358540</td>\n      <td>纸坊|江夏体育馆</td>\n      <td>114.303393</td>\n      <td>30.349184</td>\n      <td>114.315393</td>\n      <td>30.353184</td>\n      <td>142</td>\n    </tr>\n    <tr>\n      <th>4</th>\n      <td>纸坊|美味传奇农家菜馆</td>\n      <td>114.306421</td>\n      <td>30.348027</td>\n      <td>114.318421</td>\n      <td>30.352027</td>\n      <td>江夏区第一人民医院</td>\n      <td>114.308387</td>\n      <td>30.367964</td>\n      <td>114.320387</td>\n      <td>30.371964</td>\n      <td>140</td>\n    </tr>\n    <tr>\n      <th>...</th>\n      <td>...</td>\n      <td>...</td>\n      <td>...</td>\n      <td>...</td>\n      <td>...</td>\n      <td>...</td>\n      <td>...</td>\n      <td>...</td>\n      <td>...</td>\n      <td>...</td>\n      <td>...</td>\n    </tr>\n    <tr>\n      <th>8351</th>\n      <td>卓刀泉南路|湖北省肿瘤医院</td>\n      <td>114.352560</td>\n      <td>30.496416</td>\n      <td>114.364560</td>\n      <td>30.500416</td>\n      <td>洪山区|保利蓝海郡</td>\n      <td>114.362493</td>\n      <td>30.489645</td>\n      <td>114.374493</td>\n      <td>30.493645</td>\n      <td>5</td>\n    </tr>\n    <tr>\n      <th>8352</th>\n      <td>卓刀泉南路|湖北省肿瘤医院</td>\n      <td>114.352560</td>\n      <td>30.496416</td>\n      <td>114.364560</td>\n      <td>30.500416</td>\n      <td>珞南|南国大家装(江南店)</td>\n      <td>114.338649</td>\n      <td>30.508854</td>\n      <td>114.350649</td>\n      <td>30.512854</td>\n      <td>5</td>\n    </tr>\n    <tr>\n      <th>8353</th>\n      <td>卓刀泉南路|湖北省肿瘤医院</td>\n      <td>114.352560</td>\n      <td>30.496416</td>\n      <td>114.364560</td>\n      <td>30.500416</td>\n      <td>武昌火车站|武昌站</td>\n      <td>114.304895</td>\n      <td>30.525332</td>\n      <td>114.316895</td>\n      <td>30.529332</td>\n      <td>5</td>\n    </tr>\n    <tr>\n      <th>8354</th>\n      <td>宗关站B出口(武汉)</td>\n      <td>114.214448</td>\n      <td>30.576712</td>\n      <td>114.226448</td>\n      <td>30.580712</td>\n      <td>江汉路步行商业街(江汉四路)</td>\n      <td>114.276795</td>\n      <td>30.580114</td>\n      <td>114.288795</td>\n      <td>30.584114</td>\n      <td>5</td>\n    </tr>\n    <tr>\n      <th>8355</th>\n      <td>宗关站B出口(武汉)</td>\n      <td>114.214448</td>\n      <td>30.576712</td>\n      <td>114.226448</td>\n      <td>30.580712</td>\n      <td>陶家岭-地铁站</td>\n      <td>114.189471</td>\n      <td>30.542069</td>\n      <td>114.201471</td>\n      <td>30.546069</td>\n      <td>5</td>\n    </tr>\n  </tbody>\n</table>\n<p>8356 rows × 11 columns</p>\n</div>"
     },
     "metadata": {},
     "execution_count": 39
    }
   ],
   "source": [
    "df.loc[df.mapbegin.notnull()]"
   ]
  },
  {
   "source": [
    "### Assigning data"
   ],
   "cell_type": "markdown",
   "metadata": {}
  },
  {
   "cell_type": "code",
   "execution_count": 40,
   "metadata": {},
   "outputs": [],
   "source": [
    "df[\"length\"] = 0"
   ]
  },
  {
   "cell_type": "code",
   "execution_count": 41,
   "metadata": {},
   "outputs": [
    {
     "output_type": "execute_result",
     "data": {
      "text/plain": [
       "               mapbegin  mapbeginlon  mapbeginlat  mapbeginlon.1  \\\n",
       "0        民族大道光谷广场-公交站路东   114.386925    30.500459     114.398925   \n",
       "1        民族大道光谷广场-公交站路东   114.386925    30.500459     114.398925   \n",
       "2        民族大道光谷广场-公交站路东   114.386925    30.500459     114.398925   \n",
       "3     纸坊|金逸影城(九全嘉国际广场店)   114.317790    30.354540     114.329790   \n",
       "4           纸坊|美味传奇农家菜馆   114.306421    30.348027     114.318421   \n",
       "...                 ...          ...          ...            ...   \n",
       "8351      卓刀泉南路|湖北省肿瘤医院   114.352560    30.496416     114.364560   \n",
       "8352      卓刀泉南路|湖北省肿瘤医院   114.352560    30.496416     114.364560   \n",
       "8353      卓刀泉南路|湖北省肿瘤医院   114.352560    30.496416     114.364560   \n",
       "8354         宗关站B出口(武汉)   114.214448    30.576712     114.226448   \n",
       "8355         宗关站B出口(武汉)   114.214448    30.576712     114.226448   \n",
       "\n",
       "      mapbeginlat.1          mapend   mapendlon  mapendlat  mapendlon.1  \\\n",
       "0         30.504459       光谷|曙光星城B区  114.391000  30.482508   114.403000   \n",
       "1         30.504459            光谷天地  114.397825  30.473273   114.409825   \n",
       "2         30.504459         光谷|丽顿酒店  114.410591  30.497201   114.422591   \n",
       "3         30.358540        纸坊|江夏体育馆  114.303393  30.349184   114.315393   \n",
       "4         30.352027       江夏区第一人民医院  114.308387  30.367964   114.320387   \n",
       "...             ...             ...         ...        ...          ...   \n",
       "8351      30.500416       洪山区|保利蓝海郡  114.362493  30.489645   114.374493   \n",
       "8352      30.500416   珞南|南国大家装(江南店)  114.338649  30.508854   114.350649   \n",
       "8353      30.500416       武昌火车站|武昌站  114.304895  30.525332   114.316895   \n",
       "8354      30.580712  江汉路步行商业街(江汉四路)  114.276795  30.580114   114.288795   \n",
       "8355      30.580712         陶家岭-地铁站  114.189471  30.542069   114.201471   \n",
       "\n",
       "      mapendlat.1  打车次数  length  \n",
       "0       30.486508   174       0  \n",
       "1       30.477273   158       0  \n",
       "2       30.501201   145       0  \n",
       "3       30.353184   142       0  \n",
       "4       30.371964   140       0  \n",
       "...           ...   ...     ...  \n",
       "8351    30.493645     5       0  \n",
       "8352    30.512854     5       0  \n",
       "8353    30.529332     5       0  \n",
       "8354    30.584114     5       0  \n",
       "8355    30.546069     5       0  \n",
       "\n",
       "[8356 rows x 12 columns]"
      ],
      "text/html": "<div>\n<style scoped>\n    .dataframe tbody tr th:only-of-type {\n        vertical-align: middle;\n    }\n\n    .dataframe tbody tr th {\n        vertical-align: top;\n    }\n\n    .dataframe thead th {\n        text-align: right;\n    }\n</style>\n<table border=\"1\" class=\"dataframe\">\n  <thead>\n    <tr style=\"text-align: right;\">\n      <th></th>\n      <th>mapbegin</th>\n      <th>mapbeginlon</th>\n      <th>mapbeginlat</th>\n      <th>mapbeginlon.1</th>\n      <th>mapbeginlat.1</th>\n      <th>mapend</th>\n      <th>mapendlon</th>\n      <th>mapendlat</th>\n      <th>mapendlon.1</th>\n      <th>mapendlat.1</th>\n      <th>打车次数</th>\n      <th>length</th>\n    </tr>\n  </thead>\n  <tbody>\n    <tr>\n      <th>0</th>\n      <td>民族大道光谷广场-公交站路东</td>\n      <td>114.386925</td>\n      <td>30.500459</td>\n      <td>114.398925</td>\n      <td>30.504459</td>\n      <td>光谷|曙光星城B区</td>\n      <td>114.391000</td>\n      <td>30.482508</td>\n      <td>114.403000</td>\n      <td>30.486508</td>\n      <td>174</td>\n      <td>0</td>\n    </tr>\n    <tr>\n      <th>1</th>\n      <td>民族大道光谷广场-公交站路东</td>\n      <td>114.386925</td>\n      <td>30.500459</td>\n      <td>114.398925</td>\n      <td>30.504459</td>\n      <td>光谷天地</td>\n      <td>114.397825</td>\n      <td>30.473273</td>\n      <td>114.409825</td>\n      <td>30.477273</td>\n      <td>158</td>\n      <td>0</td>\n    </tr>\n    <tr>\n      <th>2</th>\n      <td>民族大道光谷广场-公交站路东</td>\n      <td>114.386925</td>\n      <td>30.500459</td>\n      <td>114.398925</td>\n      <td>30.504459</td>\n      <td>光谷|丽顿酒店</td>\n      <td>114.410591</td>\n      <td>30.497201</td>\n      <td>114.422591</td>\n      <td>30.501201</td>\n      <td>145</td>\n      <td>0</td>\n    </tr>\n    <tr>\n      <th>3</th>\n      <td>纸坊|金逸影城(九全嘉国际广场店)</td>\n      <td>114.317790</td>\n      <td>30.354540</td>\n      <td>114.329790</td>\n      <td>30.358540</td>\n      <td>纸坊|江夏体育馆</td>\n      <td>114.303393</td>\n      <td>30.349184</td>\n      <td>114.315393</td>\n      <td>30.353184</td>\n      <td>142</td>\n      <td>0</td>\n    </tr>\n    <tr>\n      <th>4</th>\n      <td>纸坊|美味传奇农家菜馆</td>\n      <td>114.306421</td>\n      <td>30.348027</td>\n      <td>114.318421</td>\n      <td>30.352027</td>\n      <td>江夏区第一人民医院</td>\n      <td>114.308387</td>\n      <td>30.367964</td>\n      <td>114.320387</td>\n      <td>30.371964</td>\n      <td>140</td>\n      <td>0</td>\n    </tr>\n    <tr>\n      <th>...</th>\n      <td>...</td>\n      <td>...</td>\n      <td>...</td>\n      <td>...</td>\n      <td>...</td>\n      <td>...</td>\n      <td>...</td>\n      <td>...</td>\n      <td>...</td>\n      <td>...</td>\n      <td>...</td>\n      <td>...</td>\n    </tr>\n    <tr>\n      <th>8351</th>\n      <td>卓刀泉南路|湖北省肿瘤医院</td>\n      <td>114.352560</td>\n      <td>30.496416</td>\n      <td>114.364560</td>\n      <td>30.500416</td>\n      <td>洪山区|保利蓝海郡</td>\n      <td>114.362493</td>\n      <td>30.489645</td>\n      <td>114.374493</td>\n      <td>30.493645</td>\n      <td>5</td>\n      <td>0</td>\n    </tr>\n    <tr>\n      <th>8352</th>\n      <td>卓刀泉南路|湖北省肿瘤医院</td>\n      <td>114.352560</td>\n      <td>30.496416</td>\n      <td>114.364560</td>\n      <td>30.500416</td>\n      <td>珞南|南国大家装(江南店)</td>\n      <td>114.338649</td>\n      <td>30.508854</td>\n      <td>114.350649</td>\n      <td>30.512854</td>\n      <td>5</td>\n      <td>0</td>\n    </tr>\n    <tr>\n      <th>8353</th>\n      <td>卓刀泉南路|湖北省肿瘤医院</td>\n      <td>114.352560</td>\n      <td>30.496416</td>\n      <td>114.364560</td>\n      <td>30.500416</td>\n      <td>武昌火车站|武昌站</td>\n      <td>114.304895</td>\n      <td>30.525332</td>\n      <td>114.316895</td>\n      <td>30.529332</td>\n      <td>5</td>\n      <td>0</td>\n    </tr>\n    <tr>\n      <th>8354</th>\n      <td>宗关站B出口(武汉)</td>\n      <td>114.214448</td>\n      <td>30.576712</td>\n      <td>114.226448</td>\n      <td>30.580712</td>\n      <td>江汉路步行商业街(江汉四路)</td>\n      <td>114.276795</td>\n      <td>30.580114</td>\n      <td>114.288795</td>\n      <td>30.584114</td>\n      <td>5</td>\n      <td>0</td>\n    </tr>\n    <tr>\n      <th>8355</th>\n      <td>宗关站B出口(武汉)</td>\n      <td>114.214448</td>\n      <td>30.576712</td>\n      <td>114.226448</td>\n      <td>30.580712</td>\n      <td>陶家岭-地铁站</td>\n      <td>114.189471</td>\n      <td>30.542069</td>\n      <td>114.201471</td>\n      <td>30.546069</td>\n      <td>5</td>\n      <td>0</td>\n    </tr>\n  </tbody>\n</table>\n<p>8356 rows × 12 columns</p>\n</div>"
     },
     "metadata": {},
     "execution_count": 41
    }
   ],
   "source": [
    "df"
   ]
  },
  {
   "cell_type": "code",
   "execution_count": 42,
   "metadata": {},
   "outputs": [
    {
     "output_type": "execute_result",
     "data": {
      "text/plain": [
       "0       0\n",
       "1       0\n",
       "2       0\n",
       "3       0\n",
       "4       0\n",
       "       ..\n",
       "8351    0\n",
       "8352    0\n",
       "8353    0\n",
       "8354    0\n",
       "8355    0\n",
       "Name: length, Length: 8356, dtype: int64"
      ]
     },
     "metadata": {},
     "execution_count": 42
    }
   ],
   "source": [
    "df[\"length\"]"
   ]
  },
  {
   "cell_type": "code",
   "execution_count": 43,
   "metadata": {},
   "outputs": [],
   "source": [
    "df[\"length\"] = range(len(df), 0, -1)"
   ]
  },
  {
   "cell_type": "code",
   "execution_count": 44,
   "metadata": {},
   "outputs": [
    {
     "output_type": "execute_result",
     "data": {
      "text/plain": [
       "0       8356\n",
       "1       8355\n",
       "2       8354\n",
       "3       8353\n",
       "4       8352\n",
       "        ... \n",
       "8351       5\n",
       "8352       4\n",
       "8353       3\n",
       "8354       2\n",
       "8355       1\n",
       "Name: length, Length: 8356, dtype: int64"
      ]
     },
     "metadata": {},
     "execution_count": 44
    }
   ],
   "source": [
    "df[\"length\"]"
   ]
  },
  {
   "source": [
    "### Summary functions"
   ],
   "cell_type": "markdown",
   "metadata": {}
  },
  {
   "cell_type": "code",
   "execution_count": 45,
   "metadata": {},
   "outputs": [
    {
     "output_type": "execute_result",
     "data": {
      "text/plain": [
       "count                   8356\n",
       "unique                   381\n",
       "top       黄鹤路|武汉站1F-到达层 西广场旁\n",
       "freq                     130\n",
       "Name: mapbegin, dtype: object"
      ]
     },
     "metadata": {},
     "execution_count": 45
    }
   ],
   "source": [
    "df.mapbegin.describe()"
   ]
  },
  {
   "cell_type": "code",
   "execution_count": 46,
   "metadata": {},
   "outputs": [
    {
     "output_type": "execute_result",
     "data": {
      "text/plain": [
       "count    8356.000000\n",
       "mean       13.529919\n",
       "std        12.900696\n",
       "min         5.000000\n",
       "25%         6.000000\n",
       "50%         9.000000\n",
       "75%        15.000000\n",
       "max       174.000000\n",
       "Name: 打车次数, dtype: float64"
      ]
     },
     "metadata": {},
     "execution_count": 46
    }
   ],
   "source": [
    "df.打车次数.describe()"
   ]
  },
  {
   "cell_type": "code",
   "execution_count": 50,
   "metadata": {},
   "outputs": [
    {
     "output_type": "execute_result",
     "data": {
      "text/plain": [
       "13.529918621349928"
      ]
     },
     "metadata": {},
     "execution_count": 50
    }
   ],
   "source": [
    "df[\"打车次数\"].mean()"
   ]
  },
  {
   "cell_type": "code",
   "execution_count": 51,
   "metadata": {},
   "outputs": [
    {
     "output_type": "execute_result",
     "data": {
      "text/plain": [
       "array([174, 158, 145, 142, 140, 134, 133, 132, 129, 127, 125, 121, 116,\n",
       "       115, 114, 113, 109, 103, 100,  99,  95,  94,  90,  89,  88,  86,\n",
       "        85,  84,  83,  82,  81,  78,  77,  76,  75,  74,  73,  72,  71,\n",
       "        70,  69,  68,  67,  66,  65,  64,  63,  62,  61,  60,  59,  58,\n",
       "        57,  56,  55,  54,  53,  52,  51,  50,  49,  48,  47,  46,  45,\n",
       "        44,  43,  42,  41,  40,  39,  38,  37,  36,  35,  34,  33,  32,\n",
       "        31,  30,  29,  28,  27,  26,  25,  24,  23,  22,  21,  20,  19,\n",
       "        18,  17,  16,  15,  14,  13,  12,  11,  10,   9,   8,   7,   6,\n",
       "         5])"
      ]
     },
     "metadata": {},
     "execution_count": 51
    }
   ],
   "source": [
    "df.打车次数.unique()"
   ]
  },
  {
   "cell_type": "code",
   "execution_count": 52,
   "metadata": {},
   "outputs": [
    {
     "output_type": "execute_result",
     "data": {
      "text/plain": [
       "5      1336\n",
       "6      1073\n",
       "7       812\n",
       "8       667\n",
       "9       527\n",
       "       ... \n",
       "74        1\n",
       "142       1\n",
       "158       1\n",
       "145       1\n",
       "127       1\n",
       "Name: 打车次数, Length: 105, dtype: int64"
      ]
     },
     "metadata": {},
     "execution_count": 52
    }
   ],
   "source": [
    "df.打车次数.value_counts()"
   ]
  },
  {
   "source": [
    "### Maps\n",
    "* ```map()```"
   ],
   "cell_type": "markdown",
   "metadata": {}
  },
  {
   "cell_type": "code",
   "execution_count": 55,
   "metadata": {},
   "outputs": [
    {
     "output_type": "execute_result",
     "data": {
      "text/plain": [
       "0       0.086720\n",
       "1       0.086720\n",
       "2       0.086720\n",
       "3       0.017585\n",
       "4       0.006215\n",
       "          ...   \n",
       "8351    0.052355\n",
       "8352    0.052355\n",
       "8353    0.052355\n",
       "8354   -0.085757\n",
       "8355   -0.085757\n",
       "Name: mapbeginlon, Length: 8356, dtype: float64"
      ]
     },
     "metadata": {},
     "execution_count": 55
    }
   ],
   "source": [
    "df_mapbeginlon_mean = df.mapbeginlon.mean()\n",
    "df.mapbeginlon.map(lambda p: p - df_mapbeginlon_mean)"
   ]
  },
  {
   "source": [
    "#### ```lambda``` function\n",
    "\n",
    "* A lambda is a small anonymous function.\n",
    "* A lambda function can take any number of arguments, but can only have one expression."
   ],
   "cell_type": "markdown",
   "metadata": {}
  },
  {
   "cell_type": "code",
   "execution_count": 56,
   "metadata": {},
   "outputs": [
    {
     "output_type": "stream",
     "name": "stdout",
     "text": [
      "15\n30\n"
     ]
    }
   ],
   "source": [
    "x = lambda a: a + 10\n",
    "print(x(5))\n",
    "x = lambda a, b : a * b\n",
    "print(x(5, 6))"
   ]
  },
  {
   "source": [
    "#### Function as pramater\n"
   ],
   "cell_type": "markdown",
   "metadata": {}
  },
  {
   "cell_type": "code",
   "execution_count": 61,
   "metadata": {},
   "outputs": [
    {
     "output_type": "stream",
     "name": "stdout",
     "text": [
      "7\n7\n"
     ]
    }
   ],
   "source": [
    "def myfunc(func1, a):\n",
    "    return func1(a)\n",
    "def func1(a):\n",
    "    return a + 5\n",
    "print(myfunc(func1, 2))\n",
    "b = func1\n",
    "print(myfunc(b, 2))"
   ]
  },
  {
   "source": [
    "```apply()```: Unlike ```map()``` method, ```apply()``` is called by the whole DataFrame."
   ],
   "cell_type": "markdown",
   "metadata": {}
  },
  {
   "cell_type": "code",
   "execution_count": 62,
   "metadata": {},
   "outputs": [
    {
     "output_type": "execute_result",
     "data": {
      "text/plain": [
       "               mapbegin  mapbeginlon  mapbeginlat  mapbeginlon.1  \\\n",
       "0        民族大道光谷广场-公交站路东     0.086720    30.500459     114.398925   \n",
       "1        民族大道光谷广场-公交站路东     0.086720    30.500459     114.398925   \n",
       "2        民族大道光谷广场-公交站路东     0.086720    30.500459     114.398925   \n",
       "3     纸坊|金逸影城(九全嘉国际广场店)     0.017585    30.354540     114.329790   \n",
       "4           纸坊|美味传奇农家菜馆     0.006215    30.348027     114.318421   \n",
       "...                 ...          ...          ...            ...   \n",
       "8351      卓刀泉南路|湖北省肿瘤医院     0.052355    30.496416     114.364560   \n",
       "8352      卓刀泉南路|湖北省肿瘤医院     0.052355    30.496416     114.364560   \n",
       "8353      卓刀泉南路|湖北省肿瘤医院     0.052355    30.496416     114.364560   \n",
       "8354         宗关站B出口(武汉)    -0.085757    30.576712     114.226448   \n",
       "8355         宗关站B出口(武汉)    -0.085757    30.576712     114.226448   \n",
       "\n",
       "      mapbeginlat.1          mapend   mapendlon  mapendlat  mapendlon.1  \\\n",
       "0         30.504459       光谷|曙光星城B区  114.391000  30.482508   114.403000   \n",
       "1         30.504459            光谷天地  114.397825  30.473273   114.409825   \n",
       "2         30.504459         光谷|丽顿酒店  114.410591  30.497201   114.422591   \n",
       "3         30.358540        纸坊|江夏体育馆  114.303393  30.349184   114.315393   \n",
       "4         30.352027       江夏区第一人民医院  114.308387  30.367964   114.320387   \n",
       "...             ...             ...         ...        ...          ...   \n",
       "8351      30.500416       洪山区|保利蓝海郡  114.362493  30.489645   114.374493   \n",
       "8352      30.500416   珞南|南国大家装(江南店)  114.338649  30.508854   114.350649   \n",
       "8353      30.500416       武昌火车站|武昌站  114.304895  30.525332   114.316895   \n",
       "8354      30.580712  江汉路步行商业街(江汉四路)  114.276795  30.580114   114.288795   \n",
       "8355      30.580712         陶家岭-地铁站  114.189471  30.542069   114.201471   \n",
       "\n",
       "      mapendlat.1  打车次数  length  \n",
       "0       30.486508   174    8356  \n",
       "1       30.477273   158    8355  \n",
       "2       30.501201   145    8354  \n",
       "3       30.353184   142    8353  \n",
       "4       30.371964   140    8352  \n",
       "...           ...   ...     ...  \n",
       "8351    30.493645     5       5  \n",
       "8352    30.512854     5       4  \n",
       "8353    30.529332     5       3  \n",
       "8354    30.584114     5       2  \n",
       "8355    30.546069     5       1  \n",
       "\n",
       "[8356 rows x 12 columns]"
      ],
      "text/html": "<div>\n<style scoped>\n    .dataframe tbody tr th:only-of-type {\n        vertical-align: middle;\n    }\n\n    .dataframe tbody tr th {\n        vertical-align: top;\n    }\n\n    .dataframe thead th {\n        text-align: right;\n    }\n</style>\n<table border=\"1\" class=\"dataframe\">\n  <thead>\n    <tr style=\"text-align: right;\">\n      <th></th>\n      <th>mapbegin</th>\n      <th>mapbeginlon</th>\n      <th>mapbeginlat</th>\n      <th>mapbeginlon.1</th>\n      <th>mapbeginlat.1</th>\n      <th>mapend</th>\n      <th>mapendlon</th>\n      <th>mapendlat</th>\n      <th>mapendlon.1</th>\n      <th>mapendlat.1</th>\n      <th>打车次数</th>\n      <th>length</th>\n    </tr>\n  </thead>\n  <tbody>\n    <tr>\n      <th>0</th>\n      <td>民族大道光谷广场-公交站路东</td>\n      <td>0.086720</td>\n      <td>30.500459</td>\n      <td>114.398925</td>\n      <td>30.504459</td>\n      <td>光谷|曙光星城B区</td>\n      <td>114.391000</td>\n      <td>30.482508</td>\n      <td>114.403000</td>\n      <td>30.486508</td>\n      <td>174</td>\n      <td>8356</td>\n    </tr>\n    <tr>\n      <th>1</th>\n      <td>民族大道光谷广场-公交站路东</td>\n      <td>0.086720</td>\n      <td>30.500459</td>\n      <td>114.398925</td>\n      <td>30.504459</td>\n      <td>光谷天地</td>\n      <td>114.397825</td>\n      <td>30.473273</td>\n      <td>114.409825</td>\n      <td>30.477273</td>\n      <td>158</td>\n      <td>8355</td>\n    </tr>\n    <tr>\n      <th>2</th>\n      <td>民族大道光谷广场-公交站路东</td>\n      <td>0.086720</td>\n      <td>30.500459</td>\n      <td>114.398925</td>\n      <td>30.504459</td>\n      <td>光谷|丽顿酒店</td>\n      <td>114.410591</td>\n      <td>30.497201</td>\n      <td>114.422591</td>\n      <td>30.501201</td>\n      <td>145</td>\n      <td>8354</td>\n    </tr>\n    <tr>\n      <th>3</th>\n      <td>纸坊|金逸影城(九全嘉国际广场店)</td>\n      <td>0.017585</td>\n      <td>30.354540</td>\n      <td>114.329790</td>\n      <td>30.358540</td>\n      <td>纸坊|江夏体育馆</td>\n      <td>114.303393</td>\n      <td>30.349184</td>\n      <td>114.315393</td>\n      <td>30.353184</td>\n      <td>142</td>\n      <td>8353</td>\n    </tr>\n    <tr>\n      <th>4</th>\n      <td>纸坊|美味传奇农家菜馆</td>\n      <td>0.006215</td>\n      <td>30.348027</td>\n      <td>114.318421</td>\n      <td>30.352027</td>\n      <td>江夏区第一人民医院</td>\n      <td>114.308387</td>\n      <td>30.367964</td>\n      <td>114.320387</td>\n      <td>30.371964</td>\n      <td>140</td>\n      <td>8352</td>\n    </tr>\n    <tr>\n      <th>...</th>\n      <td>...</td>\n      <td>...</td>\n      <td>...</td>\n      <td>...</td>\n      <td>...</td>\n      <td>...</td>\n      <td>...</td>\n      <td>...</td>\n      <td>...</td>\n      <td>...</td>\n      <td>...</td>\n      <td>...</td>\n    </tr>\n    <tr>\n      <th>8351</th>\n      <td>卓刀泉南路|湖北省肿瘤医院</td>\n      <td>0.052355</td>\n      <td>30.496416</td>\n      <td>114.364560</td>\n      <td>30.500416</td>\n      <td>洪山区|保利蓝海郡</td>\n      <td>114.362493</td>\n      <td>30.489645</td>\n      <td>114.374493</td>\n      <td>30.493645</td>\n      <td>5</td>\n      <td>5</td>\n    </tr>\n    <tr>\n      <th>8352</th>\n      <td>卓刀泉南路|湖北省肿瘤医院</td>\n      <td>0.052355</td>\n      <td>30.496416</td>\n      <td>114.364560</td>\n      <td>30.500416</td>\n      <td>珞南|南国大家装(江南店)</td>\n      <td>114.338649</td>\n      <td>30.508854</td>\n      <td>114.350649</td>\n      <td>30.512854</td>\n      <td>5</td>\n      <td>4</td>\n    </tr>\n    <tr>\n      <th>8353</th>\n      <td>卓刀泉南路|湖北省肿瘤医院</td>\n      <td>0.052355</td>\n      <td>30.496416</td>\n      <td>114.364560</td>\n      <td>30.500416</td>\n      <td>武昌火车站|武昌站</td>\n      <td>114.304895</td>\n      <td>30.525332</td>\n      <td>114.316895</td>\n      <td>30.529332</td>\n      <td>5</td>\n      <td>3</td>\n    </tr>\n    <tr>\n      <th>8354</th>\n      <td>宗关站B出口(武汉)</td>\n      <td>-0.085757</td>\n      <td>30.576712</td>\n      <td>114.226448</td>\n      <td>30.580712</td>\n      <td>江汉路步行商业街(江汉四路)</td>\n      <td>114.276795</td>\n      <td>30.580114</td>\n      <td>114.288795</td>\n      <td>30.584114</td>\n      <td>5</td>\n      <td>2</td>\n    </tr>\n    <tr>\n      <th>8355</th>\n      <td>宗关站B出口(武汉)</td>\n      <td>-0.085757</td>\n      <td>30.576712</td>\n      <td>114.226448</td>\n      <td>30.580712</td>\n      <td>陶家岭-地铁站</td>\n      <td>114.189471</td>\n      <td>30.542069</td>\n      <td>114.201471</td>\n      <td>30.546069</td>\n      <td>5</td>\n      <td>1</td>\n    </tr>\n  </tbody>\n</table>\n<p>8356 rows × 12 columns</p>\n</div>"
     },
     "metadata": {},
     "execution_count": 62
    }
   ],
   "source": [
    "def remean_lon(row):\n",
    "    row.mapbeginlon = row.mapbeginlon - df_mapbeginlon_mean\n",
    "    return row\n",
    "df.apply(remean_lon, axis = \"columns\")"
   ]
  },
  {
   "cell_type": "code",
   "execution_count": 64,
   "metadata": {},
   "outputs": [
    {
     "output_type": "stream",
     "name": "stdout",
     "text": [
      "民族大道光谷广场-公交站路东1\n114.3869252469481\n30.500458997051\n114.3989252469481\n30.504458997051\n光谷|曙光星城B区1\n114.3909998511811\n30.48250832570681\n114.4029998511811\n30.48650832570681\n1741\n83561\n"
     ]
    },
    {
     "output_type": "execute_result",
     "data": {
      "text/plain": [
       "               mapbegin  mapbeginlon  mapbeginlat  mapbeginlon.1  \\\n",
       "0      民族大道光谷广场-公交站路东11   114.386925    30.500459     114.398925   \n",
       "1        民族大道光谷广场-公交站路东   114.386925    30.500459     114.398925   \n",
       "2        民族大道光谷广场-公交站路东   114.386925    30.500459     114.398925   \n",
       "3     纸坊|金逸影城(九全嘉国际广场店)   114.317790    30.354540     114.329790   \n",
       "4           纸坊|美味传奇农家菜馆   114.306421    30.348027     114.318421   \n",
       "...                 ...          ...          ...            ...   \n",
       "8351      卓刀泉南路|湖北省肿瘤医院   114.352560    30.496416     114.364560   \n",
       "8352      卓刀泉南路|湖北省肿瘤医院   114.352560    30.496416     114.364560   \n",
       "8353      卓刀泉南路|湖北省肿瘤医院   114.352560    30.496416     114.364560   \n",
       "8354         宗关站B出口(武汉)   114.214448    30.576712     114.226448   \n",
       "8355         宗关站B出口(武汉)   114.214448    30.576712     114.226448   \n",
       "\n",
       "      mapbeginlat.1          mapend   mapendlon  mapendlat  mapendlon.1  \\\n",
       "0         30.504459     光谷|曙光星城B区11  114.391000  30.482508   114.403000   \n",
       "1         30.504459            光谷天地  114.397825  30.473273   114.409825   \n",
       "2         30.504459         光谷|丽顿酒店  114.410591  30.497201   114.422591   \n",
       "3         30.358540        纸坊|江夏体育馆  114.303393  30.349184   114.315393   \n",
       "4         30.352027       江夏区第一人民医院  114.308387  30.367964   114.320387   \n",
       "...             ...             ...         ...        ...          ...   \n",
       "8351      30.500416       洪山区|保利蓝海郡  114.362493  30.489645   114.374493   \n",
       "8352      30.500416   珞南|南国大家装(江南店)  114.338649  30.508854   114.350649   \n",
       "8353      30.500416       武昌火车站|武昌站  114.304895  30.525332   114.316895   \n",
       "8354      30.580712  江汉路步行商业街(江汉四路)  114.276795  30.580114   114.288795   \n",
       "8355      30.580712         陶家岭-地铁站  114.189471  30.542069   114.201471   \n",
       "\n",
       "      mapendlat.1   打车次数  length  \n",
       "0       30.486508  17411  835611  \n",
       "1       30.477273    158    8355  \n",
       "2       30.501201    145    8354  \n",
       "3       30.353184    142    8353  \n",
       "4       30.371964    140    8352  \n",
       "...           ...    ...     ...  \n",
       "8351    30.493645      5       5  \n",
       "8352    30.512854      5       4  \n",
       "8353    30.529332      5       3  \n",
       "8354    30.584114      5       2  \n",
       "8355    30.546069      5       1  \n",
       "\n",
       "[8356 rows x 12 columns]"
      ],
      "text/html": "<div>\n<style scoped>\n    .dataframe tbody tr th:only-of-type {\n        vertical-align: middle;\n    }\n\n    .dataframe tbody tr th {\n        vertical-align: top;\n    }\n\n    .dataframe thead th {\n        text-align: right;\n    }\n</style>\n<table border=\"1\" class=\"dataframe\">\n  <thead>\n    <tr style=\"text-align: right;\">\n      <th></th>\n      <th>mapbegin</th>\n      <th>mapbeginlon</th>\n      <th>mapbeginlat</th>\n      <th>mapbeginlon.1</th>\n      <th>mapbeginlat.1</th>\n      <th>mapend</th>\n      <th>mapendlon</th>\n      <th>mapendlat</th>\n      <th>mapendlon.1</th>\n      <th>mapendlat.1</th>\n      <th>打车次数</th>\n      <th>length</th>\n    </tr>\n  </thead>\n  <tbody>\n    <tr>\n      <th>0</th>\n      <td>民族大道光谷广场-公交站路东11</td>\n      <td>114.386925</td>\n      <td>30.500459</td>\n      <td>114.398925</td>\n      <td>30.504459</td>\n      <td>光谷|曙光星城B区11</td>\n      <td>114.391000</td>\n      <td>30.482508</td>\n      <td>114.403000</td>\n      <td>30.486508</td>\n      <td>17411</td>\n      <td>835611</td>\n    </tr>\n    <tr>\n      <th>1</th>\n      <td>民族大道光谷广场-公交站路东</td>\n      <td>114.386925</td>\n      <td>30.500459</td>\n      <td>114.398925</td>\n      <td>30.504459</td>\n      <td>光谷天地</td>\n      <td>114.397825</td>\n      <td>30.473273</td>\n      <td>114.409825</td>\n      <td>30.477273</td>\n      <td>158</td>\n      <td>8355</td>\n    </tr>\n    <tr>\n      <th>2</th>\n      <td>民族大道光谷广场-公交站路东</td>\n      <td>114.386925</td>\n      <td>30.500459</td>\n      <td>114.398925</td>\n      <td>30.504459</td>\n      <td>光谷|丽顿酒店</td>\n      <td>114.410591</td>\n      <td>30.497201</td>\n      <td>114.422591</td>\n      <td>30.501201</td>\n      <td>145</td>\n      <td>8354</td>\n    </tr>\n    <tr>\n      <th>3</th>\n      <td>纸坊|金逸影城(九全嘉国际广场店)</td>\n      <td>114.317790</td>\n      <td>30.354540</td>\n      <td>114.329790</td>\n      <td>30.358540</td>\n      <td>纸坊|江夏体育馆</td>\n      <td>114.303393</td>\n      <td>30.349184</td>\n      <td>114.315393</td>\n      <td>30.353184</td>\n      <td>142</td>\n      <td>8353</td>\n    </tr>\n    <tr>\n      <th>4</th>\n      <td>纸坊|美味传奇农家菜馆</td>\n      <td>114.306421</td>\n      <td>30.348027</td>\n      <td>114.318421</td>\n      <td>30.352027</td>\n      <td>江夏区第一人民医院</td>\n      <td>114.308387</td>\n      <td>30.367964</td>\n      <td>114.320387</td>\n      <td>30.371964</td>\n      <td>140</td>\n      <td>8352</td>\n    </tr>\n    <tr>\n      <th>...</th>\n      <td>...</td>\n      <td>...</td>\n      <td>...</td>\n      <td>...</td>\n      <td>...</td>\n      <td>...</td>\n      <td>...</td>\n      <td>...</td>\n      <td>...</td>\n      <td>...</td>\n      <td>...</td>\n      <td>...</td>\n    </tr>\n    <tr>\n      <th>8351</th>\n      <td>卓刀泉南路|湖北省肿瘤医院</td>\n      <td>114.352560</td>\n      <td>30.496416</td>\n      <td>114.364560</td>\n      <td>30.500416</td>\n      <td>洪山区|保利蓝海郡</td>\n      <td>114.362493</td>\n      <td>30.489645</td>\n      <td>114.374493</td>\n      <td>30.493645</td>\n      <td>5</td>\n      <td>5</td>\n    </tr>\n    <tr>\n      <th>8352</th>\n      <td>卓刀泉南路|湖北省肿瘤医院</td>\n      <td>114.352560</td>\n      <td>30.496416</td>\n      <td>114.364560</td>\n      <td>30.500416</td>\n      <td>珞南|南国大家装(江南店)</td>\n      <td>114.338649</td>\n      <td>30.508854</td>\n      <td>114.350649</td>\n      <td>30.512854</td>\n      <td>5</td>\n      <td>4</td>\n    </tr>\n    <tr>\n      <th>8353</th>\n      <td>卓刀泉南路|湖北省肿瘤医院</td>\n      <td>114.352560</td>\n      <td>30.496416</td>\n      <td>114.364560</td>\n      <td>30.500416</td>\n      <td>武昌火车站|武昌站</td>\n      <td>114.304895</td>\n      <td>30.525332</td>\n      <td>114.316895</td>\n      <td>30.529332</td>\n      <td>5</td>\n      <td>3</td>\n    </tr>\n    <tr>\n      <th>8354</th>\n      <td>宗关站B出口(武汉)</td>\n      <td>114.214448</td>\n      <td>30.576712</td>\n      <td>114.226448</td>\n      <td>30.580712</td>\n      <td>江汉路步行商业街(江汉四路)</td>\n      <td>114.276795</td>\n      <td>30.580114</td>\n      <td>114.288795</td>\n      <td>30.584114</td>\n      <td>5</td>\n      <td>2</td>\n    </tr>\n    <tr>\n      <th>8355</th>\n      <td>宗关站B出口(武汉)</td>\n      <td>114.214448</td>\n      <td>30.576712</td>\n      <td>114.226448</td>\n      <td>30.580712</td>\n      <td>陶家岭-地铁站</td>\n      <td>114.189471</td>\n      <td>30.542069</td>\n      <td>114.201471</td>\n      <td>30.546069</td>\n      <td>5</td>\n      <td>1</td>\n    </tr>\n  </tbody>\n</table>\n<p>8356 rows × 12 columns</p>\n</div>"
     },
     "metadata": {},
     "execution_count": 64
    }
   ],
   "source": [
    "def add1(column):\n",
    "    print(str(column[0]))\n",
    "    column[0] = str(column[0]) + \"1\"\n",
    "    return column\n",
    "df.apply(add1, axis = \"index\")"
   ]
  },
  {
   "cell_type": "code",
   "execution_count": 65,
   "metadata": {},
   "outputs": [
    {
     "output_type": "execute_result",
     "data": {
      "text/plain": [
       "0       831333.498684\n",
       "1         4077.498684\n",
       "2         4076.498684\n",
       "3         4075.498684\n",
       "4         4074.498684\n",
       "            ...      \n",
       "8351     -4272.501316\n",
       "8352     -4273.501316\n",
       "8353     -4274.501316\n",
       "8354     -4275.501316\n",
       "8355     -4276.501316\n",
       "Name: length, Length: 8356, dtype: float64"
      ]
     },
     "metadata": {},
     "execution_count": 65
    }
   ],
   "source": [
    "df_length_mean = df.length.mean()\n",
    "df.length - df_length_mean"
   ]
  },
  {
   "cell_type": "code",
   "execution_count": 66,
   "metadata": {},
   "outputs": [
    {
     "output_type": "execute_result",
     "data": {
      "text/plain": [
       "0       民族大道光谷广场-公交站路东11to光谷|曙光星城B区11\n",
       "1                民族大道光谷广场-公交站路东to光谷天地\n",
       "2             民族大道光谷广场-公交站路东to光谷|丽顿酒店\n",
       "3         纸坊|金逸影城(九全嘉国际广场店)to纸坊|江夏体育馆\n",
       "4              纸坊|美味传奇农家菜馆to江夏区第一人民医院\n",
       "                    ...              \n",
       "8351         卓刀泉南路|湖北省肿瘤医院to洪山区|保利蓝海郡\n",
       "8352     卓刀泉南路|湖北省肿瘤医院to珞南|南国大家装(江南店)\n",
       "8353         卓刀泉南路|湖北省肿瘤医院to武昌火车站|武昌站\n",
       "8354       宗关站B出口(武汉)to江汉路步行商业街(江汉四路)\n",
       "8355              宗关站B出口(武汉)to陶家岭-地铁站\n",
       "Length: 8356, dtype: object"
      ]
     },
     "metadata": {},
     "execution_count": 66
    }
   ],
   "source": [
    "df.mapbegin + \"to\" + df.mapend"
   ]
  },
  {
   "source": [
    "These operators, and ```>```, ```<```, ```==``` are faster than ```map()``` and ```apply()```."
   ],
   "cell_type": "markdown",
   "metadata": {}
  }
 ]
}