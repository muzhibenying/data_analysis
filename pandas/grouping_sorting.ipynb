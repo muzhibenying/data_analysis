{
 "metadata": {
  "language_info": {
   "codemirror_mode": {
    "name": "ipython",
    "version": 3
   },
   "file_extension": ".py",
   "mimetype": "text/x-python",
   "name": "python",
   "nbconvert_exporter": "python",
   "pygments_lexer": "ipython3",
   "version": "3.6.13"
  },
  "orig_nbformat": 2,
  "kernelspec": {
   "name": "python3613jvsc74a57bd09fd4cc9f5c6849889bfc41643af1611b60f66354faabb4e34ca471757c77d320",
   "display_name": "Python 3.6.13 64-bit ('dgl': conda)"
  }
 },
 "nbformat": 4,
 "nbformat_minor": 2,
 "cells": [
  {
   "cell_type": "code",
   "execution_count": 21,
   "metadata": {},
   "outputs": [
    {
     "output_type": "execute_result",
     "data": {
      "text/plain": [
       "            mapbegin  mapbeginlon  mapbeginlat  mapbeginlon.1  mapbeginlat.1  \\\n",
       "0     民族大道光谷广场-公交站路东   114.386925    30.500459     114.398925      30.504459   \n",
       "1     民族大道光谷广场-公交站路东   114.386925    30.500459     114.398925      30.504459   \n",
       "2     民族大道光谷广场-公交站路东   114.386925    30.500459     114.398925      30.504459   \n",
       "3  纸坊|金逸影城(九全嘉国际广场店)   114.317790    30.354540     114.329790      30.358540   \n",
       "4        纸坊|美味传奇农家菜馆   114.306421    30.348027     114.318421      30.352027   \n",
       "\n",
       "      mapend   mapendlon  mapendlat  mapendlon.1  mapendlat.1  打车次数  \n",
       "0  光谷|曙光星城B区  114.391000  30.482508   114.403000    30.486508   174  \n",
       "1       光谷天地  114.397825  30.473273   114.409825    30.477273   158  \n",
       "2    光谷|丽顿酒店  114.410591  30.497201   114.422591    30.501201   145  \n",
       "3   纸坊|江夏体育馆  114.303393  30.349184   114.315393    30.353184   142  \n",
       "4  江夏区第一人民医院  114.308387  30.367964   114.320387    30.371964   140  "
      ],
      "text/html": "<div>\n<style scoped>\n    .dataframe tbody tr th:only-of-type {\n        vertical-align: middle;\n    }\n\n    .dataframe tbody tr th {\n        vertical-align: top;\n    }\n\n    .dataframe thead th {\n        text-align: right;\n    }\n</style>\n<table border=\"1\" class=\"dataframe\">\n  <thead>\n    <tr style=\"text-align: right;\">\n      <th></th>\n      <th>mapbegin</th>\n      <th>mapbeginlon</th>\n      <th>mapbeginlat</th>\n      <th>mapbeginlon.1</th>\n      <th>mapbeginlat.1</th>\n      <th>mapend</th>\n      <th>mapendlon</th>\n      <th>mapendlat</th>\n      <th>mapendlon.1</th>\n      <th>mapendlat.1</th>\n      <th>打车次数</th>\n    </tr>\n  </thead>\n  <tbody>\n    <tr>\n      <th>0</th>\n      <td>民族大道光谷广场-公交站路东</td>\n      <td>114.386925</td>\n      <td>30.500459</td>\n      <td>114.398925</td>\n      <td>30.504459</td>\n      <td>光谷|曙光星城B区</td>\n      <td>114.391000</td>\n      <td>30.482508</td>\n      <td>114.403000</td>\n      <td>30.486508</td>\n      <td>174</td>\n    </tr>\n    <tr>\n      <th>1</th>\n      <td>民族大道光谷广场-公交站路东</td>\n      <td>114.386925</td>\n      <td>30.500459</td>\n      <td>114.398925</td>\n      <td>30.504459</td>\n      <td>光谷天地</td>\n      <td>114.397825</td>\n      <td>30.473273</td>\n      <td>114.409825</td>\n      <td>30.477273</td>\n      <td>158</td>\n    </tr>\n    <tr>\n      <th>2</th>\n      <td>民族大道光谷广场-公交站路东</td>\n      <td>114.386925</td>\n      <td>30.500459</td>\n      <td>114.398925</td>\n      <td>30.504459</td>\n      <td>光谷|丽顿酒店</td>\n      <td>114.410591</td>\n      <td>30.497201</td>\n      <td>114.422591</td>\n      <td>30.501201</td>\n      <td>145</td>\n    </tr>\n    <tr>\n      <th>3</th>\n      <td>纸坊|金逸影城(九全嘉国际广场店)</td>\n      <td>114.317790</td>\n      <td>30.354540</td>\n      <td>114.329790</td>\n      <td>30.358540</td>\n      <td>纸坊|江夏体育馆</td>\n      <td>114.303393</td>\n      <td>30.349184</td>\n      <td>114.315393</td>\n      <td>30.353184</td>\n      <td>142</td>\n    </tr>\n    <tr>\n      <th>4</th>\n      <td>纸坊|美味传奇农家菜馆</td>\n      <td>114.306421</td>\n      <td>30.348027</td>\n      <td>114.318421</td>\n      <td>30.352027</td>\n      <td>江夏区第一人民医院</td>\n      <td>114.308387</td>\n      <td>30.367964</td>\n      <td>114.320387</td>\n      <td>30.371964</td>\n      <td>140</td>\n    </tr>\n  </tbody>\n</table>\n</div>"
     },
     "metadata": {},
     "execution_count": 21
    }
   ],
   "source": [
    "import pandas as pd\n",
    "df = pd.read_excel(\"../武汉打车.xlsx\", engine = \"openpyxl\")\n",
    "df.head()"
   ]
  },
  {
   "cell_type": "code",
   "execution_count": 4,
   "metadata": {},
   "outputs": [
    {
     "output_type": "stream",
     "name": "stdout",
     "text": [
      "<pandas.core.groupby.generic.DataFrameGroupBy object at 0x1279b9b00>\n"
     ]
    }
   ],
   "source": [
    "print(df.groupby(\"mapbegin\"))"
   ]
  },
  {
   "cell_type": "code",
   "execution_count": 5,
   "metadata": {},
   "outputs": [
    {
     "output_type": "execute_result",
     "data": {
      "text/plain": [
       "mapbegin\n",
       "V9港通酒店(天河机场店)            12\n",
       "一清路|益丰大药房(一清街分店)         27\n",
       "丁字桥|武汉科技大学附属天佑医院-东北门     65\n",
       "七一二所社区-南门                19\n",
       "七雄路北段-公交站路东              21\n",
       "                       ... \n",
       "黄陂街|世纪·江尚-东南门            48\n",
       "黄鹂路|黄鹂小区-西门              12\n",
       "黄鹤路|武汉站1F-到达层 西广场旁      130\n",
       "龙兴东街|世纪·龙城2期-东北门         38\n",
       "龙鑫工业园-东门                  7\n",
       "Name: mapbegin, Length: 381, dtype: int64"
      ]
     },
     "metadata": {},
     "execution_count": 5
    }
   ],
   "source": [
    "df.groupby(\"mapbegin\").mapbegin.count()"
   ]
  },
  {
   "cell_type": "code",
   "execution_count": 7,
   "metadata": {},
   "outputs": [
    {
     "output_type": "execute_result",
     "data": {
      "text/plain": [
       "mapbegin\n",
       "V9港通酒店(天河机场店)           114.229697\n",
       "一清路|益丰大药房(一清街分店)        114.142380\n",
       "丁字桥|武汉科技大学附属天佑医院-东北门    114.314514\n",
       "七一二所社区-南门               114.299811\n",
       "七雄路北段-公交站路东             114.116736\n",
       "                           ...    \n",
       "黄陂街|世纪·江尚-东南门           114.283039\n",
       "黄鹂路|黄鹂小区-西门             114.356911\n",
       "黄鹤路|武汉站1F-到达层 西广场旁      114.408553\n",
       "龙兴东街|世纪·龙城2期-东北门        114.198577\n",
       "龙鑫工业园-东门                114.096178\n",
       "Name: mapbeginlon, Length: 381, dtype: float64"
      ]
     },
     "metadata": {},
     "execution_count": 7
    }
   ],
   "source": [
    "df.groupby(\"mapbegin\").mapbeginlon.min()"
   ]
  },
  {
   "source": [
    "You can think of each gropu as being a slice of our DataFrame containing only data with values that match."
   ],
   "cell_type": "markdown",
   "metadata": {}
  },
  {
   "cell_type": "code",
   "execution_count": 8,
   "metadata": {},
   "outputs": [
    {
     "output_type": "execute_result",
     "data": {
      "text/plain": [
       "mapbegin\n",
       "V9港通酒店(天河机场店)                 巨龙大道-地铁站\n",
       "一清路|益丰大药房(一清街分店)              吴家山|海林广场\n",
       "丁字桥|武汉科技大学附属天佑医院-东北门         南湖|维佳·佰港城\n",
       "七一二所社区-南门                    南湖|维佳·佰港城\n",
       "七雄路北段-公交站路东                   吴家山|海林广场\n",
       "                             ...      \n",
       "黄陂街|世纪·江尚-东南门                 江岸区|武汉天地\n",
       "黄鹂路|黄鹂小区-西门              武昌区|万达广场(汉街店)\n",
       "黄鹤路|武汉站1F-到达层 西广场旁      洪山区|武汉科技大学城市学院\n",
       "龙兴东街|世纪·龙城2期-东北门               王家湾-地铁站\n",
       "龙鑫工业园-东门                      吴家山|海林广场\n",
       "Length: 381, dtype: object"
      ]
     },
     "metadata": {},
     "execution_count": 8
    }
   ],
   "source": [
    "df.groupby(\"mapbegin\").apply(lambda df: df.mapend.iloc[0])"
   ]
  },
  {
   "cell_type": "code",
   "execution_count": 9,
   "metadata": {},
   "outputs": [
    {
     "output_type": "execute_result",
     "data": {
      "text/plain": [
       "mapbegin       mapend                        \n",
       "V9港通酒店(天河机场店)  东西湖区|天纵·半岛蓝湾              4622     8\n",
       "               中百仓储(黄陂横店店)               7998     5\n",
       "               宋家岗-地铁站                   774     28\n",
       "               巨龙大道-地铁站                  361     39\n",
       "               汉口火车站|汉口站                 7681     5\n",
       "                                                 ..\n",
       "龙鑫工业园-东门       东西湖区|金来亚国际酒店(武汉唐人生生医院西南)  7857     5\n",
       "               东西湖区|鑫城宜居                 7224     5\n",
       "               吴家山|海林广场                  632     31\n",
       "               汉口火车站|汉口站                 8201     5\n",
       "               额头湾-地铁站                   7225     5\n",
       "Name: 打车次数, Length: 8356, dtype: int64"
      ]
     },
     "metadata": {},
     "execution_count": 9
    }
   ],
   "source": [
    "df.groupby([\"mapbegin\", \"mapend\"]).apply(lambda df: df.loc[:, \"打车次数\"])"
   ]
  },
  {
   "cell_type": "code",
   "execution_count": 12,
   "metadata": {},
   "outputs": [
    {
     "output_type": "execute_result",
     "data": {
      "text/plain": [
       "mapbegin         V9港通酒店(天河机场店)\n",
       "mapbeginlon             114.23\n",
       "mapbeginlat            30.7269\n",
       "mapbeginlon.1          114.242\n",
       "mapbeginlat.1          30.7309\n",
       "mapend            东西湖区|天纵·半岛蓝湾\n",
       "mapendlon              114.254\n",
       "mapendlat              30.6664\n",
       "mapendlon.1            114.266\n",
       "mapendlat.1            30.6704\n",
       "打车次数                         8\n",
       "Name: 4622, dtype: object"
      ]
     },
     "metadata": {},
     "execution_count": 12
    }
   ],
   "source": [
    "df.loc[4622]"
   ]
  },
  {
   "source": [
    "```agg()``` function lets you run a bunch of different functions on your DataFrame simultaneously."
   ],
   "cell_type": "markdown",
   "metadata": {}
  },
  {
   "cell_type": "code",
   "execution_count": 16,
   "metadata": {},
   "outputs": [
    {
     "output_type": "execute_result",
     "data": {
      "text/plain": [
       "                        len         min         max  <lambda_0>\n",
       "mapbegin                                                       \n",
       "V9港通酒店(天河机场店)          12.0  114.229697  114.229697  228.459394\n",
       "一清路|益丰大药房(一清街分店)       27.0  114.142380  114.142380  228.284761\n",
       "丁字桥|武汉科技大学附属天佑医院-东北门   65.0  114.314514  114.314514  228.629027\n",
       "七一二所社区-南门              19.0  114.299811  114.299811  228.599621\n",
       "七雄路北段-公交站路东            21.0  114.116736  114.116736  228.233472\n",
       "...                     ...         ...         ...         ...\n",
       "黄陂街|世纪·江尚-东南门          48.0  114.283039  114.283039  228.566077\n",
       "黄鹂路|黄鹂小区-西门            12.0  114.356911  114.356911  228.713822\n",
       "黄鹤路|武汉站1F-到达层 西广场旁    130.0  114.408553  114.408553  228.817106\n",
       "龙兴东街|世纪·龙城2期-东北门       38.0  114.198577  114.198577  228.397154\n",
       "龙鑫工业园-东门                7.0  114.096178  114.096178  228.192356\n",
       "\n",
       "[381 rows x 4 columns]"
      ],
      "text/html": "<div>\n<style scoped>\n    .dataframe tbody tr th:only-of-type {\n        vertical-align: middle;\n    }\n\n    .dataframe tbody tr th {\n        vertical-align: top;\n    }\n\n    .dataframe thead th {\n        text-align: right;\n    }\n</style>\n<table border=\"1\" class=\"dataframe\">\n  <thead>\n    <tr style=\"text-align: right;\">\n      <th></th>\n      <th>len</th>\n      <th>min</th>\n      <th>max</th>\n      <th>&lt;lambda_0&gt;</th>\n    </tr>\n    <tr>\n      <th>mapbegin</th>\n      <th></th>\n      <th></th>\n      <th></th>\n      <th></th>\n    </tr>\n  </thead>\n  <tbody>\n    <tr>\n      <th>V9港通酒店(天河机场店)</th>\n      <td>12.0</td>\n      <td>114.229697</td>\n      <td>114.229697</td>\n      <td>228.459394</td>\n    </tr>\n    <tr>\n      <th>一清路|益丰大药房(一清街分店)</th>\n      <td>27.0</td>\n      <td>114.142380</td>\n      <td>114.142380</td>\n      <td>228.284761</td>\n    </tr>\n    <tr>\n      <th>丁字桥|武汉科技大学附属天佑医院-东北门</th>\n      <td>65.0</td>\n      <td>114.314514</td>\n      <td>114.314514</td>\n      <td>228.629027</td>\n    </tr>\n    <tr>\n      <th>七一二所社区-南门</th>\n      <td>19.0</td>\n      <td>114.299811</td>\n      <td>114.299811</td>\n      <td>228.599621</td>\n    </tr>\n    <tr>\n      <th>七雄路北段-公交站路东</th>\n      <td>21.0</td>\n      <td>114.116736</td>\n      <td>114.116736</td>\n      <td>228.233472</td>\n    </tr>\n    <tr>\n      <th>...</th>\n      <td>...</td>\n      <td>...</td>\n      <td>...</td>\n      <td>...</td>\n    </tr>\n    <tr>\n      <th>黄陂街|世纪·江尚-东南门</th>\n      <td>48.0</td>\n      <td>114.283039</td>\n      <td>114.283039</td>\n      <td>228.566077</td>\n    </tr>\n    <tr>\n      <th>黄鹂路|黄鹂小区-西门</th>\n      <td>12.0</td>\n      <td>114.356911</td>\n      <td>114.356911</td>\n      <td>228.713822</td>\n    </tr>\n    <tr>\n      <th>黄鹤路|武汉站1F-到达层 西广场旁</th>\n      <td>130.0</td>\n      <td>114.408553</td>\n      <td>114.408553</td>\n      <td>228.817106</td>\n    </tr>\n    <tr>\n      <th>龙兴东街|世纪·龙城2期-东北门</th>\n      <td>38.0</td>\n      <td>114.198577</td>\n      <td>114.198577</td>\n      <td>228.397154</td>\n    </tr>\n    <tr>\n      <th>龙鑫工业园-东门</th>\n      <td>7.0</td>\n      <td>114.096178</td>\n      <td>114.096178</td>\n      <td>228.192356</td>\n    </tr>\n  </tbody>\n</table>\n<p>381 rows × 4 columns</p>\n</div>"
     },
     "metadata": {},
     "execution_count": 16
    }
   ],
   "source": [
    "df.groupby([\"mapbegin\"]).mapbeginlon.agg([len, min, max, lambda a: max(a) + min(a)])"
   ]
  },
  {
   "cell_type": "code",
   "execution_count": 18,
   "metadata": {},
   "outputs": [
    {
     "output_type": "stream",
     "name": "stdout",
     "text": [
      "<class 'pandas.core.series.Series'>\n<class 'pandas.core.series.Series'>\n<class 'pandas.core.series.Series'>\n<class 'pandas.core.series.Series'>\n<class 'pandas.core.series.Series'>\n<class 'pandas.core.series.Series'>\n<class 'pandas.core.series.Series'>\n<class 'pandas.core.series.Series'>\n<class 'pandas.core.series.Series'>\n<class 'pandas.core.series.Series'>\n<class 'pandas.core.series.Series'>\n<class 'pandas.core.series.Series'>\n<class 'pandas.core.series.Series'>\n<class 'pandas.core.series.Series'>\n<class 'pandas.core.series.Series'>\n<class 'pandas.core.series.Series'>\n<class 'pandas.core.series.Series'>\n<class 'pandas.core.series.Series'>\n<class 'pandas.core.series.Series'>\n<class 'pandas.core.series.Series'>\n<class 'pandas.core.series.Series'>\n<class 'pandas.core.series.Series'>\n<class 'pandas.core.series.Series'>\n<class 'pandas.core.series.Series'>\n<class 'pandas.core.series.Series'>\n<class 'pandas.core.series.Series'>\n<class 'pandas.core.series.Series'>\n<class 'pandas.core.series.Series'>\n<class 'pandas.core.series.Series'>\n<class 'pandas.core.series.Series'>\n<class 'pandas.core.series.Series'>\n<class 'pandas.core.series.Series'>\n<class 'pandas.core.series.Series'>\n<class 'pandas.core.series.Series'>\n<class 'pandas.core.series.Series'>\n<class 'pandas.core.series.Series'>\n<class 'pandas.core.series.Series'>\n<class 'pandas.core.series.Series'>\n<class 'pandas.core.series.Series'>\n<class 'pandas.core.series.Series'>\n<class 'pandas.core.series.Series'>\n<class 'pandas.core.series.Series'>\n<class 'pandas.core.series.Series'>\n<class 'pandas.core.series.Series'>\n<class 'pandas.core.series.Series'>\n<class 'pandas.core.series.Series'>\n<class 'pandas.core.series.Series'>\n<class 'pandas.core.series.Series'>\n<class 'pandas.core.series.Series'>\n<class 'pandas.core.series.Series'>\n<class 'pandas.core.series.Series'>\n<class 'pandas.core.series.Series'>\n<class 'pandas.core.series.Series'>\n<class 'pandas.core.series.Series'>\n<class 'pandas.core.series.Series'>\n<class 'pandas.core.series.Series'>\n<class 'pandas.core.series.Series'>\n<class 'pandas.core.series.Series'>\n<class 'pandas.core.series.Series'>\n<class 'pandas.core.series.Series'>\n<class 'pandas.core.series.Series'>\n<class 'pandas.core.series.Series'>\n<class 'pandas.core.series.Series'>\n<class 'pandas.core.series.Series'>\n<class 'pandas.core.series.Series'>\n<class 'pandas.core.series.Series'>\n<class 'pandas.core.series.Series'>\n<class 'pandas.core.series.Series'>\n<class 'pandas.core.series.Series'>\n<class 'pandas.core.series.Series'>\n<class 'pandas.core.series.Series'>\n<class 'pandas.core.series.Series'>\n<class 'pandas.core.series.Series'>\n<class 'pandas.core.series.Series'>\n<class 'pandas.core.series.Series'>\n<class 'pandas.core.series.Series'>\n<class 'pandas.core.series.Series'>\n<class 'pandas.core.series.Series'>\n<class 'pandas.core.series.Series'>\n<class 'pandas.core.series.Series'>\n<class 'pandas.core.series.Series'>\n<class 'pandas.core.series.Series'>\n<class 'pandas.core.series.Series'>\n<class 'pandas.core.series.Series'>\n<class 'pandas.core.series.Series'>\n<class 'pandas.core.series.Series'>\n<class 'pandas.core.series.Series'>\n<class 'pandas.core.series.Series'>\n<class 'pandas.core.series.Series'>\n<class 'pandas.core.series.Series'>\n<class 'pandas.core.series.Series'>\n<class 'pandas.core.series.Series'>\n<class 'pandas.core.series.Series'>\n<class 'pandas.core.series.Series'>\n<class 'pandas.core.series.Series'>\n<class 'pandas.core.series.Series'>\n<class 'pandas.core.series.Series'>\n<class 'pandas.core.series.Series'>\n<class 'pandas.core.series.Series'>\n<class 'pandas.core.series.Series'>\n<class 'pandas.core.series.Series'>\n<class 'pandas.core.series.Series'>\n<class 'pandas.core.series.Series'>\n<class 'pandas.core.series.Series'>\n<class 'pandas.core.series.Series'>\n<class 'pandas.core.series.Series'>\n<class 'pandas.core.series.Series'>\n<class 'pandas.core.series.Series'>\n<class 'pandas.core.series.Series'>\n<class 'pandas.core.series.Series'>\n<class 'pandas.core.series.Series'>\n<class 'pandas.core.series.Series'>\n<class 'pandas.core.series.Series'>\n<class 'pandas.core.series.Series'>\n<class 'pandas.core.series.Series'>\n<class 'pandas.core.series.Series'>\n<class 'pandas.core.series.Series'>\n<class 'pandas.core.series.Series'>\n<class 'pandas.core.series.Series'>\n<class 'pandas.core.series.Series'>\n<class 'pandas.core.series.Series'>\n<class 'pandas.core.series.Series'>\n<class 'pandas.core.series.Series'>\n<class 'pandas.core.series.Series'>\n<class 'pandas.core.series.Series'>\n<class 'pandas.core.series.Series'>\n<class 'pandas.core.series.Series'>\n<class 'pandas.core.series.Series'>\n<class 'pandas.core.series.Series'>\n<class 'pandas.core.series.Series'>\n<class 'pandas.core.series.Series'>\n<class 'pandas.core.series.Series'>\n<class 'pandas.core.series.Series'>\n<class 'pandas.core.series.Series'>\n<class 'pandas.core.series.Series'>\n<class 'pandas.core.series.Series'>\n<class 'pandas.core.series.Series'>\n<class 'pandas.core.series.Series'>\n<class 'pandas.core.series.Series'>\n<class 'pandas.core.series.Series'>\n<class 'pandas.core.series.Series'>\n<class 'pandas.core.series.Series'>\n<class 'pandas.core.series.Series'>\n<class 'pandas.core.series.Series'>\n<class 'pandas.core.series.Series'>\n<class 'pandas.core.series.Series'>\n<class 'pandas.core.series.Series'>\n<class 'pandas.core.series.Series'>\n<class 'pandas.core.series.Series'>\n<class 'pandas.core.series.Series'>\n<class 'pandas.core.series.Series'>\n<class 'pandas.core.series.Series'>\n<class 'pandas.core.series.Series'>\n<class 'pandas.core.series.Series'>\n<class 'pandas.core.series.Series'>\n<class 'pandas.core.series.Series'>\n<class 'pandas.core.series.Series'>\n<class 'pandas.core.series.Series'>\n<class 'pandas.core.series.Series'>\n<class 'pandas.core.series.Series'>\n<class 'pandas.core.series.Series'>\n<class 'pandas.core.series.Series'>\n<class 'pandas.core.series.Series'>\n<class 'pandas.core.series.Series'>\n<class 'pandas.core.series.Series'>\n<class 'pandas.core.series.Series'>\n<class 'pandas.core.series.Series'>\n<class 'pandas.core.series.Series'>\n<class 'pandas.core.series.Series'>\n<class 'pandas.core.series.Series'>\n<class 'pandas.core.series.Series'>\n<class 'pandas.core.series.Series'>\n<class 'pandas.core.series.Series'>\n<class 'pandas.core.series.Series'>\n<class 'pandas.core.series.Series'>\n<class 'pandas.core.series.Series'>\n<class 'pandas.core.series.Series'>\n<class 'pandas.core.series.Series'>\n<class 'pandas.core.series.Series'>\n<class 'pandas.core.series.Series'>\n<class 'pandas.core.series.Series'>\n<class 'pandas.core.series.Series'>\n<class 'pandas.core.series.Series'>\n<class 'pandas.core.series.Series'>\n<class 'pandas.core.series.Series'>\n<class 'pandas.core.series.Series'>\n<class 'pandas.core.series.Series'>\n<class 'pandas.core.series.Series'>\n<class 'pandas.core.series.Series'>\n<class 'pandas.core.series.Series'>\n<class 'pandas.core.series.Series'>\n<class 'pandas.core.series.Series'>\n<class 'pandas.core.series.Series'>\n<class 'pandas.core.series.Series'>\n<class 'pandas.core.series.Series'>\n<class 'pandas.core.series.Series'>\n<class 'pandas.core.series.Series'>\n<class 'pandas.core.series.Series'>\n<class 'pandas.core.series.Series'>\n<class 'pandas.core.series.Series'>\n<class 'pandas.core.series.Series'>\n<class 'pandas.core.series.Series'>\n<class 'pandas.core.series.Series'>\n<class 'pandas.core.series.Series'>\n<class 'pandas.core.series.Series'>\n<class 'pandas.core.series.Series'>\n<class 'pandas.core.series.Series'>\n<class 'pandas.core.series.Series'>\n<class 'pandas.core.series.Series'>\n<class 'pandas.core.series.Series'>\n<class 'pandas.core.series.Series'>\n<class 'pandas.core.series.Series'>\n<class 'pandas.core.series.Series'>\n<class 'pandas.core.series.Series'>\n<class 'pandas.core.series.Series'>\n<class 'pandas.core.series.Series'>\n<class 'pandas.core.series.Series'>\n<class 'pandas.core.series.Series'>\n<class 'pandas.core.series.Series'>\n<class 'pandas.core.series.Series'>\n<class 'pandas.core.series.Series'>\n<class 'pandas.core.series.Series'>\n<class 'pandas.core.series.Series'>\n<class 'pandas.core.series.Series'>\n<class 'pandas.core.series.Series'>\n<class 'pandas.core.series.Series'>\n<class 'pandas.core.series.Series'>\n<class 'pandas.core.series.Series'>\n<class 'pandas.core.series.Series'>\n<class 'pandas.core.series.Series'>\n<class 'pandas.core.series.Series'>\n<class 'pandas.core.series.Series'>\n<class 'pandas.core.series.Series'>\n<class 'pandas.core.series.Series'>\n<class 'pandas.core.series.Series'>\n<class 'pandas.core.series.Series'>\n<class 'pandas.core.series.Series'>\n<class 'pandas.core.series.Series'>\n<class 'pandas.core.series.Series'>\n<class 'pandas.core.series.Series'>\n<class 'pandas.core.series.Series'>\n<class 'pandas.core.series.Series'>\n<class 'pandas.core.series.Series'>\n<class 'pandas.core.series.Series'>\n<class 'pandas.core.series.Series'>\n<class 'pandas.core.series.Series'>\n<class 'pandas.core.series.Series'>\n<class 'pandas.core.series.Series'>\n<class 'pandas.core.series.Series'>\n<class 'pandas.core.series.Series'>\n<class 'pandas.core.series.Series'>\n<class 'pandas.core.series.Series'>\n<class 'pandas.core.series.Series'>\n<class 'pandas.core.series.Series'>\n<class 'pandas.core.series.Series'>\n<class 'pandas.core.series.Series'>\n<class 'pandas.core.series.Series'>\n<class 'pandas.core.series.Series'>\n<class 'pandas.core.series.Series'>\n<class 'pandas.core.series.Series'>\n<class 'pandas.core.series.Series'>\n<class 'pandas.core.series.Series'>\n<class 'pandas.core.series.Series'>\n<class 'pandas.core.series.Series'>\n<class 'pandas.core.series.Series'>\n<class 'pandas.core.series.Series'>\n<class 'pandas.core.series.Series'>\n<class 'pandas.core.series.Series'>\n<class 'pandas.core.series.Series'>\n<class 'pandas.core.series.Series'>\n<class 'pandas.core.series.Series'>\n<class 'pandas.core.series.Series'>\n<class 'pandas.core.series.Series'>\n<class 'pandas.core.series.Series'>\n<class 'pandas.core.series.Series'>\n<class 'pandas.core.series.Series'>\n<class 'pandas.core.series.Series'>\n<class 'pandas.core.series.Series'>\n<class 'pandas.core.series.Series'>\n<class 'pandas.core.series.Series'>\n<class 'pandas.core.series.Series'>\n<class 'pandas.core.series.Series'>\n<class 'pandas.core.series.Series'>\n<class 'pandas.core.series.Series'>\n<class 'pandas.core.series.Series'>\n<class 'pandas.core.series.Series'>\n<class 'pandas.core.series.Series'>\n<class 'pandas.core.series.Series'>\n<class 'pandas.core.series.Series'>\n<class 'pandas.core.series.Series'>\n<class 'pandas.core.series.Series'>\n<class 'pandas.core.series.Series'>\n<class 'pandas.core.series.Series'>\n<class 'pandas.core.series.Series'>\n<class 'pandas.core.series.Series'>\n<class 'pandas.core.series.Series'>\n<class 'pandas.core.series.Series'>\n<class 'pandas.core.series.Series'>\n<class 'pandas.core.series.Series'>\n<class 'pandas.core.series.Series'>\n<class 'pandas.core.series.Series'>\n<class 'pandas.core.series.Series'>\n<class 'pandas.core.series.Series'>\n<class 'pandas.core.series.Series'>\n<class 'pandas.core.series.Series'>\n<class 'pandas.core.series.Series'>\n<class 'pandas.core.series.Series'>\n<class 'pandas.core.series.Series'>\n<class 'pandas.core.series.Series'>\n<class 'pandas.core.series.Series'>\n<class 'pandas.core.series.Series'>\n<class 'pandas.core.series.Series'>\n<class 'pandas.core.series.Series'>\n<class 'pandas.core.series.Series'>\n<class 'pandas.core.series.Series'>\n<class 'pandas.core.series.Series'>\n<class 'pandas.core.series.Series'>\n<class 'pandas.core.series.Series'>\n<class 'pandas.core.series.Series'>\n<class 'pandas.core.series.Series'>\n<class 'pandas.core.series.Series'>\n<class 'pandas.core.series.Series'>\n<class 'pandas.core.series.Series'>\n<class 'pandas.core.series.Series'>\n<class 'pandas.core.series.Series'>\n<class 'pandas.core.series.Series'>\n<class 'pandas.core.series.Series'>\n<class 'pandas.core.series.Series'>\n<class 'pandas.core.series.Series'>\n<class 'pandas.core.series.Series'>\n<class 'pandas.core.series.Series'>\n<class 'pandas.core.series.Series'>\n<class 'pandas.core.series.Series'>\n<class 'pandas.core.series.Series'>\n<class 'pandas.core.series.Series'>\n<class 'pandas.core.series.Series'>\n<class 'pandas.core.series.Series'>\n<class 'pandas.core.series.Series'>\n<class 'pandas.core.series.Series'>\n<class 'pandas.core.series.Series'>\n<class 'pandas.core.series.Series'>\n<class 'pandas.core.series.Series'>\n<class 'pandas.core.series.Series'>\n<class 'pandas.core.series.Series'>\n<class 'pandas.core.series.Series'>\n<class 'pandas.core.series.Series'>\n<class 'pandas.core.series.Series'>\n<class 'pandas.core.series.Series'>\n<class 'pandas.core.series.Series'>\n<class 'pandas.core.series.Series'>\n<class 'pandas.core.series.Series'>\n<class 'pandas.core.series.Series'>\n<class 'pandas.core.series.Series'>\n<class 'pandas.core.series.Series'>\n<class 'pandas.core.series.Series'>\n<class 'pandas.core.series.Series'>\n<class 'pandas.core.series.Series'>\n<class 'pandas.core.series.Series'>\n<class 'pandas.core.series.Series'>\n<class 'pandas.core.series.Series'>\n<class 'pandas.core.series.Series'>\n<class 'pandas.core.series.Series'>\n<class 'pandas.core.series.Series'>\n<class 'pandas.core.series.Series'>\n<class 'pandas.core.series.Series'>\n<class 'pandas.core.series.Series'>\n<class 'pandas.core.series.Series'>\n<class 'pandas.core.series.Series'>\n<class 'pandas.core.series.Series'>\n<class 'pandas.core.series.Series'>\n<class 'pandas.core.series.Series'>\n<class 'pandas.core.series.Series'>\n<class 'pandas.core.series.Series'>\n<class 'pandas.core.series.Series'>\n<class 'pandas.core.series.Series'>\n<class 'pandas.core.series.Series'>\n<class 'pandas.core.series.Series'>\n<class 'pandas.core.series.Series'>\n<class 'pandas.core.series.Series'>\n<class 'pandas.core.series.Series'>\n<class 'pandas.core.series.Series'>\n"
     ]
    },
    {
     "output_type": "execute_result",
     "data": {
      "text/plain": [
       "                        len         min         max  different\n",
       "mapbegin                                                      \n",
       "V9港通酒店(天河机场店)          12.0  114.229697  114.229697        0.0\n",
       "一清路|益丰大药房(一清街分店)       27.0  114.142380  114.142380        0.0\n",
       "丁字桥|武汉科技大学附属天佑医院-东北门   65.0  114.314514  114.314514        0.0\n",
       "七一二所社区-南门              19.0  114.299811  114.299811        0.0\n",
       "七雄路北段-公交站路东            21.0  114.116736  114.116736        0.0\n",
       "...                     ...         ...         ...        ...\n",
       "黄陂街|世纪·江尚-东南门          48.0  114.283039  114.283039        0.0\n",
       "黄鹂路|黄鹂小区-西门            12.0  114.356911  114.356911        0.0\n",
       "黄鹤路|武汉站1F-到达层 西广场旁    130.0  114.408553  114.408553        0.0\n",
       "龙兴东街|世纪·龙城2期-东北门       38.0  114.198577  114.198577        0.0\n",
       "龙鑫工业园-东门                7.0  114.096178  114.096178        0.0\n",
       "\n",
       "[381 rows x 4 columns]"
      ],
      "text/html": "<div>\n<style scoped>\n    .dataframe tbody tr th:only-of-type {\n        vertical-align: middle;\n    }\n\n    .dataframe tbody tr th {\n        vertical-align: top;\n    }\n\n    .dataframe thead th {\n        text-align: right;\n    }\n</style>\n<table border=\"1\" class=\"dataframe\">\n  <thead>\n    <tr style=\"text-align: right;\">\n      <th></th>\n      <th>len</th>\n      <th>min</th>\n      <th>max</th>\n      <th>different</th>\n    </tr>\n    <tr>\n      <th>mapbegin</th>\n      <th></th>\n      <th></th>\n      <th></th>\n      <th></th>\n    </tr>\n  </thead>\n  <tbody>\n    <tr>\n      <th>V9港通酒店(天河机场店)</th>\n      <td>12.0</td>\n      <td>114.229697</td>\n      <td>114.229697</td>\n      <td>0.0</td>\n    </tr>\n    <tr>\n      <th>一清路|益丰大药房(一清街分店)</th>\n      <td>27.0</td>\n      <td>114.142380</td>\n      <td>114.142380</td>\n      <td>0.0</td>\n    </tr>\n    <tr>\n      <th>丁字桥|武汉科技大学附属天佑医院-东北门</th>\n      <td>65.0</td>\n      <td>114.314514</td>\n      <td>114.314514</td>\n      <td>0.0</td>\n    </tr>\n    <tr>\n      <th>七一二所社区-南门</th>\n      <td>19.0</td>\n      <td>114.299811</td>\n      <td>114.299811</td>\n      <td>0.0</td>\n    </tr>\n    <tr>\n      <th>七雄路北段-公交站路东</th>\n      <td>21.0</td>\n      <td>114.116736</td>\n      <td>114.116736</td>\n      <td>0.0</td>\n    </tr>\n    <tr>\n      <th>...</th>\n      <td>...</td>\n      <td>...</td>\n      <td>...</td>\n      <td>...</td>\n    </tr>\n    <tr>\n      <th>黄陂街|世纪·江尚-东南门</th>\n      <td>48.0</td>\n      <td>114.283039</td>\n      <td>114.283039</td>\n      <td>0.0</td>\n    </tr>\n    <tr>\n      <th>黄鹂路|黄鹂小区-西门</th>\n      <td>12.0</td>\n      <td>114.356911</td>\n      <td>114.356911</td>\n      <td>0.0</td>\n    </tr>\n    <tr>\n      <th>黄鹤路|武汉站1F-到达层 西广场旁</th>\n      <td>130.0</td>\n      <td>114.408553</td>\n      <td>114.408553</td>\n      <td>0.0</td>\n    </tr>\n    <tr>\n      <th>龙兴东街|世纪·龙城2期-东北门</th>\n      <td>38.0</td>\n      <td>114.198577</td>\n      <td>114.198577</td>\n      <td>0.0</td>\n    </tr>\n    <tr>\n      <th>龙鑫工业园-东门</th>\n      <td>7.0</td>\n      <td>114.096178</td>\n      <td>114.096178</td>\n      <td>0.0</td>\n    </tr>\n  </tbody>\n</table>\n<p>381 rows × 4 columns</p>\n</div>"
     },
     "metadata": {},
     "execution_count": 18
    }
   ],
   "source": [
    "def different(a):\n",
    "    print(type(a))\n",
    "    return max(a) - min(a)\n",
    "df.groupby([\"mapbegin\"]).mapbeginlon.agg([len, min, max, different])"
   ]
  },
  {
   "source": [
    "### Multi-indexes"
   ],
   "cell_type": "markdown",
   "metadata": {}
  },
  {
   "cell_type": "code",
   "execution_count": 26,
   "metadata": {},
   "outputs": [
    {
     "output_type": "execute_result",
     "data": {
      "text/plain": [
       "                                        len\n",
       "mapbegin      mapend                       \n",
       "V9港通酒店(天河机场店) 东西湖区|天纵·半岛蓝湾              1.0\n",
       "              中百仓储(黄陂横店店)               1.0\n",
       "              宋家岗-地铁站                   1.0\n",
       "              巨龙大道-地铁站                  1.0\n",
       "              汉口火车站|汉口站                 1.0\n",
       "...                                     ...\n",
       "龙鑫工业园-东门      东西湖区|金来亚国际酒店(武汉唐人生生医院西南)  1.0\n",
       "              东西湖区|鑫城宜居                 1.0\n",
       "              吴家山|海林广场                  1.0\n",
       "              汉口火车站|汉口站                 1.0\n",
       "              额头湾-地铁站                   1.0\n",
       "\n",
       "[8356 rows x 1 columns]"
      ],
      "text/html": "<div>\n<style scoped>\n    .dataframe tbody tr th:only-of-type {\n        vertical-align: middle;\n    }\n\n    .dataframe tbody tr th {\n        vertical-align: top;\n    }\n\n    .dataframe thead th {\n        text-align: right;\n    }\n</style>\n<table border=\"1\" class=\"dataframe\">\n  <thead>\n    <tr style=\"text-align: right;\">\n      <th></th>\n      <th></th>\n      <th>len</th>\n    </tr>\n    <tr>\n      <th>mapbegin</th>\n      <th>mapend</th>\n      <th></th>\n    </tr>\n  </thead>\n  <tbody>\n    <tr>\n      <th rowspan=\"5\" valign=\"top\">V9港通酒店(天河机场店)</th>\n      <th>东西湖区|天纵·半岛蓝湾</th>\n      <td>1.0</td>\n    </tr>\n    <tr>\n      <th>中百仓储(黄陂横店店)</th>\n      <td>1.0</td>\n    </tr>\n    <tr>\n      <th>宋家岗-地铁站</th>\n      <td>1.0</td>\n    </tr>\n    <tr>\n      <th>巨龙大道-地铁站</th>\n      <td>1.0</td>\n    </tr>\n    <tr>\n      <th>汉口火车站|汉口站</th>\n      <td>1.0</td>\n    </tr>\n    <tr>\n      <th>...</th>\n      <th>...</th>\n      <td>...</td>\n    </tr>\n    <tr>\n      <th rowspan=\"5\" valign=\"top\">龙鑫工业园-东门</th>\n      <th>东西湖区|金来亚国际酒店(武汉唐人生生医院西南)</th>\n      <td>1.0</td>\n    </tr>\n    <tr>\n      <th>东西湖区|鑫城宜居</th>\n      <td>1.0</td>\n    </tr>\n    <tr>\n      <th>吴家山|海林广场</th>\n      <td>1.0</td>\n    </tr>\n    <tr>\n      <th>汉口火车站|汉口站</th>\n      <td>1.0</td>\n    </tr>\n    <tr>\n      <th>额头湾-地铁站</th>\n      <td>1.0</td>\n    </tr>\n  </tbody>\n</table>\n<p>8356 rows × 1 columns</p>\n</div>"
     },
     "metadata": {},
     "execution_count": 26
    }
   ],
   "source": [
    "df_pathes = df.groupby([\"mapbegin\", \"mapend\"]).mapbeginlon.agg([len])\n",
    "df_pathes"
   ]
  },
  {
   "cell_type": "code",
   "execution_count": 27,
   "metadata": {},
   "outputs": [
    {
     "output_type": "execute_result",
     "data": {
      "text/plain": [
       "pandas.core.indexes.multi.MultiIndex"
      ]
     },
     "metadata": {},
     "execution_count": 27
    }
   ],
   "source": [
    "mi = df_pathes.index \n",
    "type(mi)"
   ]
  },
  {
   "cell_type": "code",
   "execution_count": 28,
   "metadata": {},
   "outputs": [
    {
     "output_type": "execute_result",
     "data": {
      "text/plain": [
       "           mapbegin                    mapend  len\n",
       "0     V9港通酒店(天河机场店)              东西湖区|天纵·半岛蓝湾  1.0\n",
       "1     V9港通酒店(天河机场店)               中百仓储(黄陂横店店)  1.0\n",
       "2     V9港通酒店(天河机场店)                   宋家岗-地铁站  1.0\n",
       "3     V9港通酒店(天河机场店)                  巨龙大道-地铁站  1.0\n",
       "4     V9港通酒店(天河机场店)                 汉口火车站|汉口站  1.0\n",
       "...             ...                       ...  ...\n",
       "8351       龙鑫工业园-东门  东西湖区|金来亚国际酒店(武汉唐人生生医院西南)  1.0\n",
       "8352       龙鑫工业园-东门                 东西湖区|鑫城宜居  1.0\n",
       "8353       龙鑫工业园-东门                  吴家山|海林广场  1.0\n",
       "8354       龙鑫工业园-东门                 汉口火车站|汉口站  1.0\n",
       "8355       龙鑫工业园-东门                   额头湾-地铁站  1.0\n",
       "\n",
       "[8356 rows x 3 columns]"
      ],
      "text/html": "<div>\n<style scoped>\n    .dataframe tbody tr th:only-of-type {\n        vertical-align: middle;\n    }\n\n    .dataframe tbody tr th {\n        vertical-align: top;\n    }\n\n    .dataframe thead th {\n        text-align: right;\n    }\n</style>\n<table border=\"1\" class=\"dataframe\">\n  <thead>\n    <tr style=\"text-align: right;\">\n      <th></th>\n      <th>mapbegin</th>\n      <th>mapend</th>\n      <th>len</th>\n    </tr>\n  </thead>\n  <tbody>\n    <tr>\n      <th>0</th>\n      <td>V9港通酒店(天河机场店)</td>\n      <td>东西湖区|天纵·半岛蓝湾</td>\n      <td>1.0</td>\n    </tr>\n    <tr>\n      <th>1</th>\n      <td>V9港通酒店(天河机场店)</td>\n      <td>中百仓储(黄陂横店店)</td>\n      <td>1.0</td>\n    </tr>\n    <tr>\n      <th>2</th>\n      <td>V9港通酒店(天河机场店)</td>\n      <td>宋家岗-地铁站</td>\n      <td>1.0</td>\n    </tr>\n    <tr>\n      <th>3</th>\n      <td>V9港通酒店(天河机场店)</td>\n      <td>巨龙大道-地铁站</td>\n      <td>1.0</td>\n    </tr>\n    <tr>\n      <th>4</th>\n      <td>V9港通酒店(天河机场店)</td>\n      <td>汉口火车站|汉口站</td>\n      <td>1.0</td>\n    </tr>\n    <tr>\n      <th>...</th>\n      <td>...</td>\n      <td>...</td>\n      <td>...</td>\n    </tr>\n    <tr>\n      <th>8351</th>\n      <td>龙鑫工业园-东门</td>\n      <td>东西湖区|金来亚国际酒店(武汉唐人生生医院西南)</td>\n      <td>1.0</td>\n    </tr>\n    <tr>\n      <th>8352</th>\n      <td>龙鑫工业园-东门</td>\n      <td>东西湖区|鑫城宜居</td>\n      <td>1.0</td>\n    </tr>\n    <tr>\n      <th>8353</th>\n      <td>龙鑫工业园-东门</td>\n      <td>吴家山|海林广场</td>\n      <td>1.0</td>\n    </tr>\n    <tr>\n      <th>8354</th>\n      <td>龙鑫工业园-东门</td>\n      <td>汉口火车站|汉口站</td>\n      <td>1.0</td>\n    </tr>\n    <tr>\n      <th>8355</th>\n      <td>龙鑫工业园-东门</td>\n      <td>额头湾-地铁站</td>\n      <td>1.0</td>\n    </tr>\n  </tbody>\n</table>\n<p>8356 rows × 3 columns</p>\n</div>"
     },
     "metadata": {},
     "execution_count": 28
    }
   ],
   "source": [
    "df_pathes.reset_index()"
   ]
  },
  {
   "source": [
    "### Sorting"
   ],
   "cell_type": "markdown",
   "metadata": {}
  },
  {
   "cell_type": "code",
   "execution_count": 29,
   "metadata": {},
   "outputs": [
    {
     "output_type": "execute_result",
     "data": {
      "text/plain": [
       "                                             len\n",
       "mapbegin                mapend                  \n",
       "V9港通酒店(天河机场店)           东西湖区|天纵·半岛蓝湾         1.0\n",
       "江城大道地铁江城大道站-公交站路西       沌口|协和医院西区-门诊部        1.0\n",
       "                        沌口|东风本田汽车有限公司(第一工厂)  1.0\n",
       "                        沌口|万科金域蓝湾南区(3号门)     1.0\n",
       "                        汉阳区|锦绣汉江             1.0\n",
       "...                                          ...\n",
       "友谊大道|魔指仙境·乐享驿站(武汉洪山店)西侧 岳家嘴-地铁站              1.0\n",
       "                        园林路-地铁站              1.0\n",
       "                        和平大道|武商众圆广场          1.0\n",
       "                        和平大道|奥山世纪城           1.0\n",
       "龙鑫工业园-东门                额头湾-地铁站              1.0\n",
       "\n",
       "[8356 rows x 1 columns]"
      ],
      "text/html": "<div>\n<style scoped>\n    .dataframe tbody tr th:only-of-type {\n        vertical-align: middle;\n    }\n\n    .dataframe tbody tr th {\n        vertical-align: top;\n    }\n\n    .dataframe thead th {\n        text-align: right;\n    }\n</style>\n<table border=\"1\" class=\"dataframe\">\n  <thead>\n    <tr style=\"text-align: right;\">\n      <th></th>\n      <th></th>\n      <th>len</th>\n    </tr>\n    <tr>\n      <th>mapbegin</th>\n      <th>mapend</th>\n      <th></th>\n    </tr>\n  </thead>\n  <tbody>\n    <tr>\n      <th>V9港通酒店(天河机场店)</th>\n      <th>东西湖区|天纵·半岛蓝湾</th>\n      <td>1.0</td>\n    </tr>\n    <tr>\n      <th rowspan=\"4\" valign=\"top\">江城大道地铁江城大道站-公交站路西</th>\n      <th>沌口|协和医院西区-门诊部</th>\n      <td>1.0</td>\n    </tr>\n    <tr>\n      <th>沌口|东风本田汽车有限公司(第一工厂)</th>\n      <td>1.0</td>\n    </tr>\n    <tr>\n      <th>沌口|万科金域蓝湾南区(3号门)</th>\n      <td>1.0</td>\n    </tr>\n    <tr>\n      <th>汉阳区|锦绣汉江</th>\n      <td>1.0</td>\n    </tr>\n    <tr>\n      <th>...</th>\n      <th>...</th>\n      <td>...</td>\n    </tr>\n    <tr>\n      <th rowspan=\"4\" valign=\"top\">友谊大道|魔指仙境·乐享驿站(武汉洪山店)西侧</th>\n      <th>岳家嘴-地铁站</th>\n      <td>1.0</td>\n    </tr>\n    <tr>\n      <th>园林路-地铁站</th>\n      <td>1.0</td>\n    </tr>\n    <tr>\n      <th>和平大道|武商众圆广场</th>\n      <td>1.0</td>\n    </tr>\n    <tr>\n      <th>和平大道|奥山世纪城</th>\n      <td>1.0</td>\n    </tr>\n    <tr>\n      <th>龙鑫工业园-东门</th>\n      <th>额头湾-地铁站</th>\n      <td>1.0</td>\n    </tr>\n  </tbody>\n</table>\n<p>8356 rows × 1 columns</p>\n</div>"
     },
     "metadata": {},
     "execution_count": 29
    }
   ],
   "source": [
    "df_pathes.sort_values(by = \"len\")"
   ]
  },
  {
   "cell_type": "code",
   "execution_count": 31,
   "metadata": {},
   "outputs": [
    {
     "output_type": "execute_result",
     "data": {
      "text/plain": [
       "               mapbegin  mapbeginlon  mapbeginlat  mapbeginlon.1  \\\n",
       "0        民族大道光谷广场-公交站路东   114.386925    30.500459     114.398925   \n",
       "1        民族大道光谷广场-公交站路东   114.386925    30.500459     114.398925   \n",
       "2        民族大道光谷广场-公交站路东   114.386925    30.500459     114.398925   \n",
       "3     纸坊|金逸影城(九全嘉国际广场店)   114.317790    30.354540     114.329790   \n",
       "4           纸坊|美味传奇农家菜馆   114.306421    30.348027     114.318421   \n",
       "...                 ...          ...          ...            ...   \n",
       "7464        韩家墩|汉正瑞鑫大酒店   114.205101    30.582394     114.217101   \n",
       "7463   海口二路|黄鹤楼学术报告厅-西门   114.152019    30.632647     114.164019   \n",
       "7462      光谷一路文豪路-公交站路西   114.434166    30.495654     114.446166   \n",
       "7461      光谷一路文豪路-公交站路西   114.434166    30.495654     114.446166   \n",
       "8355         宗关站B出口(武汉)   114.214448    30.576712     114.226448   \n",
       "\n",
       "      mapbeginlat.1         mapend   mapendlon  mapendlat  mapendlon.1  \\\n",
       "0         30.504459      光谷|曙光星城B区  114.391000  30.482508   114.403000   \n",
       "1         30.504459           光谷天地  114.397825  30.473273   114.409825   \n",
       "2         30.504459        光谷|丽顿酒店  114.410591  30.497201   114.422591   \n",
       "3         30.358540       纸坊|江夏体育馆  114.303393  30.349184   114.315393   \n",
       "4         30.352027      江夏区第一人民医院  114.308387  30.367964   114.320387   \n",
       "...             ...            ...         ...        ...          ...   \n",
       "7464      30.586394       江岸区|武汉天地  114.299325  30.604509   114.311325   \n",
       "7463      30.636647   吴家山|鑫海花城(东区)  114.132129  30.644061   114.144129   \n",
       "7462      30.499654   街道口|湖北省妇幼保健院  114.340344  30.523947   114.352344   \n",
       "7461      30.499654  光谷|武汉大学人民医院东院  114.429180  30.436147   114.441180   \n",
       "8355      30.580712        陶家岭-地铁站  114.189471  30.542069   114.201471   \n",
       "\n",
       "      mapendlat.1  打车次数  \n",
       "0       30.486508   174  \n",
       "1       30.477273   158  \n",
       "2       30.501201   145  \n",
       "3       30.353184   142  \n",
       "4       30.371964   140  \n",
       "...           ...   ...  \n",
       "7464    30.608509     5  \n",
       "7463    30.648061     5  \n",
       "7462    30.527947     5  \n",
       "7461    30.440147     5  \n",
       "8355    30.546069     5  \n",
       "\n",
       "[8356 rows x 11 columns]"
      ],
      "text/html": "<div>\n<style scoped>\n    .dataframe tbody tr th:only-of-type {\n        vertical-align: middle;\n    }\n\n    .dataframe tbody tr th {\n        vertical-align: top;\n    }\n\n    .dataframe thead th {\n        text-align: right;\n    }\n</style>\n<table border=\"1\" class=\"dataframe\">\n  <thead>\n    <tr style=\"text-align: right;\">\n      <th></th>\n      <th>mapbegin</th>\n      <th>mapbeginlon</th>\n      <th>mapbeginlat</th>\n      <th>mapbeginlon.1</th>\n      <th>mapbeginlat.1</th>\n      <th>mapend</th>\n      <th>mapendlon</th>\n      <th>mapendlat</th>\n      <th>mapendlon.1</th>\n      <th>mapendlat.1</th>\n      <th>打车次数</th>\n    </tr>\n  </thead>\n  <tbody>\n    <tr>\n      <th>0</th>\n      <td>民族大道光谷广场-公交站路东</td>\n      <td>114.386925</td>\n      <td>30.500459</td>\n      <td>114.398925</td>\n      <td>30.504459</td>\n      <td>光谷|曙光星城B区</td>\n      <td>114.391000</td>\n      <td>30.482508</td>\n      <td>114.403000</td>\n      <td>30.486508</td>\n      <td>174</td>\n    </tr>\n    <tr>\n      <th>1</th>\n      <td>民族大道光谷广场-公交站路东</td>\n      <td>114.386925</td>\n      <td>30.500459</td>\n      <td>114.398925</td>\n      <td>30.504459</td>\n      <td>光谷天地</td>\n      <td>114.397825</td>\n      <td>30.473273</td>\n      <td>114.409825</td>\n      <td>30.477273</td>\n      <td>158</td>\n    </tr>\n    <tr>\n      <th>2</th>\n      <td>民族大道光谷广场-公交站路东</td>\n      <td>114.386925</td>\n      <td>30.500459</td>\n      <td>114.398925</td>\n      <td>30.504459</td>\n      <td>光谷|丽顿酒店</td>\n      <td>114.410591</td>\n      <td>30.497201</td>\n      <td>114.422591</td>\n      <td>30.501201</td>\n      <td>145</td>\n    </tr>\n    <tr>\n      <th>3</th>\n      <td>纸坊|金逸影城(九全嘉国际广场店)</td>\n      <td>114.317790</td>\n      <td>30.354540</td>\n      <td>114.329790</td>\n      <td>30.358540</td>\n      <td>纸坊|江夏体育馆</td>\n      <td>114.303393</td>\n      <td>30.349184</td>\n      <td>114.315393</td>\n      <td>30.353184</td>\n      <td>142</td>\n    </tr>\n    <tr>\n      <th>4</th>\n      <td>纸坊|美味传奇农家菜馆</td>\n      <td>114.306421</td>\n      <td>30.348027</td>\n      <td>114.318421</td>\n      <td>30.352027</td>\n      <td>江夏区第一人民医院</td>\n      <td>114.308387</td>\n      <td>30.367964</td>\n      <td>114.320387</td>\n      <td>30.371964</td>\n      <td>140</td>\n    </tr>\n    <tr>\n      <th>...</th>\n      <td>...</td>\n      <td>...</td>\n      <td>...</td>\n      <td>...</td>\n      <td>...</td>\n      <td>...</td>\n      <td>...</td>\n      <td>...</td>\n      <td>...</td>\n      <td>...</td>\n      <td>...</td>\n    </tr>\n    <tr>\n      <th>7464</th>\n      <td>韩家墩|汉正瑞鑫大酒店</td>\n      <td>114.205101</td>\n      <td>30.582394</td>\n      <td>114.217101</td>\n      <td>30.586394</td>\n      <td>江岸区|武汉天地</td>\n      <td>114.299325</td>\n      <td>30.604509</td>\n      <td>114.311325</td>\n      <td>30.608509</td>\n      <td>5</td>\n    </tr>\n    <tr>\n      <th>7463</th>\n      <td>海口二路|黄鹤楼学术报告厅-西门</td>\n      <td>114.152019</td>\n      <td>30.632647</td>\n      <td>114.164019</td>\n      <td>30.636647</td>\n      <td>吴家山|鑫海花城(东区)</td>\n      <td>114.132129</td>\n      <td>30.644061</td>\n      <td>114.144129</td>\n      <td>30.648061</td>\n      <td>5</td>\n    </tr>\n    <tr>\n      <th>7462</th>\n      <td>光谷一路文豪路-公交站路西</td>\n      <td>114.434166</td>\n      <td>30.495654</td>\n      <td>114.446166</td>\n      <td>30.499654</td>\n      <td>街道口|湖北省妇幼保健院</td>\n      <td>114.340344</td>\n      <td>30.523947</td>\n      <td>114.352344</td>\n      <td>30.527947</td>\n      <td>5</td>\n    </tr>\n    <tr>\n      <th>7461</th>\n      <td>光谷一路文豪路-公交站路西</td>\n      <td>114.434166</td>\n      <td>30.495654</td>\n      <td>114.446166</td>\n      <td>30.499654</td>\n      <td>光谷|武汉大学人民医院东院</td>\n      <td>114.429180</td>\n      <td>30.436147</td>\n      <td>114.441180</td>\n      <td>30.440147</td>\n      <td>5</td>\n    </tr>\n    <tr>\n      <th>8355</th>\n      <td>宗关站B出口(武汉)</td>\n      <td>114.214448</td>\n      <td>30.576712</td>\n      <td>114.226448</td>\n      <td>30.580712</td>\n      <td>陶家岭-地铁站</td>\n      <td>114.189471</td>\n      <td>30.542069</td>\n      <td>114.201471</td>\n      <td>30.546069</td>\n      <td>5</td>\n    </tr>\n  </tbody>\n</table>\n<p>8356 rows × 11 columns</p>\n</div>"
     },
     "metadata": {},
     "execution_count": 31
    }
   ],
   "source": [
    "df.sort_values(by = \"打车次数\", ascending = False)"
   ]
  },
  {
   "cell_type": "code",
   "execution_count": 32,
   "metadata": {},
   "outputs": [
    {
     "output_type": "execute_result",
     "data": {
      "text/plain": [
       "               mapbegin  mapbeginlon  mapbeginlat  mapbeginlon.1  \\\n",
       "0        民族大道光谷广场-公交站路东   114.386925    30.500459     114.398925   \n",
       "1        民族大道光谷广场-公交站路东   114.386925    30.500459     114.398925   \n",
       "2        民族大道光谷广场-公交站路东   114.386925    30.500459     114.398925   \n",
       "3     纸坊|金逸影城(九全嘉国际广场店)   114.317790    30.354540     114.329790   \n",
       "4           纸坊|美味传奇农家菜馆   114.306421    30.348027     114.318421   \n",
       "...                 ...          ...          ...            ...   \n",
       "8351      卓刀泉南路|湖北省肿瘤医院   114.352560    30.496416     114.364560   \n",
       "8352      卓刀泉南路|湖北省肿瘤医院   114.352560    30.496416     114.364560   \n",
       "8353      卓刀泉南路|湖北省肿瘤医院   114.352560    30.496416     114.364560   \n",
       "8354         宗关站B出口(武汉)   114.214448    30.576712     114.226448   \n",
       "8355         宗关站B出口(武汉)   114.214448    30.576712     114.226448   \n",
       "\n",
       "      mapbeginlat.1          mapend   mapendlon  mapendlat  mapendlon.1  \\\n",
       "0         30.504459       光谷|曙光星城B区  114.391000  30.482508   114.403000   \n",
       "1         30.504459            光谷天地  114.397825  30.473273   114.409825   \n",
       "2         30.504459         光谷|丽顿酒店  114.410591  30.497201   114.422591   \n",
       "3         30.358540        纸坊|江夏体育馆  114.303393  30.349184   114.315393   \n",
       "4         30.352027       江夏区第一人民医院  114.308387  30.367964   114.320387   \n",
       "...             ...             ...         ...        ...          ...   \n",
       "8351      30.500416       洪山区|保利蓝海郡  114.362493  30.489645   114.374493   \n",
       "8352      30.500416   珞南|南国大家装(江南店)  114.338649  30.508854   114.350649   \n",
       "8353      30.500416       武昌火车站|武昌站  114.304895  30.525332   114.316895   \n",
       "8354      30.580712  江汉路步行商业街(江汉四路)  114.276795  30.580114   114.288795   \n",
       "8355      30.580712         陶家岭-地铁站  114.189471  30.542069   114.201471   \n",
       "\n",
       "      mapendlat.1  打车次数  \n",
       "0       30.486508   174  \n",
       "1       30.477273   158  \n",
       "2       30.501201   145  \n",
       "3       30.353184   142  \n",
       "4       30.371964   140  \n",
       "...           ...   ...  \n",
       "8351    30.493645     5  \n",
       "8352    30.512854     5  \n",
       "8353    30.529332     5  \n",
       "8354    30.584114     5  \n",
       "8355    30.546069     5  \n",
       "\n",
       "[8356 rows x 11 columns]"
      ],
      "text/html": "<div>\n<style scoped>\n    .dataframe tbody tr th:only-of-type {\n        vertical-align: middle;\n    }\n\n    .dataframe tbody tr th {\n        vertical-align: top;\n    }\n\n    .dataframe thead th {\n        text-align: right;\n    }\n</style>\n<table border=\"1\" class=\"dataframe\">\n  <thead>\n    <tr style=\"text-align: right;\">\n      <th></th>\n      <th>mapbegin</th>\n      <th>mapbeginlon</th>\n      <th>mapbeginlat</th>\n      <th>mapbeginlon.1</th>\n      <th>mapbeginlat.1</th>\n      <th>mapend</th>\n      <th>mapendlon</th>\n      <th>mapendlat</th>\n      <th>mapendlon.1</th>\n      <th>mapendlat.1</th>\n      <th>打车次数</th>\n    </tr>\n  </thead>\n  <tbody>\n    <tr>\n      <th>0</th>\n      <td>民族大道光谷广场-公交站路东</td>\n      <td>114.386925</td>\n      <td>30.500459</td>\n      <td>114.398925</td>\n      <td>30.504459</td>\n      <td>光谷|曙光星城B区</td>\n      <td>114.391000</td>\n      <td>30.482508</td>\n      <td>114.403000</td>\n      <td>30.486508</td>\n      <td>174</td>\n    </tr>\n    <tr>\n      <th>1</th>\n      <td>民族大道光谷广场-公交站路东</td>\n      <td>114.386925</td>\n      <td>30.500459</td>\n      <td>114.398925</td>\n      <td>30.504459</td>\n      <td>光谷天地</td>\n      <td>114.397825</td>\n      <td>30.473273</td>\n      <td>114.409825</td>\n      <td>30.477273</td>\n      <td>158</td>\n    </tr>\n    <tr>\n      <th>2</th>\n      <td>民族大道光谷广场-公交站路东</td>\n      <td>114.386925</td>\n      <td>30.500459</td>\n      <td>114.398925</td>\n      <td>30.504459</td>\n      <td>光谷|丽顿酒店</td>\n      <td>114.410591</td>\n      <td>30.497201</td>\n      <td>114.422591</td>\n      <td>30.501201</td>\n      <td>145</td>\n    </tr>\n    <tr>\n      <th>3</th>\n      <td>纸坊|金逸影城(九全嘉国际广场店)</td>\n      <td>114.317790</td>\n      <td>30.354540</td>\n      <td>114.329790</td>\n      <td>30.358540</td>\n      <td>纸坊|江夏体育馆</td>\n      <td>114.303393</td>\n      <td>30.349184</td>\n      <td>114.315393</td>\n      <td>30.353184</td>\n      <td>142</td>\n    </tr>\n    <tr>\n      <th>4</th>\n      <td>纸坊|美味传奇农家菜馆</td>\n      <td>114.306421</td>\n      <td>30.348027</td>\n      <td>114.318421</td>\n      <td>30.352027</td>\n      <td>江夏区第一人民医院</td>\n      <td>114.308387</td>\n      <td>30.367964</td>\n      <td>114.320387</td>\n      <td>30.371964</td>\n      <td>140</td>\n    </tr>\n    <tr>\n      <th>...</th>\n      <td>...</td>\n      <td>...</td>\n      <td>...</td>\n      <td>...</td>\n      <td>...</td>\n      <td>...</td>\n      <td>...</td>\n      <td>...</td>\n      <td>...</td>\n      <td>...</td>\n      <td>...</td>\n    </tr>\n    <tr>\n      <th>8351</th>\n      <td>卓刀泉南路|湖北省肿瘤医院</td>\n      <td>114.352560</td>\n      <td>30.496416</td>\n      <td>114.364560</td>\n      <td>30.500416</td>\n      <td>洪山区|保利蓝海郡</td>\n      <td>114.362493</td>\n      <td>30.489645</td>\n      <td>114.374493</td>\n      <td>30.493645</td>\n      <td>5</td>\n    </tr>\n    <tr>\n      <th>8352</th>\n      <td>卓刀泉南路|湖北省肿瘤医院</td>\n      <td>114.352560</td>\n      <td>30.496416</td>\n      <td>114.364560</td>\n      <td>30.500416</td>\n      <td>珞南|南国大家装(江南店)</td>\n      <td>114.338649</td>\n      <td>30.508854</td>\n      <td>114.350649</td>\n      <td>30.512854</td>\n      <td>5</td>\n    </tr>\n    <tr>\n      <th>8353</th>\n      <td>卓刀泉南路|湖北省肿瘤医院</td>\n      <td>114.352560</td>\n      <td>30.496416</td>\n      <td>114.364560</td>\n      <td>30.500416</td>\n      <td>武昌火车站|武昌站</td>\n      <td>114.304895</td>\n      <td>30.525332</td>\n      <td>114.316895</td>\n      <td>30.529332</td>\n      <td>5</td>\n    </tr>\n    <tr>\n      <th>8354</th>\n      <td>宗关站B出口(武汉)</td>\n      <td>114.214448</td>\n      <td>30.576712</td>\n      <td>114.226448</td>\n      <td>30.580712</td>\n      <td>江汉路步行商业街(江汉四路)</td>\n      <td>114.276795</td>\n      <td>30.580114</td>\n      <td>114.288795</td>\n      <td>30.584114</td>\n      <td>5</td>\n    </tr>\n    <tr>\n      <th>8355</th>\n      <td>宗关站B出口(武汉)</td>\n      <td>114.214448</td>\n      <td>30.576712</td>\n      <td>114.226448</td>\n      <td>30.580712</td>\n      <td>陶家岭-地铁站</td>\n      <td>114.189471</td>\n      <td>30.542069</td>\n      <td>114.201471</td>\n      <td>30.546069</td>\n      <td>5</td>\n    </tr>\n  </tbody>\n</table>\n<p>8356 rows × 11 columns</p>\n</div>"
     },
     "metadata": {},
     "execution_count": 32
    }
   ],
   "source": [
    "df.sort_index()"
   ]
  },
  {
   "cell_type": "code",
   "execution_count": 33,
   "metadata": {},
   "outputs": [
    {
     "output_type": "execute_result",
     "data": {
      "text/plain": [
       "        mapbegin  mapbeginlon  mapbeginlat  mapbeginlon.1  mapbeginlat.1  \\\n",
       "2902   联富路奓山-公交站   114.004360    30.445874     114.016360      30.449874   \n",
       "2963   联富路奓山-公交站   114.004360    30.445874     114.016360      30.449874   \n",
       "4266   联富路奓山-公交站   114.004360    30.445874     114.016360      30.449874   \n",
       "5239   联富路奓山-公交站   114.004360    30.445874     114.016360      30.449874   \n",
       "5870   联富路奓山-公交站   114.004360    30.445874     114.016360      30.449874   \n",
       "...          ...          ...          ...            ...            ...   \n",
       "2798  葛店南站-公交站路西   114.649641    30.487380     114.661641      30.491380   \n",
       "4674  葛店南站-公交站路西   114.649641    30.487380     114.661641      30.491380   \n",
       "5794  葛店南站-公交站路西   114.649641    30.487380     114.661641      30.491380   \n",
       "2295  常阳新城南区-6号门   114.800345    30.821720     114.812345      30.825720   \n",
       "5571  常阳新城南区-6号门   114.800345    30.821720     114.812345      30.825720   \n",
       "\n",
       "               mapend   mapendlon  mapendlat  mapendlon.1  mapendlat.1  打车次数  \n",
       "2902         蔡甸区|赛尔公寓  114.040911  30.428621   114.052911    30.432621    12  \n",
       "2963     蔡甸区|常福国际商务广场  114.033209  30.446466   114.045209    30.450466    12  \n",
       "4266        蔡甸区|格力馨雅园  114.063792  30.463131   114.075792    30.467131     9  \n",
       "5239            大集新社区  114.042800  30.497605   114.054800    30.501605     7  \n",
       "5870      沌口|武汉经开万达广场  114.160476  30.502797   114.172476    30.506797     7  \n",
       "...               ...         ...        ...          ...          ...   ...  \n",
       "2798   洪山区|左岭新城·黄陂岭社区  114.610952  30.486276   114.622952    30.490276    13  \n",
       "4674  洪山区|左岭新城四社区(西门)  114.601075  30.485913   114.613075    30.489913     8  \n",
       "5794    洪山区|华星光电(1号门)  114.598211  30.511750   114.610211    30.515750     7  \n",
       "2295        新洲区|新洲摩尔城  114.791995  30.829971   114.803995    30.833971    14  \n",
       "5571        新洲区|邾城客运站  114.801134  30.820967   114.813134    30.824967     7  \n",
       "\n",
       "[8356 rows x 11 columns]"
      ],
      "text/html": "<div>\n<style scoped>\n    .dataframe tbody tr th:only-of-type {\n        vertical-align: middle;\n    }\n\n    .dataframe tbody tr th {\n        vertical-align: top;\n    }\n\n    .dataframe thead th {\n        text-align: right;\n    }\n</style>\n<table border=\"1\" class=\"dataframe\">\n  <thead>\n    <tr style=\"text-align: right;\">\n      <th></th>\n      <th>mapbegin</th>\n      <th>mapbeginlon</th>\n      <th>mapbeginlat</th>\n      <th>mapbeginlon.1</th>\n      <th>mapbeginlat.1</th>\n      <th>mapend</th>\n      <th>mapendlon</th>\n      <th>mapendlat</th>\n      <th>mapendlon.1</th>\n      <th>mapendlat.1</th>\n      <th>打车次数</th>\n    </tr>\n  </thead>\n  <tbody>\n    <tr>\n      <th>2902</th>\n      <td>联富路奓山-公交站</td>\n      <td>114.004360</td>\n      <td>30.445874</td>\n      <td>114.016360</td>\n      <td>30.449874</td>\n      <td>蔡甸区|赛尔公寓</td>\n      <td>114.040911</td>\n      <td>30.428621</td>\n      <td>114.052911</td>\n      <td>30.432621</td>\n      <td>12</td>\n    </tr>\n    <tr>\n      <th>2963</th>\n      <td>联富路奓山-公交站</td>\n      <td>114.004360</td>\n      <td>30.445874</td>\n      <td>114.016360</td>\n      <td>30.449874</td>\n      <td>蔡甸区|常福国际商务广场</td>\n      <td>114.033209</td>\n      <td>30.446466</td>\n      <td>114.045209</td>\n      <td>30.450466</td>\n      <td>12</td>\n    </tr>\n    <tr>\n      <th>4266</th>\n      <td>联富路奓山-公交站</td>\n      <td>114.004360</td>\n      <td>30.445874</td>\n      <td>114.016360</td>\n      <td>30.449874</td>\n      <td>蔡甸区|格力馨雅园</td>\n      <td>114.063792</td>\n      <td>30.463131</td>\n      <td>114.075792</td>\n      <td>30.467131</td>\n      <td>9</td>\n    </tr>\n    <tr>\n      <th>5239</th>\n      <td>联富路奓山-公交站</td>\n      <td>114.004360</td>\n      <td>30.445874</td>\n      <td>114.016360</td>\n      <td>30.449874</td>\n      <td>大集新社区</td>\n      <td>114.042800</td>\n      <td>30.497605</td>\n      <td>114.054800</td>\n      <td>30.501605</td>\n      <td>7</td>\n    </tr>\n    <tr>\n      <th>5870</th>\n      <td>联富路奓山-公交站</td>\n      <td>114.004360</td>\n      <td>30.445874</td>\n      <td>114.016360</td>\n      <td>30.449874</td>\n      <td>沌口|武汉经开万达广场</td>\n      <td>114.160476</td>\n      <td>30.502797</td>\n      <td>114.172476</td>\n      <td>30.506797</td>\n      <td>7</td>\n    </tr>\n    <tr>\n      <th>...</th>\n      <td>...</td>\n      <td>...</td>\n      <td>...</td>\n      <td>...</td>\n      <td>...</td>\n      <td>...</td>\n      <td>...</td>\n      <td>...</td>\n      <td>...</td>\n      <td>...</td>\n      <td>...</td>\n    </tr>\n    <tr>\n      <th>2798</th>\n      <td>葛店南站-公交站路西</td>\n      <td>114.649641</td>\n      <td>30.487380</td>\n      <td>114.661641</td>\n      <td>30.491380</td>\n      <td>洪山区|左岭新城·黄陂岭社区</td>\n      <td>114.610952</td>\n      <td>30.486276</td>\n      <td>114.622952</td>\n      <td>30.490276</td>\n      <td>13</td>\n    </tr>\n    <tr>\n      <th>4674</th>\n      <td>葛店南站-公交站路西</td>\n      <td>114.649641</td>\n      <td>30.487380</td>\n      <td>114.661641</td>\n      <td>30.491380</td>\n      <td>洪山区|左岭新城四社区(西门)</td>\n      <td>114.601075</td>\n      <td>30.485913</td>\n      <td>114.613075</td>\n      <td>30.489913</td>\n      <td>8</td>\n    </tr>\n    <tr>\n      <th>5794</th>\n      <td>葛店南站-公交站路西</td>\n      <td>114.649641</td>\n      <td>30.487380</td>\n      <td>114.661641</td>\n      <td>30.491380</td>\n      <td>洪山区|华星光电(1号门)</td>\n      <td>114.598211</td>\n      <td>30.511750</td>\n      <td>114.610211</td>\n      <td>30.515750</td>\n      <td>7</td>\n    </tr>\n    <tr>\n      <th>2295</th>\n      <td>常阳新城南区-6号门</td>\n      <td>114.800345</td>\n      <td>30.821720</td>\n      <td>114.812345</td>\n      <td>30.825720</td>\n      <td>新洲区|新洲摩尔城</td>\n      <td>114.791995</td>\n      <td>30.829971</td>\n      <td>114.803995</td>\n      <td>30.833971</td>\n      <td>14</td>\n    </tr>\n    <tr>\n      <th>5571</th>\n      <td>常阳新城南区-6号门</td>\n      <td>114.800345</td>\n      <td>30.821720</td>\n      <td>114.812345</td>\n      <td>30.825720</td>\n      <td>新洲区|邾城客运站</td>\n      <td>114.801134</td>\n      <td>30.820967</td>\n      <td>114.813134</td>\n      <td>30.824967</td>\n      <td>7</td>\n    </tr>\n  </tbody>\n</table>\n<p>8356 rows × 11 columns</p>\n</div>"
     },
     "metadata": {},
     "execution_count": 33
    }
   ],
   "source": [
    "df.sort_values(by = [\"mapbeginlon\", \"mapbeginlat\"])"
   ]
  },
  {
   "cell_type": "code",
   "execution_count": null,
   "metadata": {},
   "outputs": [],
   "source": []
  }
 ]
}