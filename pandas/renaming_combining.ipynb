{
 "metadata": {
  "language_info": {
   "codemirror_mode": {
    "name": "ipython",
    "version": 3
   },
   "file_extension": ".py",
   "mimetype": "text/x-python",
   "name": "python",
   "nbconvert_exporter": "python",
   "pygments_lexer": "ipython3",
   "version": "3.6.13"
  },
  "orig_nbformat": 2,
  "kernelspec": {
   "name": "python3613jvsc74a57bd09fd4cc9f5c6849889bfc41643af1611b60f66354faabb4e34ca471757c77d320",
   "display_name": "Python 3.6.13 64-bit ('dgl': conda)"
  }
 },
 "nbformat": 4,
 "nbformat_minor": 2,
 "cells": [
  {
   "cell_type": "code",
   "execution_count": 1,
   "metadata": {},
   "outputs": [
    {
     "output_type": "execute_result",
     "data": {
      "text/plain": [
       "            mapbegin  mapbeginlon  mapbeginlat  mapbeginlon.1  mapbeginlat.1  \\\n",
       "0     民族大道光谷广场-公交站路东   114.386925    30.500459     114.398925      30.504459   \n",
       "1     民族大道光谷广场-公交站路东   114.386925    30.500459     114.398925      30.504459   \n",
       "2     民族大道光谷广场-公交站路东   114.386925    30.500459     114.398925      30.504459   \n",
       "3  纸坊|金逸影城(九全嘉国际广场店)   114.317790    30.354540     114.329790      30.358540   \n",
       "4        纸坊|美味传奇农家菜馆   114.306421    30.348027     114.318421      30.352027   \n",
       "\n",
       "      mapend   mapendlon  mapendlat  mapendlon.1  mapendlat.1  打车次数  \n",
       "0  光谷|曙光星城B区  114.391000  30.482508   114.403000    30.486508   174  \n",
       "1       光谷天地  114.397825  30.473273   114.409825    30.477273   158  \n",
       "2    光谷|丽顿酒店  114.410591  30.497201   114.422591    30.501201   145  \n",
       "3   纸坊|江夏体育馆  114.303393  30.349184   114.315393    30.353184   142  \n",
       "4  江夏区第一人民医院  114.308387  30.367964   114.320387    30.371964   140  "
      ],
      "text/html": "<div>\n<style scoped>\n    .dataframe tbody tr th:only-of-type {\n        vertical-align: middle;\n    }\n\n    .dataframe tbody tr th {\n        vertical-align: top;\n    }\n\n    .dataframe thead th {\n        text-align: right;\n    }\n</style>\n<table border=\"1\" class=\"dataframe\">\n  <thead>\n    <tr style=\"text-align: right;\">\n      <th></th>\n      <th>mapbegin</th>\n      <th>mapbeginlon</th>\n      <th>mapbeginlat</th>\n      <th>mapbeginlon.1</th>\n      <th>mapbeginlat.1</th>\n      <th>mapend</th>\n      <th>mapendlon</th>\n      <th>mapendlat</th>\n      <th>mapendlon.1</th>\n      <th>mapendlat.1</th>\n      <th>打车次数</th>\n    </tr>\n  </thead>\n  <tbody>\n    <tr>\n      <th>0</th>\n      <td>民族大道光谷广场-公交站路东</td>\n      <td>114.386925</td>\n      <td>30.500459</td>\n      <td>114.398925</td>\n      <td>30.504459</td>\n      <td>光谷|曙光星城B区</td>\n      <td>114.391000</td>\n      <td>30.482508</td>\n      <td>114.403000</td>\n      <td>30.486508</td>\n      <td>174</td>\n    </tr>\n    <tr>\n      <th>1</th>\n      <td>民族大道光谷广场-公交站路东</td>\n      <td>114.386925</td>\n      <td>30.500459</td>\n      <td>114.398925</td>\n      <td>30.504459</td>\n      <td>光谷天地</td>\n      <td>114.397825</td>\n      <td>30.473273</td>\n      <td>114.409825</td>\n      <td>30.477273</td>\n      <td>158</td>\n    </tr>\n    <tr>\n      <th>2</th>\n      <td>民族大道光谷广场-公交站路东</td>\n      <td>114.386925</td>\n      <td>30.500459</td>\n      <td>114.398925</td>\n      <td>30.504459</td>\n      <td>光谷|丽顿酒店</td>\n      <td>114.410591</td>\n      <td>30.497201</td>\n      <td>114.422591</td>\n      <td>30.501201</td>\n      <td>145</td>\n    </tr>\n    <tr>\n      <th>3</th>\n      <td>纸坊|金逸影城(九全嘉国际广场店)</td>\n      <td>114.317790</td>\n      <td>30.354540</td>\n      <td>114.329790</td>\n      <td>30.358540</td>\n      <td>纸坊|江夏体育馆</td>\n      <td>114.303393</td>\n      <td>30.349184</td>\n      <td>114.315393</td>\n      <td>30.353184</td>\n      <td>142</td>\n    </tr>\n    <tr>\n      <th>4</th>\n      <td>纸坊|美味传奇农家菜馆</td>\n      <td>114.306421</td>\n      <td>30.348027</td>\n      <td>114.318421</td>\n      <td>30.352027</td>\n      <td>江夏区第一人民医院</td>\n      <td>114.308387</td>\n      <td>30.367964</td>\n      <td>114.320387</td>\n      <td>30.371964</td>\n      <td>140</td>\n    </tr>\n  </tbody>\n</table>\n</div>"
     },
     "metadata": {},
     "execution_count": 1
    }
   ],
   "source": [
    "import pandas as pd\n",
    "df = pd.read_excel(\"../武汉打车.xlsx\", engine = \"openpyxl\")\n",
    "df.head()"
   ]
  },
  {
   "cell_type": "code",
   "execution_count": 2,
   "metadata": {},
   "outputs": [
    {
     "output_type": "execute_result",
     "data": {
      "text/plain": [
       "               mapbegin  mapbeginlon  mapbeginlat  mapbeginlon.1  \\\n",
       "0        民族大道光谷广场-公交站路东   114.386925    30.500459     114.398925   \n",
       "1        民族大道光谷广场-公交站路东   114.386925    30.500459     114.398925   \n",
       "2        民族大道光谷广场-公交站路东   114.386925    30.500459     114.398925   \n",
       "3     纸坊|金逸影城(九全嘉国际广场店)   114.317790    30.354540     114.329790   \n",
       "4           纸坊|美味传奇农家菜馆   114.306421    30.348027     114.318421   \n",
       "...                 ...          ...          ...            ...   \n",
       "8351      卓刀泉南路|湖北省肿瘤医院   114.352560    30.496416     114.364560   \n",
       "8352      卓刀泉南路|湖北省肿瘤医院   114.352560    30.496416     114.364560   \n",
       "8353      卓刀泉南路|湖北省肿瘤医院   114.352560    30.496416     114.364560   \n",
       "8354         宗关站B出口(武汉)   114.214448    30.576712     114.226448   \n",
       "8355         宗关站B出口(武汉)   114.214448    30.576712     114.226448   \n",
       "\n",
       "      mapbeginlat.1          mapend   mapendlon  mapendlat  mapendlon.1  \\\n",
       "0         30.504459       光谷|曙光星城B区  114.391000  30.482508   114.403000   \n",
       "1         30.504459            光谷天地  114.397825  30.473273   114.409825   \n",
       "2         30.504459         光谷|丽顿酒店  114.410591  30.497201   114.422591   \n",
       "3         30.358540        纸坊|江夏体育馆  114.303393  30.349184   114.315393   \n",
       "4         30.352027       江夏区第一人民医院  114.308387  30.367964   114.320387   \n",
       "...             ...             ...         ...        ...          ...   \n",
       "8351      30.500416       洪山区|保利蓝海郡  114.362493  30.489645   114.374493   \n",
       "8352      30.500416   珞南|南国大家装(江南店)  114.338649  30.508854   114.350649   \n",
       "8353      30.500416       武昌火车站|武昌站  114.304895  30.525332   114.316895   \n",
       "8354      30.580712  江汉路步行商业街(江汉四路)  114.276795  30.580114   114.288795   \n",
       "8355      30.580712         陶家岭-地铁站  114.189471  30.542069   114.201471   \n",
       "\n",
       "      mapendlat.1  No.  \n",
       "0       30.486508  174  \n",
       "1       30.477273  158  \n",
       "2       30.501201  145  \n",
       "3       30.353184  142  \n",
       "4       30.371964  140  \n",
       "...           ...  ...  \n",
       "8351    30.493645    5  \n",
       "8352    30.512854    5  \n",
       "8353    30.529332    5  \n",
       "8354    30.584114    5  \n",
       "8355    30.546069    5  \n",
       "\n",
       "[8356 rows x 11 columns]"
      ],
      "text/html": "<div>\n<style scoped>\n    .dataframe tbody tr th:only-of-type {\n        vertical-align: middle;\n    }\n\n    .dataframe tbody tr th {\n        vertical-align: top;\n    }\n\n    .dataframe thead th {\n        text-align: right;\n    }\n</style>\n<table border=\"1\" class=\"dataframe\">\n  <thead>\n    <tr style=\"text-align: right;\">\n      <th></th>\n      <th>mapbegin</th>\n      <th>mapbeginlon</th>\n      <th>mapbeginlat</th>\n      <th>mapbeginlon.1</th>\n      <th>mapbeginlat.1</th>\n      <th>mapend</th>\n      <th>mapendlon</th>\n      <th>mapendlat</th>\n      <th>mapendlon.1</th>\n      <th>mapendlat.1</th>\n      <th>No.</th>\n    </tr>\n  </thead>\n  <tbody>\n    <tr>\n      <th>0</th>\n      <td>民族大道光谷广场-公交站路东</td>\n      <td>114.386925</td>\n      <td>30.500459</td>\n      <td>114.398925</td>\n      <td>30.504459</td>\n      <td>光谷|曙光星城B区</td>\n      <td>114.391000</td>\n      <td>30.482508</td>\n      <td>114.403000</td>\n      <td>30.486508</td>\n      <td>174</td>\n    </tr>\n    <tr>\n      <th>1</th>\n      <td>民族大道光谷广场-公交站路东</td>\n      <td>114.386925</td>\n      <td>30.500459</td>\n      <td>114.398925</td>\n      <td>30.504459</td>\n      <td>光谷天地</td>\n      <td>114.397825</td>\n      <td>30.473273</td>\n      <td>114.409825</td>\n      <td>30.477273</td>\n      <td>158</td>\n    </tr>\n    <tr>\n      <th>2</th>\n      <td>民族大道光谷广场-公交站路东</td>\n      <td>114.386925</td>\n      <td>30.500459</td>\n      <td>114.398925</td>\n      <td>30.504459</td>\n      <td>光谷|丽顿酒店</td>\n      <td>114.410591</td>\n      <td>30.497201</td>\n      <td>114.422591</td>\n      <td>30.501201</td>\n      <td>145</td>\n    </tr>\n    <tr>\n      <th>3</th>\n      <td>纸坊|金逸影城(九全嘉国际广场店)</td>\n      <td>114.317790</td>\n      <td>30.354540</td>\n      <td>114.329790</td>\n      <td>30.358540</td>\n      <td>纸坊|江夏体育馆</td>\n      <td>114.303393</td>\n      <td>30.349184</td>\n      <td>114.315393</td>\n      <td>30.353184</td>\n      <td>142</td>\n    </tr>\n    <tr>\n      <th>4</th>\n      <td>纸坊|美味传奇农家菜馆</td>\n      <td>114.306421</td>\n      <td>30.348027</td>\n      <td>114.318421</td>\n      <td>30.352027</td>\n      <td>江夏区第一人民医院</td>\n      <td>114.308387</td>\n      <td>30.367964</td>\n      <td>114.320387</td>\n      <td>30.371964</td>\n      <td>140</td>\n    </tr>\n    <tr>\n      <th>...</th>\n      <td>...</td>\n      <td>...</td>\n      <td>...</td>\n      <td>...</td>\n      <td>...</td>\n      <td>...</td>\n      <td>...</td>\n      <td>...</td>\n      <td>...</td>\n      <td>...</td>\n      <td>...</td>\n    </tr>\n    <tr>\n      <th>8351</th>\n      <td>卓刀泉南路|湖北省肿瘤医院</td>\n      <td>114.352560</td>\n      <td>30.496416</td>\n      <td>114.364560</td>\n      <td>30.500416</td>\n      <td>洪山区|保利蓝海郡</td>\n      <td>114.362493</td>\n      <td>30.489645</td>\n      <td>114.374493</td>\n      <td>30.493645</td>\n      <td>5</td>\n    </tr>\n    <tr>\n      <th>8352</th>\n      <td>卓刀泉南路|湖北省肿瘤医院</td>\n      <td>114.352560</td>\n      <td>30.496416</td>\n      <td>114.364560</td>\n      <td>30.500416</td>\n      <td>珞南|南国大家装(江南店)</td>\n      <td>114.338649</td>\n      <td>30.508854</td>\n      <td>114.350649</td>\n      <td>30.512854</td>\n      <td>5</td>\n    </tr>\n    <tr>\n      <th>8353</th>\n      <td>卓刀泉南路|湖北省肿瘤医院</td>\n      <td>114.352560</td>\n      <td>30.496416</td>\n      <td>114.364560</td>\n      <td>30.500416</td>\n      <td>武昌火车站|武昌站</td>\n      <td>114.304895</td>\n      <td>30.525332</td>\n      <td>114.316895</td>\n      <td>30.529332</td>\n      <td>5</td>\n    </tr>\n    <tr>\n      <th>8354</th>\n      <td>宗关站B出口(武汉)</td>\n      <td>114.214448</td>\n      <td>30.576712</td>\n      <td>114.226448</td>\n      <td>30.580712</td>\n      <td>江汉路步行商业街(江汉四路)</td>\n      <td>114.276795</td>\n      <td>30.580114</td>\n      <td>114.288795</td>\n      <td>30.584114</td>\n      <td>5</td>\n    </tr>\n    <tr>\n      <th>8355</th>\n      <td>宗关站B出口(武汉)</td>\n      <td>114.214448</td>\n      <td>30.576712</td>\n      <td>114.226448</td>\n      <td>30.580712</td>\n      <td>陶家岭-地铁站</td>\n      <td>114.189471</td>\n      <td>30.542069</td>\n      <td>114.201471</td>\n      <td>30.546069</td>\n      <td>5</td>\n    </tr>\n  </tbody>\n</table>\n<p>8356 rows × 11 columns</p>\n</div>"
     },
     "metadata": {},
     "execution_count": 2
    }
   ],
   "source": [
    "df.rename(columns = {\"打车次数\": \"No.\"})"
   ]
  },
  {
   "cell_type": "code",
   "execution_count": 3,
   "metadata": {},
   "outputs": [
    {
     "output_type": "execute_result",
     "data": {
      "text/plain": [
       "               mapbegin  mapbeginlon  mapbeginlat  mapbeginlon.1  \\\n",
       "0        民族大道光谷广场-公交站路东   114.386925    30.500459     114.398925   \n",
       "1        民族大道光谷广场-公交站路东   114.386925    30.500459     114.398925   \n",
       "2        民族大道光谷广场-公交站路东   114.386925    30.500459     114.398925   \n",
       "3     纸坊|金逸影城(九全嘉国际广场店)   114.317790    30.354540     114.329790   \n",
       "4           纸坊|美味传奇农家菜馆   114.306421    30.348027     114.318421   \n",
       "...                 ...          ...          ...            ...   \n",
       "8351      卓刀泉南路|湖北省肿瘤医院   114.352560    30.496416     114.364560   \n",
       "8352      卓刀泉南路|湖北省肿瘤医院   114.352560    30.496416     114.364560   \n",
       "8353      卓刀泉南路|湖北省肿瘤医院   114.352560    30.496416     114.364560   \n",
       "8354         宗关站B出口(武汉)   114.214448    30.576712     114.226448   \n",
       "8355         宗关站B出口(武汉)   114.214448    30.576712     114.226448   \n",
       "\n",
       "      mapbeginlat.1          mapend   mapendlon  mapendlat  mapendlon.1  \\\n",
       "0         30.504459       光谷|曙光星城B区  114.391000  30.482508   114.403000   \n",
       "1         30.504459            光谷天地  114.397825  30.473273   114.409825   \n",
       "2         30.504459         光谷|丽顿酒店  114.410591  30.497201   114.422591   \n",
       "3         30.358540        纸坊|江夏体育馆  114.303393  30.349184   114.315393   \n",
       "4         30.352027       江夏区第一人民医院  114.308387  30.367964   114.320387   \n",
       "...             ...             ...         ...        ...          ...   \n",
       "8351      30.500416       洪山区|保利蓝海郡  114.362493  30.489645   114.374493   \n",
       "8352      30.500416   珞南|南国大家装(江南店)  114.338649  30.508854   114.350649   \n",
       "8353      30.500416       武昌火车站|武昌站  114.304895  30.525332   114.316895   \n",
       "8354      30.580712  江汉路步行商业街(江汉四路)  114.276795  30.580114   114.288795   \n",
       "8355      30.580712         陶家岭-地铁站  114.189471  30.542069   114.201471   \n",
       "\n",
       "      mapendlat.1  打车次数  \n",
       "0       30.486508   174  \n",
       "1       30.477273   158  \n",
       "2       30.501201   145  \n",
       "3       30.353184   142  \n",
       "4       30.371964   140  \n",
       "...           ...   ...  \n",
       "8351    30.493645     5  \n",
       "8352    30.512854     5  \n",
       "8353    30.529332     5  \n",
       "8354    30.584114     5  \n",
       "8355    30.546069     5  \n",
       "\n",
       "[8356 rows x 11 columns]"
      ],
      "text/html": "<div>\n<style scoped>\n    .dataframe tbody tr th:only-of-type {\n        vertical-align: middle;\n    }\n\n    .dataframe tbody tr th {\n        vertical-align: top;\n    }\n\n    .dataframe thead th {\n        text-align: right;\n    }\n</style>\n<table border=\"1\" class=\"dataframe\">\n  <thead>\n    <tr style=\"text-align: right;\">\n      <th></th>\n      <th>mapbegin</th>\n      <th>mapbeginlon</th>\n      <th>mapbeginlat</th>\n      <th>mapbeginlon.1</th>\n      <th>mapbeginlat.1</th>\n      <th>mapend</th>\n      <th>mapendlon</th>\n      <th>mapendlat</th>\n      <th>mapendlon.1</th>\n      <th>mapendlat.1</th>\n      <th>打车次数</th>\n    </tr>\n  </thead>\n  <tbody>\n    <tr>\n      <th>0</th>\n      <td>民族大道光谷广场-公交站路东</td>\n      <td>114.386925</td>\n      <td>30.500459</td>\n      <td>114.398925</td>\n      <td>30.504459</td>\n      <td>光谷|曙光星城B区</td>\n      <td>114.391000</td>\n      <td>30.482508</td>\n      <td>114.403000</td>\n      <td>30.486508</td>\n      <td>174</td>\n    </tr>\n    <tr>\n      <th>1</th>\n      <td>民族大道光谷广场-公交站路东</td>\n      <td>114.386925</td>\n      <td>30.500459</td>\n      <td>114.398925</td>\n      <td>30.504459</td>\n      <td>光谷天地</td>\n      <td>114.397825</td>\n      <td>30.473273</td>\n      <td>114.409825</td>\n      <td>30.477273</td>\n      <td>158</td>\n    </tr>\n    <tr>\n      <th>2</th>\n      <td>民族大道光谷广场-公交站路东</td>\n      <td>114.386925</td>\n      <td>30.500459</td>\n      <td>114.398925</td>\n      <td>30.504459</td>\n      <td>光谷|丽顿酒店</td>\n      <td>114.410591</td>\n      <td>30.497201</td>\n      <td>114.422591</td>\n      <td>30.501201</td>\n      <td>145</td>\n    </tr>\n    <tr>\n      <th>3</th>\n      <td>纸坊|金逸影城(九全嘉国际广场店)</td>\n      <td>114.317790</td>\n      <td>30.354540</td>\n      <td>114.329790</td>\n      <td>30.358540</td>\n      <td>纸坊|江夏体育馆</td>\n      <td>114.303393</td>\n      <td>30.349184</td>\n      <td>114.315393</td>\n      <td>30.353184</td>\n      <td>142</td>\n    </tr>\n    <tr>\n      <th>4</th>\n      <td>纸坊|美味传奇农家菜馆</td>\n      <td>114.306421</td>\n      <td>30.348027</td>\n      <td>114.318421</td>\n      <td>30.352027</td>\n      <td>江夏区第一人民医院</td>\n      <td>114.308387</td>\n      <td>30.367964</td>\n      <td>114.320387</td>\n      <td>30.371964</td>\n      <td>140</td>\n    </tr>\n    <tr>\n      <th>...</th>\n      <td>...</td>\n      <td>...</td>\n      <td>...</td>\n      <td>...</td>\n      <td>...</td>\n      <td>...</td>\n      <td>...</td>\n      <td>...</td>\n      <td>...</td>\n      <td>...</td>\n      <td>...</td>\n    </tr>\n    <tr>\n      <th>8351</th>\n      <td>卓刀泉南路|湖北省肿瘤医院</td>\n      <td>114.352560</td>\n      <td>30.496416</td>\n      <td>114.364560</td>\n      <td>30.500416</td>\n      <td>洪山区|保利蓝海郡</td>\n      <td>114.362493</td>\n      <td>30.489645</td>\n      <td>114.374493</td>\n      <td>30.493645</td>\n      <td>5</td>\n    </tr>\n    <tr>\n      <th>8352</th>\n      <td>卓刀泉南路|湖北省肿瘤医院</td>\n      <td>114.352560</td>\n      <td>30.496416</td>\n      <td>114.364560</td>\n      <td>30.500416</td>\n      <td>珞南|南国大家装(江南店)</td>\n      <td>114.338649</td>\n      <td>30.508854</td>\n      <td>114.350649</td>\n      <td>30.512854</td>\n      <td>5</td>\n    </tr>\n    <tr>\n      <th>8353</th>\n      <td>卓刀泉南路|湖北省肿瘤医院</td>\n      <td>114.352560</td>\n      <td>30.496416</td>\n      <td>114.364560</td>\n      <td>30.500416</td>\n      <td>武昌火车站|武昌站</td>\n      <td>114.304895</td>\n      <td>30.525332</td>\n      <td>114.316895</td>\n      <td>30.529332</td>\n      <td>5</td>\n    </tr>\n    <tr>\n      <th>8354</th>\n      <td>宗关站B出口(武汉)</td>\n      <td>114.214448</td>\n      <td>30.576712</td>\n      <td>114.226448</td>\n      <td>30.580712</td>\n      <td>江汉路步行商业街(江汉四路)</td>\n      <td>114.276795</td>\n      <td>30.580114</td>\n      <td>114.288795</td>\n      <td>30.584114</td>\n      <td>5</td>\n    </tr>\n    <tr>\n      <th>8355</th>\n      <td>宗关站B出口(武汉)</td>\n      <td>114.214448</td>\n      <td>30.576712</td>\n      <td>114.226448</td>\n      <td>30.580712</td>\n      <td>陶家岭-地铁站</td>\n      <td>114.189471</td>\n      <td>30.542069</td>\n      <td>114.201471</td>\n      <td>30.546069</td>\n      <td>5</td>\n    </tr>\n  </tbody>\n</table>\n<p>8356 rows × 11 columns</p>\n</div>"
     },
     "metadata": {},
     "execution_count": 3
    }
   ],
   "source": [
    "df"
   ]
  },
  {
   "cell_type": "code",
   "execution_count": 6,
   "metadata": {},
   "outputs": [],
   "source": [
    "df = df.rename(columns = {\"打车次数\": \"No.\"})"
   ]
  },
  {
   "cell_type": "code",
   "execution_count": 7,
   "metadata": {},
   "outputs": [
    {
     "output_type": "execute_result",
     "data": {
      "text/plain": [
       "               mapbegin  mapbeginlon  mapbeginlat  mapbeginlon.1  \\\n",
       "0        民族大道光谷广场-公交站路东   114.386925    30.500459     114.398925   \n",
       "1        民族大道光谷广场-公交站路东   114.386925    30.500459     114.398925   \n",
       "2        民族大道光谷广场-公交站路东   114.386925    30.500459     114.398925   \n",
       "3     纸坊|金逸影城(九全嘉国际广场店)   114.317790    30.354540     114.329790   \n",
       "4           纸坊|美味传奇农家菜馆   114.306421    30.348027     114.318421   \n",
       "...                 ...          ...          ...            ...   \n",
       "8351      卓刀泉南路|湖北省肿瘤医院   114.352560    30.496416     114.364560   \n",
       "8352      卓刀泉南路|湖北省肿瘤医院   114.352560    30.496416     114.364560   \n",
       "8353      卓刀泉南路|湖北省肿瘤医院   114.352560    30.496416     114.364560   \n",
       "8354         宗关站B出口(武汉)   114.214448    30.576712     114.226448   \n",
       "8355         宗关站B出口(武汉)   114.214448    30.576712     114.226448   \n",
       "\n",
       "      mapbeginlat.1          mapend   mapendlon  mapendlat  mapendlon.1  \\\n",
       "0         30.504459       光谷|曙光星城B区  114.391000  30.482508   114.403000   \n",
       "1         30.504459            光谷天地  114.397825  30.473273   114.409825   \n",
       "2         30.504459         光谷|丽顿酒店  114.410591  30.497201   114.422591   \n",
       "3         30.358540        纸坊|江夏体育馆  114.303393  30.349184   114.315393   \n",
       "4         30.352027       江夏区第一人民医院  114.308387  30.367964   114.320387   \n",
       "...             ...             ...         ...        ...          ...   \n",
       "8351      30.500416       洪山区|保利蓝海郡  114.362493  30.489645   114.374493   \n",
       "8352      30.500416   珞南|南国大家装(江南店)  114.338649  30.508854   114.350649   \n",
       "8353      30.500416       武昌火车站|武昌站  114.304895  30.525332   114.316895   \n",
       "8354      30.580712  江汉路步行商业街(江汉四路)  114.276795  30.580114   114.288795   \n",
       "8355      30.580712         陶家岭-地铁站  114.189471  30.542069   114.201471   \n",
       "\n",
       "      mapendlat.1  No.  \n",
       "0       30.486508  174  \n",
       "1       30.477273  158  \n",
       "2       30.501201  145  \n",
       "3       30.353184  142  \n",
       "4       30.371964  140  \n",
       "...           ...  ...  \n",
       "8351    30.493645    5  \n",
       "8352    30.512854    5  \n",
       "8353    30.529332    5  \n",
       "8354    30.584114    5  \n",
       "8355    30.546069    5  \n",
       "\n",
       "[8356 rows x 11 columns]"
      ],
      "text/html": "<div>\n<style scoped>\n    .dataframe tbody tr th:only-of-type {\n        vertical-align: middle;\n    }\n\n    .dataframe tbody tr th {\n        vertical-align: top;\n    }\n\n    .dataframe thead th {\n        text-align: right;\n    }\n</style>\n<table border=\"1\" class=\"dataframe\">\n  <thead>\n    <tr style=\"text-align: right;\">\n      <th></th>\n      <th>mapbegin</th>\n      <th>mapbeginlon</th>\n      <th>mapbeginlat</th>\n      <th>mapbeginlon.1</th>\n      <th>mapbeginlat.1</th>\n      <th>mapend</th>\n      <th>mapendlon</th>\n      <th>mapendlat</th>\n      <th>mapendlon.1</th>\n      <th>mapendlat.1</th>\n      <th>No.</th>\n    </tr>\n  </thead>\n  <tbody>\n    <tr>\n      <th>0</th>\n      <td>民族大道光谷广场-公交站路东</td>\n      <td>114.386925</td>\n      <td>30.500459</td>\n      <td>114.398925</td>\n      <td>30.504459</td>\n      <td>光谷|曙光星城B区</td>\n      <td>114.391000</td>\n      <td>30.482508</td>\n      <td>114.403000</td>\n      <td>30.486508</td>\n      <td>174</td>\n    </tr>\n    <tr>\n      <th>1</th>\n      <td>民族大道光谷广场-公交站路东</td>\n      <td>114.386925</td>\n      <td>30.500459</td>\n      <td>114.398925</td>\n      <td>30.504459</td>\n      <td>光谷天地</td>\n      <td>114.397825</td>\n      <td>30.473273</td>\n      <td>114.409825</td>\n      <td>30.477273</td>\n      <td>158</td>\n    </tr>\n    <tr>\n      <th>2</th>\n      <td>民族大道光谷广场-公交站路东</td>\n      <td>114.386925</td>\n      <td>30.500459</td>\n      <td>114.398925</td>\n      <td>30.504459</td>\n      <td>光谷|丽顿酒店</td>\n      <td>114.410591</td>\n      <td>30.497201</td>\n      <td>114.422591</td>\n      <td>30.501201</td>\n      <td>145</td>\n    </tr>\n    <tr>\n      <th>3</th>\n      <td>纸坊|金逸影城(九全嘉国际广场店)</td>\n      <td>114.317790</td>\n      <td>30.354540</td>\n      <td>114.329790</td>\n      <td>30.358540</td>\n      <td>纸坊|江夏体育馆</td>\n      <td>114.303393</td>\n      <td>30.349184</td>\n      <td>114.315393</td>\n      <td>30.353184</td>\n      <td>142</td>\n    </tr>\n    <tr>\n      <th>4</th>\n      <td>纸坊|美味传奇农家菜馆</td>\n      <td>114.306421</td>\n      <td>30.348027</td>\n      <td>114.318421</td>\n      <td>30.352027</td>\n      <td>江夏区第一人民医院</td>\n      <td>114.308387</td>\n      <td>30.367964</td>\n      <td>114.320387</td>\n      <td>30.371964</td>\n      <td>140</td>\n    </tr>\n    <tr>\n      <th>...</th>\n      <td>...</td>\n      <td>...</td>\n      <td>...</td>\n      <td>...</td>\n      <td>...</td>\n      <td>...</td>\n      <td>...</td>\n      <td>...</td>\n      <td>...</td>\n      <td>...</td>\n      <td>...</td>\n    </tr>\n    <tr>\n      <th>8351</th>\n      <td>卓刀泉南路|湖北省肿瘤医院</td>\n      <td>114.352560</td>\n      <td>30.496416</td>\n      <td>114.364560</td>\n      <td>30.500416</td>\n      <td>洪山区|保利蓝海郡</td>\n      <td>114.362493</td>\n      <td>30.489645</td>\n      <td>114.374493</td>\n      <td>30.493645</td>\n      <td>5</td>\n    </tr>\n    <tr>\n      <th>8352</th>\n      <td>卓刀泉南路|湖北省肿瘤医院</td>\n      <td>114.352560</td>\n      <td>30.496416</td>\n      <td>114.364560</td>\n      <td>30.500416</td>\n      <td>珞南|南国大家装(江南店)</td>\n      <td>114.338649</td>\n      <td>30.508854</td>\n      <td>114.350649</td>\n      <td>30.512854</td>\n      <td>5</td>\n    </tr>\n    <tr>\n      <th>8353</th>\n      <td>卓刀泉南路|湖北省肿瘤医院</td>\n      <td>114.352560</td>\n      <td>30.496416</td>\n      <td>114.364560</td>\n      <td>30.500416</td>\n      <td>武昌火车站|武昌站</td>\n      <td>114.304895</td>\n      <td>30.525332</td>\n      <td>114.316895</td>\n      <td>30.529332</td>\n      <td>5</td>\n    </tr>\n    <tr>\n      <th>8354</th>\n      <td>宗关站B出口(武汉)</td>\n      <td>114.214448</td>\n      <td>30.576712</td>\n      <td>114.226448</td>\n      <td>30.580712</td>\n      <td>江汉路步行商业街(江汉四路)</td>\n      <td>114.276795</td>\n      <td>30.580114</td>\n      <td>114.288795</td>\n      <td>30.584114</td>\n      <td>5</td>\n    </tr>\n    <tr>\n      <th>8355</th>\n      <td>宗关站B出口(武汉)</td>\n      <td>114.214448</td>\n      <td>30.576712</td>\n      <td>114.226448</td>\n      <td>30.580712</td>\n      <td>陶家岭-地铁站</td>\n      <td>114.189471</td>\n      <td>30.542069</td>\n      <td>114.201471</td>\n      <td>30.546069</td>\n      <td>5</td>\n    </tr>\n  </tbody>\n</table>\n<p>8356 rows × 11 columns</p>\n</div>"
     },
     "metadata": {},
     "execution_count": 7
    }
   ],
   "source": [
    "df"
   ]
  },
  {
   "cell_type": "code",
   "execution_count": 8,
   "metadata": {},
   "outputs": [
    {
     "output_type": "execute_result",
     "data": {
      "text/plain": [
       "               mapbegin  mapbeginlon  mapbeginlat  mapbeginlon.1  \\\n",
       "1st      民族大道光谷广场-公交站路东   114.386925    30.500459     114.398925   \n",
       "2nd      民族大道光谷广场-公交站路东   114.386925    30.500459     114.398925   \n",
       "2        民族大道光谷广场-公交站路东   114.386925    30.500459     114.398925   \n",
       "3     纸坊|金逸影城(九全嘉国际广场店)   114.317790    30.354540     114.329790   \n",
       "4           纸坊|美味传奇农家菜馆   114.306421    30.348027     114.318421   \n",
       "...                 ...          ...          ...            ...   \n",
       "8351      卓刀泉南路|湖北省肿瘤医院   114.352560    30.496416     114.364560   \n",
       "8352      卓刀泉南路|湖北省肿瘤医院   114.352560    30.496416     114.364560   \n",
       "8353      卓刀泉南路|湖北省肿瘤医院   114.352560    30.496416     114.364560   \n",
       "8354         宗关站B出口(武汉)   114.214448    30.576712     114.226448   \n",
       "8355         宗关站B出口(武汉)   114.214448    30.576712     114.226448   \n",
       "\n",
       "      mapbeginlat.1          mapend   mapendlon  mapendlat  mapendlon.1  \\\n",
       "1st       30.504459       光谷|曙光星城B区  114.391000  30.482508   114.403000   \n",
       "2nd       30.504459            光谷天地  114.397825  30.473273   114.409825   \n",
       "2         30.504459         光谷|丽顿酒店  114.410591  30.497201   114.422591   \n",
       "3         30.358540        纸坊|江夏体育馆  114.303393  30.349184   114.315393   \n",
       "4         30.352027       江夏区第一人民医院  114.308387  30.367964   114.320387   \n",
       "...             ...             ...         ...        ...          ...   \n",
       "8351      30.500416       洪山区|保利蓝海郡  114.362493  30.489645   114.374493   \n",
       "8352      30.500416   珞南|南国大家装(江南店)  114.338649  30.508854   114.350649   \n",
       "8353      30.500416       武昌火车站|武昌站  114.304895  30.525332   114.316895   \n",
       "8354      30.580712  江汉路步行商业街(江汉四路)  114.276795  30.580114   114.288795   \n",
       "8355      30.580712         陶家岭-地铁站  114.189471  30.542069   114.201471   \n",
       "\n",
       "      mapendlat.1  No.  \n",
       "1st     30.486508  174  \n",
       "2nd     30.477273  158  \n",
       "2       30.501201  145  \n",
       "3       30.353184  142  \n",
       "4       30.371964  140  \n",
       "...           ...  ...  \n",
       "8351    30.493645    5  \n",
       "8352    30.512854    5  \n",
       "8353    30.529332    5  \n",
       "8354    30.584114    5  \n",
       "8355    30.546069    5  \n",
       "\n",
       "[8356 rows x 11 columns]"
      ],
      "text/html": "<div>\n<style scoped>\n    .dataframe tbody tr th:only-of-type {\n        vertical-align: middle;\n    }\n\n    .dataframe tbody tr th {\n        vertical-align: top;\n    }\n\n    .dataframe thead th {\n        text-align: right;\n    }\n</style>\n<table border=\"1\" class=\"dataframe\">\n  <thead>\n    <tr style=\"text-align: right;\">\n      <th></th>\n      <th>mapbegin</th>\n      <th>mapbeginlon</th>\n      <th>mapbeginlat</th>\n      <th>mapbeginlon.1</th>\n      <th>mapbeginlat.1</th>\n      <th>mapend</th>\n      <th>mapendlon</th>\n      <th>mapendlat</th>\n      <th>mapendlon.1</th>\n      <th>mapendlat.1</th>\n      <th>No.</th>\n    </tr>\n  </thead>\n  <tbody>\n    <tr>\n      <th>1st</th>\n      <td>民族大道光谷广场-公交站路东</td>\n      <td>114.386925</td>\n      <td>30.500459</td>\n      <td>114.398925</td>\n      <td>30.504459</td>\n      <td>光谷|曙光星城B区</td>\n      <td>114.391000</td>\n      <td>30.482508</td>\n      <td>114.403000</td>\n      <td>30.486508</td>\n      <td>174</td>\n    </tr>\n    <tr>\n      <th>2nd</th>\n      <td>民族大道光谷广场-公交站路东</td>\n      <td>114.386925</td>\n      <td>30.500459</td>\n      <td>114.398925</td>\n      <td>30.504459</td>\n      <td>光谷天地</td>\n      <td>114.397825</td>\n      <td>30.473273</td>\n      <td>114.409825</td>\n      <td>30.477273</td>\n      <td>158</td>\n    </tr>\n    <tr>\n      <th>2</th>\n      <td>民族大道光谷广场-公交站路东</td>\n      <td>114.386925</td>\n      <td>30.500459</td>\n      <td>114.398925</td>\n      <td>30.504459</td>\n      <td>光谷|丽顿酒店</td>\n      <td>114.410591</td>\n      <td>30.497201</td>\n      <td>114.422591</td>\n      <td>30.501201</td>\n      <td>145</td>\n    </tr>\n    <tr>\n      <th>3</th>\n      <td>纸坊|金逸影城(九全嘉国际广场店)</td>\n      <td>114.317790</td>\n      <td>30.354540</td>\n      <td>114.329790</td>\n      <td>30.358540</td>\n      <td>纸坊|江夏体育馆</td>\n      <td>114.303393</td>\n      <td>30.349184</td>\n      <td>114.315393</td>\n      <td>30.353184</td>\n      <td>142</td>\n    </tr>\n    <tr>\n      <th>4</th>\n      <td>纸坊|美味传奇农家菜馆</td>\n      <td>114.306421</td>\n      <td>30.348027</td>\n      <td>114.318421</td>\n      <td>30.352027</td>\n      <td>江夏区第一人民医院</td>\n      <td>114.308387</td>\n      <td>30.367964</td>\n      <td>114.320387</td>\n      <td>30.371964</td>\n      <td>140</td>\n    </tr>\n    <tr>\n      <th>...</th>\n      <td>...</td>\n      <td>...</td>\n      <td>...</td>\n      <td>...</td>\n      <td>...</td>\n      <td>...</td>\n      <td>...</td>\n      <td>...</td>\n      <td>...</td>\n      <td>...</td>\n      <td>...</td>\n    </tr>\n    <tr>\n      <th>8351</th>\n      <td>卓刀泉南路|湖北省肿瘤医院</td>\n      <td>114.352560</td>\n      <td>30.496416</td>\n      <td>114.364560</td>\n      <td>30.500416</td>\n      <td>洪山区|保利蓝海郡</td>\n      <td>114.362493</td>\n      <td>30.489645</td>\n      <td>114.374493</td>\n      <td>30.493645</td>\n      <td>5</td>\n    </tr>\n    <tr>\n      <th>8352</th>\n      <td>卓刀泉南路|湖北省肿瘤医院</td>\n      <td>114.352560</td>\n      <td>30.496416</td>\n      <td>114.364560</td>\n      <td>30.500416</td>\n      <td>珞南|南国大家装(江南店)</td>\n      <td>114.338649</td>\n      <td>30.508854</td>\n      <td>114.350649</td>\n      <td>30.512854</td>\n      <td>5</td>\n    </tr>\n    <tr>\n      <th>8353</th>\n      <td>卓刀泉南路|湖北省肿瘤医院</td>\n      <td>114.352560</td>\n      <td>30.496416</td>\n      <td>114.364560</td>\n      <td>30.500416</td>\n      <td>武昌火车站|武昌站</td>\n      <td>114.304895</td>\n      <td>30.525332</td>\n      <td>114.316895</td>\n      <td>30.529332</td>\n      <td>5</td>\n    </tr>\n    <tr>\n      <th>8354</th>\n      <td>宗关站B出口(武汉)</td>\n      <td>114.214448</td>\n      <td>30.576712</td>\n      <td>114.226448</td>\n      <td>30.580712</td>\n      <td>江汉路步行商业街(江汉四路)</td>\n      <td>114.276795</td>\n      <td>30.580114</td>\n      <td>114.288795</td>\n      <td>30.584114</td>\n      <td>5</td>\n    </tr>\n    <tr>\n      <th>8355</th>\n      <td>宗关站B出口(武汉)</td>\n      <td>114.214448</td>\n      <td>30.576712</td>\n      <td>114.226448</td>\n      <td>30.580712</td>\n      <td>陶家岭-地铁站</td>\n      <td>114.189471</td>\n      <td>30.542069</td>\n      <td>114.201471</td>\n      <td>30.546069</td>\n      <td>5</td>\n    </tr>\n  </tbody>\n</table>\n<p>8356 rows × 11 columns</p>\n</div>"
     },
     "metadata": {},
     "execution_count": 8
    }
   ],
   "source": [
    "df.rename(index = {0: \"1st\", 1: \"2nd\"})"
   ]
  },
  {
   "cell_type": "code",
   "execution_count": 9,
   "metadata": {},
   "outputs": [
    {
     "output_type": "execute_result",
     "data": {
      "text/plain": [
       "fields            mapbegin  mapbeginlon  mapbeginlat  mapbeginlon.1  \\\n",
       "records                                                               \n",
       "0           民族大道光谷广场-公交站路东   114.386925    30.500459     114.398925   \n",
       "1           民族大道光谷广场-公交站路东   114.386925    30.500459     114.398925   \n",
       "2           民族大道光谷广场-公交站路东   114.386925    30.500459     114.398925   \n",
       "3        纸坊|金逸影城(九全嘉国际广场店)   114.317790    30.354540     114.329790   \n",
       "4              纸坊|美味传奇农家菜馆   114.306421    30.348027     114.318421   \n",
       "...                    ...          ...          ...            ...   \n",
       "8351         卓刀泉南路|湖北省肿瘤医院   114.352560    30.496416     114.364560   \n",
       "8352         卓刀泉南路|湖北省肿瘤医院   114.352560    30.496416     114.364560   \n",
       "8353         卓刀泉南路|湖北省肿瘤医院   114.352560    30.496416     114.364560   \n",
       "8354            宗关站B出口(武汉)   114.214448    30.576712     114.226448   \n",
       "8355            宗关站B出口(武汉)   114.214448    30.576712     114.226448   \n",
       "\n",
       "fields   mapbeginlat.1          mapend   mapendlon  mapendlat  mapendlon.1  \\\n",
       "records                                                                      \n",
       "0            30.504459       光谷|曙光星城B区  114.391000  30.482508   114.403000   \n",
       "1            30.504459            光谷天地  114.397825  30.473273   114.409825   \n",
       "2            30.504459         光谷|丽顿酒店  114.410591  30.497201   114.422591   \n",
       "3            30.358540        纸坊|江夏体育馆  114.303393  30.349184   114.315393   \n",
       "4            30.352027       江夏区第一人民医院  114.308387  30.367964   114.320387   \n",
       "...                ...             ...         ...        ...          ...   \n",
       "8351         30.500416       洪山区|保利蓝海郡  114.362493  30.489645   114.374493   \n",
       "8352         30.500416   珞南|南国大家装(江南店)  114.338649  30.508854   114.350649   \n",
       "8353         30.500416       武昌火车站|武昌站  114.304895  30.525332   114.316895   \n",
       "8354         30.580712  江汉路步行商业街(江汉四路)  114.276795  30.580114   114.288795   \n",
       "8355         30.580712         陶家岭-地铁站  114.189471  30.542069   114.201471   \n",
       "\n",
       "fields   mapendlat.1  No.  \n",
       "records                    \n",
       "0          30.486508  174  \n",
       "1          30.477273  158  \n",
       "2          30.501201  145  \n",
       "3          30.353184  142  \n",
       "4          30.371964  140  \n",
       "...              ...  ...  \n",
       "8351       30.493645    5  \n",
       "8352       30.512854    5  \n",
       "8353       30.529332    5  \n",
       "8354       30.584114    5  \n",
       "8355       30.546069    5  \n",
       "\n",
       "[8356 rows x 11 columns]"
      ],
      "text/html": "<div>\n<style scoped>\n    .dataframe tbody tr th:only-of-type {\n        vertical-align: middle;\n    }\n\n    .dataframe tbody tr th {\n        vertical-align: top;\n    }\n\n    .dataframe thead th {\n        text-align: right;\n    }\n</style>\n<table border=\"1\" class=\"dataframe\">\n  <thead>\n    <tr style=\"text-align: right;\">\n      <th>fields</th>\n      <th>mapbegin</th>\n      <th>mapbeginlon</th>\n      <th>mapbeginlat</th>\n      <th>mapbeginlon.1</th>\n      <th>mapbeginlat.1</th>\n      <th>mapend</th>\n      <th>mapendlon</th>\n      <th>mapendlat</th>\n      <th>mapendlon.1</th>\n      <th>mapendlat.1</th>\n      <th>No.</th>\n    </tr>\n    <tr>\n      <th>records</th>\n      <th></th>\n      <th></th>\n      <th></th>\n      <th></th>\n      <th></th>\n      <th></th>\n      <th></th>\n      <th></th>\n      <th></th>\n      <th></th>\n      <th></th>\n    </tr>\n  </thead>\n  <tbody>\n    <tr>\n      <th>0</th>\n      <td>民族大道光谷广场-公交站路东</td>\n      <td>114.386925</td>\n      <td>30.500459</td>\n      <td>114.398925</td>\n      <td>30.504459</td>\n      <td>光谷|曙光星城B区</td>\n      <td>114.391000</td>\n      <td>30.482508</td>\n      <td>114.403000</td>\n      <td>30.486508</td>\n      <td>174</td>\n    </tr>\n    <tr>\n      <th>1</th>\n      <td>民族大道光谷广场-公交站路东</td>\n      <td>114.386925</td>\n      <td>30.500459</td>\n      <td>114.398925</td>\n      <td>30.504459</td>\n      <td>光谷天地</td>\n      <td>114.397825</td>\n      <td>30.473273</td>\n      <td>114.409825</td>\n      <td>30.477273</td>\n      <td>158</td>\n    </tr>\n    <tr>\n      <th>2</th>\n      <td>民族大道光谷广场-公交站路东</td>\n      <td>114.386925</td>\n      <td>30.500459</td>\n      <td>114.398925</td>\n      <td>30.504459</td>\n      <td>光谷|丽顿酒店</td>\n      <td>114.410591</td>\n      <td>30.497201</td>\n      <td>114.422591</td>\n      <td>30.501201</td>\n      <td>145</td>\n    </tr>\n    <tr>\n      <th>3</th>\n      <td>纸坊|金逸影城(九全嘉国际广场店)</td>\n      <td>114.317790</td>\n      <td>30.354540</td>\n      <td>114.329790</td>\n      <td>30.358540</td>\n      <td>纸坊|江夏体育馆</td>\n      <td>114.303393</td>\n      <td>30.349184</td>\n      <td>114.315393</td>\n      <td>30.353184</td>\n      <td>142</td>\n    </tr>\n    <tr>\n      <th>4</th>\n      <td>纸坊|美味传奇农家菜馆</td>\n      <td>114.306421</td>\n      <td>30.348027</td>\n      <td>114.318421</td>\n      <td>30.352027</td>\n      <td>江夏区第一人民医院</td>\n      <td>114.308387</td>\n      <td>30.367964</td>\n      <td>114.320387</td>\n      <td>30.371964</td>\n      <td>140</td>\n    </tr>\n    <tr>\n      <th>...</th>\n      <td>...</td>\n      <td>...</td>\n      <td>...</td>\n      <td>...</td>\n      <td>...</td>\n      <td>...</td>\n      <td>...</td>\n      <td>...</td>\n      <td>...</td>\n      <td>...</td>\n      <td>...</td>\n    </tr>\n    <tr>\n      <th>8351</th>\n      <td>卓刀泉南路|湖北省肿瘤医院</td>\n      <td>114.352560</td>\n      <td>30.496416</td>\n      <td>114.364560</td>\n      <td>30.500416</td>\n      <td>洪山区|保利蓝海郡</td>\n      <td>114.362493</td>\n      <td>30.489645</td>\n      <td>114.374493</td>\n      <td>30.493645</td>\n      <td>5</td>\n    </tr>\n    <tr>\n      <th>8352</th>\n      <td>卓刀泉南路|湖北省肿瘤医院</td>\n      <td>114.352560</td>\n      <td>30.496416</td>\n      <td>114.364560</td>\n      <td>30.500416</td>\n      <td>珞南|南国大家装(江南店)</td>\n      <td>114.338649</td>\n      <td>30.508854</td>\n      <td>114.350649</td>\n      <td>30.512854</td>\n      <td>5</td>\n    </tr>\n    <tr>\n      <th>8353</th>\n      <td>卓刀泉南路|湖北省肿瘤医院</td>\n      <td>114.352560</td>\n      <td>30.496416</td>\n      <td>114.364560</td>\n      <td>30.500416</td>\n      <td>武昌火车站|武昌站</td>\n      <td>114.304895</td>\n      <td>30.525332</td>\n      <td>114.316895</td>\n      <td>30.529332</td>\n      <td>5</td>\n    </tr>\n    <tr>\n      <th>8354</th>\n      <td>宗关站B出口(武汉)</td>\n      <td>114.214448</td>\n      <td>30.576712</td>\n      <td>114.226448</td>\n      <td>30.580712</td>\n      <td>江汉路步行商业街(江汉四路)</td>\n      <td>114.276795</td>\n      <td>30.580114</td>\n      <td>114.288795</td>\n      <td>30.584114</td>\n      <td>5</td>\n    </tr>\n    <tr>\n      <th>8355</th>\n      <td>宗关站B出口(武汉)</td>\n      <td>114.214448</td>\n      <td>30.576712</td>\n      <td>114.226448</td>\n      <td>30.580712</td>\n      <td>陶家岭-地铁站</td>\n      <td>114.189471</td>\n      <td>30.542069</td>\n      <td>114.201471</td>\n      <td>30.546069</td>\n      <td>5</td>\n    </tr>\n  </tbody>\n</table>\n<p>8356 rows × 11 columns</p>\n</div>"
     },
     "metadata": {},
     "execution_count": 9
    }
   ],
   "source": [
    "df.rename_axis(\"records\", axis = \"rows\").rename_axis(\"fields\", axis = \"columns\")"
   ]
  },
  {
   "cell_type": "code",
   "execution_count": 10,
   "metadata": {},
   "outputs": [
    {
     "output_type": "execute_result",
     "data": {
      "text/plain": [
       "               mapbegin  mapbeginlon  mapbeginlat  mapbeginlon.1  \\\n",
       "0        民族大道光谷广场-公交站路东   114.386925    30.500459     114.398925   \n",
       "1        民族大道光谷广场-公交站路东   114.386925    30.500459     114.398925   \n",
       "2        民族大道光谷广场-公交站路东   114.386925    30.500459     114.398925   \n",
       "3     纸坊|金逸影城(九全嘉国际广场店)   114.317790    30.354540     114.329790   \n",
       "4           纸坊|美味传奇农家菜馆   114.306421    30.348027     114.318421   \n",
       "...                 ...          ...          ...            ...   \n",
       "8351      卓刀泉南路|湖北省肿瘤医院   114.352560    30.496416     114.364560   \n",
       "8352      卓刀泉南路|湖北省肿瘤医院   114.352560    30.496416     114.364560   \n",
       "8353      卓刀泉南路|湖北省肿瘤医院   114.352560    30.496416     114.364560   \n",
       "8354         宗关站B出口(武汉)   114.214448    30.576712     114.226448   \n",
       "8355         宗关站B出口(武汉)   114.214448    30.576712     114.226448   \n",
       "\n",
       "      mapbeginlat.1          mapend   mapendlon  mapendlat  mapendlon.1  \\\n",
       "0         30.504459       光谷|曙光星城B区  114.391000  30.482508   114.403000   \n",
       "1         30.504459            光谷天地  114.397825  30.473273   114.409825   \n",
       "2         30.504459         光谷|丽顿酒店  114.410591  30.497201   114.422591   \n",
       "3         30.358540        纸坊|江夏体育馆  114.303393  30.349184   114.315393   \n",
       "4         30.352027       江夏区第一人民医院  114.308387  30.367964   114.320387   \n",
       "...             ...             ...         ...        ...          ...   \n",
       "8351      30.500416       洪山区|保利蓝海郡  114.362493  30.489645   114.374493   \n",
       "8352      30.500416   珞南|南国大家装(江南店)  114.338649  30.508854   114.350649   \n",
       "8353      30.500416       武昌火车站|武昌站  114.304895  30.525332   114.316895   \n",
       "8354      30.580712  江汉路步行商业街(江汉四路)  114.276795  30.580114   114.288795   \n",
       "8355      30.580712         陶家岭-地铁站  114.189471  30.542069   114.201471   \n",
       "\n",
       "      mapendlat.1  打车次数  \n",
       "0       30.486508   174  \n",
       "1       30.477273   158  \n",
       "2       30.501201   145  \n",
       "3       30.353184   142  \n",
       "4       30.371964   140  \n",
       "...           ...   ...  \n",
       "8351    30.493645     5  \n",
       "8352    30.512854     5  \n",
       "8353    30.529332     5  \n",
       "8354    30.584114     5  \n",
       "8355    30.546069     5  \n",
       "\n",
       "[16712 rows x 11 columns]"
      ],
      "text/html": "<div>\n<style scoped>\n    .dataframe tbody tr th:only-of-type {\n        vertical-align: middle;\n    }\n\n    .dataframe tbody tr th {\n        vertical-align: top;\n    }\n\n    .dataframe thead th {\n        text-align: right;\n    }\n</style>\n<table border=\"1\" class=\"dataframe\">\n  <thead>\n    <tr style=\"text-align: right;\">\n      <th></th>\n      <th>mapbegin</th>\n      <th>mapbeginlon</th>\n      <th>mapbeginlat</th>\n      <th>mapbeginlon.1</th>\n      <th>mapbeginlat.1</th>\n      <th>mapend</th>\n      <th>mapendlon</th>\n      <th>mapendlat</th>\n      <th>mapendlon.1</th>\n      <th>mapendlat.1</th>\n      <th>打车次数</th>\n    </tr>\n  </thead>\n  <tbody>\n    <tr>\n      <th>0</th>\n      <td>民族大道光谷广场-公交站路东</td>\n      <td>114.386925</td>\n      <td>30.500459</td>\n      <td>114.398925</td>\n      <td>30.504459</td>\n      <td>光谷|曙光星城B区</td>\n      <td>114.391000</td>\n      <td>30.482508</td>\n      <td>114.403000</td>\n      <td>30.486508</td>\n      <td>174</td>\n    </tr>\n    <tr>\n      <th>1</th>\n      <td>民族大道光谷广场-公交站路东</td>\n      <td>114.386925</td>\n      <td>30.500459</td>\n      <td>114.398925</td>\n      <td>30.504459</td>\n      <td>光谷天地</td>\n      <td>114.397825</td>\n      <td>30.473273</td>\n      <td>114.409825</td>\n      <td>30.477273</td>\n      <td>158</td>\n    </tr>\n    <tr>\n      <th>2</th>\n      <td>民族大道光谷广场-公交站路东</td>\n      <td>114.386925</td>\n      <td>30.500459</td>\n      <td>114.398925</td>\n      <td>30.504459</td>\n      <td>光谷|丽顿酒店</td>\n      <td>114.410591</td>\n      <td>30.497201</td>\n      <td>114.422591</td>\n      <td>30.501201</td>\n      <td>145</td>\n    </tr>\n    <tr>\n      <th>3</th>\n      <td>纸坊|金逸影城(九全嘉国际广场店)</td>\n      <td>114.317790</td>\n      <td>30.354540</td>\n      <td>114.329790</td>\n      <td>30.358540</td>\n      <td>纸坊|江夏体育馆</td>\n      <td>114.303393</td>\n      <td>30.349184</td>\n      <td>114.315393</td>\n      <td>30.353184</td>\n      <td>142</td>\n    </tr>\n    <tr>\n      <th>4</th>\n      <td>纸坊|美味传奇农家菜馆</td>\n      <td>114.306421</td>\n      <td>30.348027</td>\n      <td>114.318421</td>\n      <td>30.352027</td>\n      <td>江夏区第一人民医院</td>\n      <td>114.308387</td>\n      <td>30.367964</td>\n      <td>114.320387</td>\n      <td>30.371964</td>\n      <td>140</td>\n    </tr>\n    <tr>\n      <th>...</th>\n      <td>...</td>\n      <td>...</td>\n      <td>...</td>\n      <td>...</td>\n      <td>...</td>\n      <td>...</td>\n      <td>...</td>\n      <td>...</td>\n      <td>...</td>\n      <td>...</td>\n      <td>...</td>\n    </tr>\n    <tr>\n      <th>8351</th>\n      <td>卓刀泉南路|湖北省肿瘤医院</td>\n      <td>114.352560</td>\n      <td>30.496416</td>\n      <td>114.364560</td>\n      <td>30.500416</td>\n      <td>洪山区|保利蓝海郡</td>\n      <td>114.362493</td>\n      <td>30.489645</td>\n      <td>114.374493</td>\n      <td>30.493645</td>\n      <td>5</td>\n    </tr>\n    <tr>\n      <th>8352</th>\n      <td>卓刀泉南路|湖北省肿瘤医院</td>\n      <td>114.352560</td>\n      <td>30.496416</td>\n      <td>114.364560</td>\n      <td>30.500416</td>\n      <td>珞南|南国大家装(江南店)</td>\n      <td>114.338649</td>\n      <td>30.508854</td>\n      <td>114.350649</td>\n      <td>30.512854</td>\n      <td>5</td>\n    </tr>\n    <tr>\n      <th>8353</th>\n      <td>卓刀泉南路|湖北省肿瘤医院</td>\n      <td>114.352560</td>\n      <td>30.496416</td>\n      <td>114.364560</td>\n      <td>30.500416</td>\n      <td>武昌火车站|武昌站</td>\n      <td>114.304895</td>\n      <td>30.525332</td>\n      <td>114.316895</td>\n      <td>30.529332</td>\n      <td>5</td>\n    </tr>\n    <tr>\n      <th>8354</th>\n      <td>宗关站B出口(武汉)</td>\n      <td>114.214448</td>\n      <td>30.576712</td>\n      <td>114.226448</td>\n      <td>30.580712</td>\n      <td>江汉路步行商业街(江汉四路)</td>\n      <td>114.276795</td>\n      <td>30.580114</td>\n      <td>114.288795</td>\n      <td>30.584114</td>\n      <td>5</td>\n    </tr>\n    <tr>\n      <th>8355</th>\n      <td>宗关站B出口(武汉)</td>\n      <td>114.214448</td>\n      <td>30.576712</td>\n      <td>114.226448</td>\n      <td>30.580712</td>\n      <td>陶家岭-地铁站</td>\n      <td>114.189471</td>\n      <td>30.542069</td>\n      <td>114.201471</td>\n      <td>30.546069</td>\n      <td>5</td>\n    </tr>\n  </tbody>\n</table>\n<p>16712 rows × 11 columns</p>\n</div>"
     },
     "metadata": {},
     "execution_count": 10
    }
   ],
   "source": [
    "df1 = pd.read_excel(\"../武汉打车.xlsx\", engine = \"openpyxl\")\n",
    "df2 = pd.read_excel(\"../武汉打车.xlsx\", engine = \"openpyxl\")\n",
    "\n",
    "pd.concat([df1, df2])"
   ]
  },
  {
   "cell_type": "code",
   "execution_count": 11,
   "metadata": {},
   "outputs": [
    {
     "output_type": "execute_result",
     "data": {
      "text/plain": [
       "               mapbeginlon_1  mapbeginlat_1  mapbeginlon.1_1  mapbeginlat.1_1  \\\n",
       "mapbegin                                                                        \n",
       "V9港通酒店(天河机场店)     114.229697      30.726895       114.241697        30.730895   \n",
       "V9港通酒店(天河机场店)     114.229697      30.726895       114.241697        30.730895   \n",
       "V9港通酒店(天河机场店)     114.229697      30.726895       114.241697        30.730895   \n",
       "V9港通酒店(天河机场店)     114.229697      30.726895       114.241697        30.730895   \n",
       "V9港通酒店(天河机场店)     114.229697      30.726895       114.241697        30.730895   \n",
       "...                      ...            ...              ...              ...   \n",
       "龙鑫工业园-东门          114.096178      30.601215       114.108178        30.605215   \n",
       "龙鑫工业园-东门          114.096178      30.601215       114.108178        30.605215   \n",
       "龙鑫工业园-东门          114.096178      30.601215       114.108178        30.605215   \n",
       "龙鑫工业园-东门          114.096178      30.601215       114.108178        30.605215   \n",
       "龙鑫工业园-东门          114.096178      30.601215       114.108178        30.605215   \n",
       "\n",
       "                mapend_1  mapendlon_1  mapendlat_1  mapendlon.1_1  \\\n",
       "mapbegin                                                            \n",
       "V9港通酒店(天河机场店)   巨龙大道-地铁站   114.242530    30.707512     114.254530   \n",
       "V9港通酒店(天河机场店)   巨龙大道-地铁站   114.242530    30.707512     114.254530   \n",
       "V9港通酒店(天河机场店)   巨龙大道-地铁站   114.242530    30.707512     114.254530   \n",
       "V9港通酒店(天河机场店)   巨龙大道-地铁站   114.242530    30.707512     114.254530   \n",
       "V9港通酒店(天河机场店)   巨龙大道-地铁站   114.242530    30.707512     114.254530   \n",
       "...                  ...          ...          ...            ...   \n",
       "龙鑫工业园-东门       汉口火车站|汉口站   114.243148    30.614872     114.255148   \n",
       "龙鑫工业园-东门       汉口火车站|汉口站   114.243148    30.614872     114.255148   \n",
       "龙鑫工业园-东门       汉口火车站|汉口站   114.243148    30.614872     114.255148   \n",
       "龙鑫工业园-东门       汉口火车站|汉口站   114.243148    30.614872     114.255148   \n",
       "龙鑫工业园-东门       汉口火车站|汉口站   114.243148    30.614872     114.255148   \n",
       "\n",
       "               mapendlat.1_1  打车次数_1  mapbeginlon_2  mapbeginlat_2  \\\n",
       "mapbegin                                                             \n",
       "V9港通酒店(天河机场店)      30.711512      39     114.229697      30.726895   \n",
       "V9港通酒店(天河机场店)      30.711512      39     114.229697      30.726895   \n",
       "V9港通酒店(天河机场店)      30.711512      39     114.229697      30.726895   \n",
       "V9港通酒店(天河机场店)      30.711512      39     114.229697      30.726895   \n",
       "V9港通酒店(天河机场店)      30.711512      39     114.229697      30.726895   \n",
       "...                      ...     ...            ...            ...   \n",
       "龙鑫工业园-东门           30.618872       5     114.096178      30.601215   \n",
       "龙鑫工业园-东门           30.618872       5     114.096178      30.601215   \n",
       "龙鑫工业园-东门           30.618872       5     114.096178      30.601215   \n",
       "龙鑫工业园-东门           30.618872       5     114.096178      30.601215   \n",
       "龙鑫工业园-东门           30.618872       5     114.096178      30.601215   \n",
       "\n",
       "               mapbeginlon.1_2  mapbeginlat.1_2                  mapend_2  \\\n",
       "mapbegin                                                                    \n",
       "V9港通酒店(天河机场店)       114.241697        30.730895                  巨龙大道-地铁站   \n",
       "V9港通酒店(天河机场店)       114.241697        30.730895       黄陂区|百联奥特莱斯广场(武汉·盘龙)   \n",
       "V9港通酒店(天河机场店)       114.241697        30.730895                   宋家岗-地铁站   \n",
       "V9港通酒店(天河机场店)       114.241697        30.730895               黄陂区|佳海都市工业城   \n",
       "V9港通酒店(天河机场店)       114.241697        30.730895        黄陂区|爱帝时尚创意产业园(政工路)   \n",
       "...                        ...              ...                       ...   \n",
       "龙鑫工业园-东门            114.108178        30.605215              东西湖区|九坤·五环华城   \n",
       "龙鑫工业园-东门            114.108178        30.605215                 东西湖区|鑫城宜居   \n",
       "龙鑫工业园-东门            114.108178        30.605215                   额头湾-地铁站   \n",
       "龙鑫工业园-东门            114.108178        30.605215  东西湖区|金来亚国际酒店(武汉唐人生生医院西南)   \n",
       "龙鑫工业园-东门            114.108178        30.605215                 汉口火车站|汉口站   \n",
       "\n",
       "               mapendlon_2  mapendlat_2  mapendlon.1_2  mapendlat.1_2  打车次数_2  \n",
       "mapbegin                                                                       \n",
       "V9港通酒店(天河机场店)   114.242530    30.707512     114.254530      30.711512      39  \n",
       "V9港通酒店(天河机场店)   114.245662    30.726882     114.257662      30.730882      29  \n",
       "V9港通酒店(天河机场店)   114.225499    30.719273     114.237499      30.723273      28  \n",
       "V9港通酒店(天河机场店)   114.227868    30.728809     114.239868      30.732809      17  \n",
       "V9港通酒店(天河机场店)   114.262401    30.763942     114.274401      30.767942      17  \n",
       "...                    ...          ...            ...            ...     ...  \n",
       "龙鑫工业园-东门        114.128160    30.603980     114.140160      30.607980      13  \n",
       "龙鑫工业园-东门        114.104957    30.620043     114.116957      30.624043       5  \n",
       "龙鑫工业园-东门        114.143580    30.614828     114.155580      30.618828       5  \n",
       "龙鑫工业园-东门        114.130636    30.631158     114.142636      30.635158       5  \n",
       "龙鑫工业园-东门        114.243148    30.614872     114.255148      30.618872       5  \n",
       "\n",
       "[318530 rows x 20 columns]"
      ],
      "text/html": "<div>\n<style scoped>\n    .dataframe tbody tr th:only-of-type {\n        vertical-align: middle;\n    }\n\n    .dataframe tbody tr th {\n        vertical-align: top;\n    }\n\n    .dataframe thead th {\n        text-align: right;\n    }\n</style>\n<table border=\"1\" class=\"dataframe\">\n  <thead>\n    <tr style=\"text-align: right;\">\n      <th></th>\n      <th>mapbeginlon_1</th>\n      <th>mapbeginlat_1</th>\n      <th>mapbeginlon.1_1</th>\n      <th>mapbeginlat.1_1</th>\n      <th>mapend_1</th>\n      <th>mapendlon_1</th>\n      <th>mapendlat_1</th>\n      <th>mapendlon.1_1</th>\n      <th>mapendlat.1_1</th>\n      <th>打车次数_1</th>\n      <th>mapbeginlon_2</th>\n      <th>mapbeginlat_2</th>\n      <th>mapbeginlon.1_2</th>\n      <th>mapbeginlat.1_2</th>\n      <th>mapend_2</th>\n      <th>mapendlon_2</th>\n      <th>mapendlat_2</th>\n      <th>mapendlon.1_2</th>\n      <th>mapendlat.1_2</th>\n      <th>打车次数_2</th>\n    </tr>\n    <tr>\n      <th>mapbegin</th>\n      <th></th>\n      <th></th>\n      <th></th>\n      <th></th>\n      <th></th>\n      <th></th>\n      <th></th>\n      <th></th>\n      <th></th>\n      <th></th>\n      <th></th>\n      <th></th>\n      <th></th>\n      <th></th>\n      <th></th>\n      <th></th>\n      <th></th>\n      <th></th>\n      <th></th>\n      <th></th>\n    </tr>\n  </thead>\n  <tbody>\n    <tr>\n      <th>V9港通酒店(天河机场店)</th>\n      <td>114.229697</td>\n      <td>30.726895</td>\n      <td>114.241697</td>\n      <td>30.730895</td>\n      <td>巨龙大道-地铁站</td>\n      <td>114.242530</td>\n      <td>30.707512</td>\n      <td>114.254530</td>\n      <td>30.711512</td>\n      <td>39</td>\n      <td>114.229697</td>\n      <td>30.726895</td>\n      <td>114.241697</td>\n      <td>30.730895</td>\n      <td>巨龙大道-地铁站</td>\n      <td>114.242530</td>\n      <td>30.707512</td>\n      <td>114.254530</td>\n      <td>30.711512</td>\n      <td>39</td>\n    </tr>\n    <tr>\n      <th>V9港通酒店(天河机场店)</th>\n      <td>114.229697</td>\n      <td>30.726895</td>\n      <td>114.241697</td>\n      <td>30.730895</td>\n      <td>巨龙大道-地铁站</td>\n      <td>114.242530</td>\n      <td>30.707512</td>\n      <td>114.254530</td>\n      <td>30.711512</td>\n      <td>39</td>\n      <td>114.229697</td>\n      <td>30.726895</td>\n      <td>114.241697</td>\n      <td>30.730895</td>\n      <td>黄陂区|百联奥特莱斯广场(武汉·盘龙)</td>\n      <td>114.245662</td>\n      <td>30.726882</td>\n      <td>114.257662</td>\n      <td>30.730882</td>\n      <td>29</td>\n    </tr>\n    <tr>\n      <th>V9港通酒店(天河机场店)</th>\n      <td>114.229697</td>\n      <td>30.726895</td>\n      <td>114.241697</td>\n      <td>30.730895</td>\n      <td>巨龙大道-地铁站</td>\n      <td>114.242530</td>\n      <td>30.707512</td>\n      <td>114.254530</td>\n      <td>30.711512</td>\n      <td>39</td>\n      <td>114.229697</td>\n      <td>30.726895</td>\n      <td>114.241697</td>\n      <td>30.730895</td>\n      <td>宋家岗-地铁站</td>\n      <td>114.225499</td>\n      <td>30.719273</td>\n      <td>114.237499</td>\n      <td>30.723273</td>\n      <td>28</td>\n    </tr>\n    <tr>\n      <th>V9港通酒店(天河机场店)</th>\n      <td>114.229697</td>\n      <td>30.726895</td>\n      <td>114.241697</td>\n      <td>30.730895</td>\n      <td>巨龙大道-地铁站</td>\n      <td>114.242530</td>\n      <td>30.707512</td>\n      <td>114.254530</td>\n      <td>30.711512</td>\n      <td>39</td>\n      <td>114.229697</td>\n      <td>30.726895</td>\n      <td>114.241697</td>\n      <td>30.730895</td>\n      <td>黄陂区|佳海都市工业城</td>\n      <td>114.227868</td>\n      <td>30.728809</td>\n      <td>114.239868</td>\n      <td>30.732809</td>\n      <td>17</td>\n    </tr>\n    <tr>\n      <th>V9港通酒店(天河机场店)</th>\n      <td>114.229697</td>\n      <td>30.726895</td>\n      <td>114.241697</td>\n      <td>30.730895</td>\n      <td>巨龙大道-地铁站</td>\n      <td>114.242530</td>\n      <td>30.707512</td>\n      <td>114.254530</td>\n      <td>30.711512</td>\n      <td>39</td>\n      <td>114.229697</td>\n      <td>30.726895</td>\n      <td>114.241697</td>\n      <td>30.730895</td>\n      <td>黄陂区|爱帝时尚创意产业园(政工路)</td>\n      <td>114.262401</td>\n      <td>30.763942</td>\n      <td>114.274401</td>\n      <td>30.767942</td>\n      <td>17</td>\n    </tr>\n    <tr>\n      <th>...</th>\n      <td>...</td>\n      <td>...</td>\n      <td>...</td>\n      <td>...</td>\n      <td>...</td>\n      <td>...</td>\n      <td>...</td>\n      <td>...</td>\n      <td>...</td>\n      <td>...</td>\n      <td>...</td>\n      <td>...</td>\n      <td>...</td>\n      <td>...</td>\n      <td>...</td>\n      <td>...</td>\n      <td>...</td>\n      <td>...</td>\n      <td>...</td>\n      <td>...</td>\n    </tr>\n    <tr>\n      <th>龙鑫工业园-东门</th>\n      <td>114.096178</td>\n      <td>30.601215</td>\n      <td>114.108178</td>\n      <td>30.605215</td>\n      <td>汉口火车站|汉口站</td>\n      <td>114.243148</td>\n      <td>30.614872</td>\n      <td>114.255148</td>\n      <td>30.618872</td>\n      <td>5</td>\n      <td>114.096178</td>\n      <td>30.601215</td>\n      <td>114.108178</td>\n      <td>30.605215</td>\n      <td>东西湖区|九坤·五环华城</td>\n      <td>114.128160</td>\n      <td>30.603980</td>\n      <td>114.140160</td>\n      <td>30.607980</td>\n      <td>13</td>\n    </tr>\n    <tr>\n      <th>龙鑫工业园-东门</th>\n      <td>114.096178</td>\n      <td>30.601215</td>\n      <td>114.108178</td>\n      <td>30.605215</td>\n      <td>汉口火车站|汉口站</td>\n      <td>114.243148</td>\n      <td>30.614872</td>\n      <td>114.255148</td>\n      <td>30.618872</td>\n      <td>5</td>\n      <td>114.096178</td>\n      <td>30.601215</td>\n      <td>114.108178</td>\n      <td>30.605215</td>\n      <td>东西湖区|鑫城宜居</td>\n      <td>114.104957</td>\n      <td>30.620043</td>\n      <td>114.116957</td>\n      <td>30.624043</td>\n      <td>5</td>\n    </tr>\n    <tr>\n      <th>龙鑫工业园-东门</th>\n      <td>114.096178</td>\n      <td>30.601215</td>\n      <td>114.108178</td>\n      <td>30.605215</td>\n      <td>汉口火车站|汉口站</td>\n      <td>114.243148</td>\n      <td>30.614872</td>\n      <td>114.255148</td>\n      <td>30.618872</td>\n      <td>5</td>\n      <td>114.096178</td>\n      <td>30.601215</td>\n      <td>114.108178</td>\n      <td>30.605215</td>\n      <td>额头湾-地铁站</td>\n      <td>114.143580</td>\n      <td>30.614828</td>\n      <td>114.155580</td>\n      <td>30.618828</td>\n      <td>5</td>\n    </tr>\n    <tr>\n      <th>龙鑫工业园-东门</th>\n      <td>114.096178</td>\n      <td>30.601215</td>\n      <td>114.108178</td>\n      <td>30.605215</td>\n      <td>汉口火车站|汉口站</td>\n      <td>114.243148</td>\n      <td>30.614872</td>\n      <td>114.255148</td>\n      <td>30.618872</td>\n      <td>5</td>\n      <td>114.096178</td>\n      <td>30.601215</td>\n      <td>114.108178</td>\n      <td>30.605215</td>\n      <td>东西湖区|金来亚国际酒店(武汉唐人生生医院西南)</td>\n      <td>114.130636</td>\n      <td>30.631158</td>\n      <td>114.142636</td>\n      <td>30.635158</td>\n      <td>5</td>\n    </tr>\n    <tr>\n      <th>龙鑫工业园-东门</th>\n      <td>114.096178</td>\n      <td>30.601215</td>\n      <td>114.108178</td>\n      <td>30.605215</td>\n      <td>汉口火车站|汉口站</td>\n      <td>114.243148</td>\n      <td>30.614872</td>\n      <td>114.255148</td>\n      <td>30.618872</td>\n      <td>5</td>\n      <td>114.096178</td>\n      <td>30.601215</td>\n      <td>114.108178</td>\n      <td>30.605215</td>\n      <td>汉口火车站|汉口站</td>\n      <td>114.243148</td>\n      <td>30.614872</td>\n      <td>114.255148</td>\n      <td>30.618872</td>\n      <td>5</td>\n    </tr>\n  </tbody>\n</table>\n<p>318530 rows × 20 columns</p>\n</div>"
     },
     "metadata": {},
     "execution_count": 11
    }
   ],
   "source": [
    "left = df1.set_index([\"mapbegin\"])\n",
    "right = df2.set_index([\"mapbegin\"])\n",
    "left.join(right, lsuffix = \"_1\", rsuffix = \"_2\")"
   ]
  },
  {
   "cell_type": "code",
   "execution_count": null,
   "metadata": {},
   "outputs": [],
   "source": []
  }
 ]
}