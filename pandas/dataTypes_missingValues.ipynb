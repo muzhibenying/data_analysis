{
 "metadata": {
  "language_info": {
   "codemirror_mode": {
    "name": "ipython",
    "version": 3
   },
   "file_extension": ".py",
   "mimetype": "text/x-python",
   "name": "python",
   "nbconvert_exporter": "python",
   "pygments_lexer": "ipython3",
   "version": "3.6.13"
  },
  "orig_nbformat": 2,
  "kernelspec": {
   "name": "python3613jvsc74a57bd09fd4cc9f5c6849889bfc41643af1611b60f66354faabb4e34ca471757c77d320",
   "display_name": "Python 3.6.13 64-bit ('dgl': conda)"
  }
 },
 "nbformat": 4,
 "nbformat_minor": 2,
 "cells": [
  {
   "cell_type": "code",
   "execution_count": 1,
   "metadata": {},
   "outputs": [
    {
     "output_type": "execute_result",
     "data": {
      "text/plain": [
       "            mapbegin  mapbeginlon  mapbeginlat  mapbeginlon.1  mapbeginlat.1  \\\n",
       "0     民族大道光谷广场-公交站路东   114.386925    30.500459     114.398925      30.504459   \n",
       "1     民族大道光谷广场-公交站路东   114.386925    30.500459     114.398925      30.504459   \n",
       "2     民族大道光谷广场-公交站路东   114.386925    30.500459     114.398925      30.504459   \n",
       "3  纸坊|金逸影城(九全嘉国际广场店)   114.317790    30.354540     114.329790      30.358540   \n",
       "4        纸坊|美味传奇农家菜馆   114.306421    30.348027     114.318421      30.352027   \n",
       "\n",
       "      mapend   mapendlon  mapendlat  mapendlon.1  mapendlat.1  打车次数  \n",
       "0  光谷|曙光星城B区  114.391000  30.482508   114.403000    30.486508   174  \n",
       "1       光谷天地  114.397825  30.473273   114.409825    30.477273   158  \n",
       "2    光谷|丽顿酒店  114.410591  30.497201   114.422591    30.501201   145  \n",
       "3   纸坊|江夏体育馆  114.303393  30.349184   114.315393    30.353184   142  \n",
       "4  江夏区第一人民医院  114.308387  30.367964   114.320387    30.371964   140  "
      ],
      "text/html": "<div>\n<style scoped>\n    .dataframe tbody tr th:only-of-type {\n        vertical-align: middle;\n    }\n\n    .dataframe tbody tr th {\n        vertical-align: top;\n    }\n\n    .dataframe thead th {\n        text-align: right;\n    }\n</style>\n<table border=\"1\" class=\"dataframe\">\n  <thead>\n    <tr style=\"text-align: right;\">\n      <th></th>\n      <th>mapbegin</th>\n      <th>mapbeginlon</th>\n      <th>mapbeginlat</th>\n      <th>mapbeginlon.1</th>\n      <th>mapbeginlat.1</th>\n      <th>mapend</th>\n      <th>mapendlon</th>\n      <th>mapendlat</th>\n      <th>mapendlon.1</th>\n      <th>mapendlat.1</th>\n      <th>打车次数</th>\n    </tr>\n  </thead>\n  <tbody>\n    <tr>\n      <th>0</th>\n      <td>民族大道光谷广场-公交站路东</td>\n      <td>114.386925</td>\n      <td>30.500459</td>\n      <td>114.398925</td>\n      <td>30.504459</td>\n      <td>光谷|曙光星城B区</td>\n      <td>114.391000</td>\n      <td>30.482508</td>\n      <td>114.403000</td>\n      <td>30.486508</td>\n      <td>174</td>\n    </tr>\n    <tr>\n      <th>1</th>\n      <td>民族大道光谷广场-公交站路东</td>\n      <td>114.386925</td>\n      <td>30.500459</td>\n      <td>114.398925</td>\n      <td>30.504459</td>\n      <td>光谷天地</td>\n      <td>114.397825</td>\n      <td>30.473273</td>\n      <td>114.409825</td>\n      <td>30.477273</td>\n      <td>158</td>\n    </tr>\n    <tr>\n      <th>2</th>\n      <td>民族大道光谷广场-公交站路东</td>\n      <td>114.386925</td>\n      <td>30.500459</td>\n      <td>114.398925</td>\n      <td>30.504459</td>\n      <td>光谷|丽顿酒店</td>\n      <td>114.410591</td>\n      <td>30.497201</td>\n      <td>114.422591</td>\n      <td>30.501201</td>\n      <td>145</td>\n    </tr>\n    <tr>\n      <th>3</th>\n      <td>纸坊|金逸影城(九全嘉国际广场店)</td>\n      <td>114.317790</td>\n      <td>30.354540</td>\n      <td>114.329790</td>\n      <td>30.358540</td>\n      <td>纸坊|江夏体育馆</td>\n      <td>114.303393</td>\n      <td>30.349184</td>\n      <td>114.315393</td>\n      <td>30.353184</td>\n      <td>142</td>\n    </tr>\n    <tr>\n      <th>4</th>\n      <td>纸坊|美味传奇农家菜馆</td>\n      <td>114.306421</td>\n      <td>30.348027</td>\n      <td>114.318421</td>\n      <td>30.352027</td>\n      <td>江夏区第一人民医院</td>\n      <td>114.308387</td>\n      <td>30.367964</td>\n      <td>114.320387</td>\n      <td>30.371964</td>\n      <td>140</td>\n    </tr>\n  </tbody>\n</table>\n</div>"
     },
     "metadata": {},
     "execution_count": 1
    }
   ],
   "source": [
    "import pandas as pd\n",
    "df = pd.read_excel(\"../武汉打车.xlsx\", engine = \"openpyxl\")\n",
    "df.head()"
   ]
  },
  {
   "cell_type": "code",
   "execution_count": 2,
   "metadata": {},
   "outputs": [
    {
     "output_type": "execute_result",
     "data": {
      "text/plain": [
       "dtype('O')"
      ]
     },
     "metadata": {},
     "execution_count": 2
    }
   ],
   "source": [
    "df.mapbegin.dtype"
   ]
  },
  {
   "source": [
    "* 'b'       boolean\n",
    "* 'i'       (signed) integer\n",
    "* 'u'       unsigned integer\n",
    "* 'f'       floating-point\n",
    "* 'c'       complex-floating point\n",
    "* 'O'       (Python) objects\n",
    "* 'S', 'a'  (byte-)string\n",
    "* 'U'       Unicode\n",
    "* 'V'       raw data (void)"
   ],
   "cell_type": "markdown",
   "metadata": {}
  },
  {
   "cell_type": "code",
   "execution_count": 3,
   "metadata": {},
   "outputs": [
    {
     "output_type": "execute_result",
     "data": {
      "text/plain": [
       "mapbegin          object\n",
       "mapbeginlon      float64\n",
       "mapbeginlat      float64\n",
       "mapbeginlon.1    float64\n",
       "mapbeginlat.1    float64\n",
       "mapend            object\n",
       "mapendlon        float64\n",
       "mapendlat        float64\n",
       "mapendlon.1      float64\n",
       "mapendlat.1      float64\n",
       "打车次数               int64\n",
       "dtype: object"
      ]
     },
     "metadata": {},
     "execution_count": 3
    }
   ],
   "source": [
    "df.dtypes"
   ]
  },
  {
   "cell_type": "code",
   "execution_count": 4,
   "metadata": {},
   "outputs": [
    {
     "output_type": "execute_result",
     "data": {
      "text/plain": [
       "0       174.0\n",
       "1       158.0\n",
       "2       145.0\n",
       "3       142.0\n",
       "4       140.0\n",
       "        ...  \n",
       "8351      5.0\n",
       "8352      5.0\n",
       "8353      5.0\n",
       "8354      5.0\n",
       "8355      5.0\n",
       "Name: 打车次数, Length: 8356, dtype: float64"
      ]
     },
     "metadata": {},
     "execution_count": 4
    }
   ],
   "source": [
    "df.打车次数.astype(\"float64\")"
   ]
  },
  {
   "cell_type": "code",
   "execution_count": 5,
   "metadata": {},
   "outputs": [
    {
     "output_type": "execute_result",
     "data": {
      "text/plain": [
       "dtype('int64')"
      ]
     },
     "metadata": {},
     "execution_count": 5
    }
   ],
   "source": [
    "df.index.dtype"
   ]
  },
  {
   "cell_type": "code",
   "execution_count": 22,
   "metadata": {},
   "outputs": [
    {
     "output_type": "execute_result",
     "data": {
      "text/plain": [
       "    Name   Age\n",
       "0  Alice  12.0\n",
       "1    Bob  13.0\n",
       "2   None   NaN"
      ],
      "text/html": "<div>\n<style scoped>\n    .dataframe tbody tr th:only-of-type {\n        vertical-align: middle;\n    }\n\n    .dataframe tbody tr th {\n        vertical-align: top;\n    }\n\n    .dataframe thead th {\n        text-align: right;\n    }\n</style>\n<table border=\"1\" class=\"dataframe\">\n  <thead>\n    <tr style=\"text-align: right;\">\n      <th></th>\n      <th>Name</th>\n      <th>Age</th>\n    </tr>\n  </thead>\n  <tbody>\n    <tr>\n      <th>0</th>\n      <td>Alice</td>\n      <td>12.0</td>\n    </tr>\n    <tr>\n      <th>1</th>\n      <td>Bob</td>\n      <td>13.0</td>\n    </tr>\n    <tr>\n      <th>2</th>\n      <td>None</td>\n      <td>NaN</td>\n    </tr>\n  </tbody>\n</table>\n</div>"
     },
     "metadata": {},
     "execution_count": 22
    }
   ],
   "source": [
    "reviews = pd.DataFrame({\"Name\": [\"Alice\", \"Bob\", None], \"Age\":[12, 13, None]})\n",
    "reviews"
   ]
  },
  {
   "cell_type": "code",
   "execution_count": 10,
   "metadata": {},
   "outputs": [
    {
     "output_type": "execute_result",
     "data": {
      "text/plain": [
       "0    False\n",
       "1    False\n",
       "2     True\n",
       "Name: Name, dtype: bool"
      ]
     },
     "metadata": {},
     "execution_count": 10
    }
   ],
   "source": [
    "pd.isnull(reviews.Name)"
   ]
  },
  {
   "cell_type": "code",
   "execution_count": 12,
   "metadata": {},
   "outputs": [
    {
     "output_type": "execute_result",
     "data": {
      "text/plain": [
       "   Name  Age\n",
       "2  None  NaN"
      ],
      "text/html": "<div>\n<style scoped>\n    .dataframe tbody tr th:only-of-type {\n        vertical-align: middle;\n    }\n\n    .dataframe tbody tr th {\n        vertical-align: top;\n    }\n\n    .dataframe thead th {\n        text-align: right;\n    }\n</style>\n<table border=\"1\" class=\"dataframe\">\n  <thead>\n    <tr style=\"text-align: right;\">\n      <th></th>\n      <th>Name</th>\n      <th>Age</th>\n    </tr>\n  </thead>\n  <tbody>\n    <tr>\n      <th>2</th>\n      <td>None</td>\n      <td>NaN</td>\n    </tr>\n  </tbody>\n</table>\n</div>"
     },
     "metadata": {},
     "execution_count": 12
    }
   ],
   "source": [
    "reviews[pd.isnull(reviews.Name)]"
   ]
  },
  {
   "cell_type": "code",
   "execution_count": 24,
   "metadata": {},
   "outputs": [
    {
     "output_type": "execute_result",
     "data": {
      "text/plain": [
       "      Name   Age\n",
       "0    Alice  12.0\n",
       "1      Bob  13.0\n",
       "2  Unknown   NaN"
      ],
      "text/html": "<div>\n<style scoped>\n    .dataframe tbody tr th:only-of-type {\n        vertical-align: middle;\n    }\n\n    .dataframe tbody tr th {\n        vertical-align: top;\n    }\n\n    .dataframe thead th {\n        text-align: right;\n    }\n</style>\n<table border=\"1\" class=\"dataframe\">\n  <thead>\n    <tr style=\"text-align: right;\">\n      <th></th>\n      <th>Name</th>\n      <th>Age</th>\n    </tr>\n  </thead>\n  <tbody>\n    <tr>\n      <th>0</th>\n      <td>Alice</td>\n      <td>12.0</td>\n    </tr>\n    <tr>\n      <th>1</th>\n      <td>Bob</td>\n      <td>13.0</td>\n    </tr>\n    <tr>\n      <th>2</th>\n      <td>Unknown</td>\n      <td>NaN</td>\n    </tr>\n  </tbody>\n</table>\n</div>"
     },
     "metadata": {},
     "execution_count": 24
    }
   ],
   "source": [
    "reviews.Name = reviews.Name.fillna(\"Unknown\")\n",
    "reviews"
   ]
  },
  {
   "cell_type": "code",
   "execution_count": 26,
   "metadata": {},
   "outputs": [
    {
     "output_type": "execute_result",
     "data": {
      "text/plain": [
       "0    Alice\n",
       "1      Bob\n",
       "2    Kevin\n",
       "Name: Name, dtype: object"
      ]
     },
     "metadata": {},
     "execution_count": 26
    }
   ],
   "source": [
    "reviews.Name.replace(\"Unknown\", \"Kevin\")"
   ]
  },
  {
   "cell_type": "code",
   "execution_count": null,
   "metadata": {},
   "outputs": [],
   "source": []
  }
 ]
}